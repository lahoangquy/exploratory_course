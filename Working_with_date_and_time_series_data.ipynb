{
  "nbformat": 4,
  "nbformat_minor": 0,
  "metadata": {
    "colab": {
      "name": "Working with date and time series data.ipynb",
      "provenance": [],
      "collapsed_sections": []
    },
    "kernelspec": {
      "name": "python3",
      "display_name": "Python 3"
    },
    "language_info": {
      "name": "python"
    }
  },
  "cells": [
    {
      "cell_type": "markdown",
      "metadata": {
        "id": "6gU8-BDKRnOS"
      },
      "source": [
        "In this video we will take a closer look at how to work with date and time series data in pandas.\n",
        "\n",
        "We will see how to:\n",
        "\n",
        "\n",
        "*   Convert strings to datetime types for advanced datetime series operations\n",
        "\n",
        "*   Select and filter datetime series data\n",
        "*   Explore properties of series data\n",
        "\n",
        "\n",
        "\n",
        "\n"
      ]
    },
    {
      "cell_type": "code",
      "metadata": {
        "id": "KzpU3t_cROcG"
      },
      "source": [
        "import pandas as pd\n",
        "dataset = pd.DataFrame({'DOB': ['1976-06-01', '1980-09-23', '1984-03-30', '1991-12-31', '1994-10-2', '1973-11-11'], \n",
        "                        'Sex': ['F', 'M', 'F', 'M', 'M', 'F'], \n",
        "                        'State': ['CA', 'NY', 'OH', 'OR', 'TX', 'CA'], \n",
        "                        'Name': ['Jane', 'John', 'Cathy', 'Jo', 'Sam', 'Tai']})"
      ],
      "execution_count": 2,
      "outputs": []
    },
    {
      "cell_type": "markdown",
      "metadata": {
        "id": "7v38OKhTSGnX"
      },
      "source": [
        "This dataset contains 4 columns and 5 rows corresponding to 5 fictional people. One of the rows present in our dataset is DOB which contains the date of birth of the 5 people.\n",
        "\n",
        "It is essential to check if the data present int eh DOB column is the right datatype."
      ]
    },
    {
      "cell_type": "code",
      "metadata": {
        "colab": {
          "base_uri": "https://localhost:8080/"
        },
        "id": "t5MRfFuySihi",
        "outputId": "bcb1c37f-f4b2-4569-b5e3-bce0c64cb0bf"
      },
      "source": [
        "dataset.dtypes"
      ],
      "execution_count": 3,
      "outputs": [
        {
          "output_type": "execute_result",
          "data": {
            "text/plain": [
              "DOB      object\n",
              "Sex      object\n",
              "State    object\n",
              "Name     object\n",
              "dtype: object"
            ]
          },
          "metadata": {
            "tags": []
          },
          "execution_count": 3
        }
      ]
    },
    {
      "cell_type": "markdown",
      "metadata": {
        "id": "ohAPyhNKSoeP"
      },
      "source": [
        "As observed in the output, it is possible that the DOB column was set to the object or string datatype during creation. To change this to the datetime datatype we will use to_datetime() emthod and pass the DOB column to it."
      ]
    },
    {
      "cell_type": "code",
      "metadata": {
        "id": "RXB457DHS64M"
      },
      "source": [
        "dataset.DOB = pd.to_datetime(dataset.DOB)"
      ],
      "execution_count": 4,
      "outputs": []
    },
    {
      "cell_type": "code",
      "metadata": {
        "colab": {
          "base_uri": "https://localhost:8080/"
        },
        "id": "EVDQVomXTC-N",
        "outputId": "20b6f42d-ef06-4646-8202-542bf4c273d2"
      },
      "source": [
        "dataset.dtypes"
      ],
      "execution_count": 5,
      "outputs": [
        {
          "output_type": "execute_result",
          "data": {
            "text/plain": [
              "DOB      datetime64[ns]\n",
              "Sex              object\n",
              "State            object\n",
              "Name             object\n",
              "dtype: object"
            ]
          },
          "metadata": {
            "tags": []
          },
          "execution_count": 5
        }
      ]
    },
    {
      "cell_type": "markdown",
      "metadata": {
        "id": "pt4yT1cgTG34"
      },
      "source": [
        "Before moving on to selecting and filtering the datetime series, we will need to make sure that the index is set for the DOB column. "
      ]
    },
    {
      "cell_type": "code",
      "metadata": {
        "id": "eddoYJXQTPoI"
      },
      "source": [
        "dataset.set_index('DOB', inplace=True)"
      ],
      "execution_count": 6,
      "outputs": []
    },
    {
      "cell_type": "markdown",
      "metadata": {
        "id": "JdSt2P0dTVsE"
      },
      "source": [
        "After this our DOB column is ready to be explored. If we want to take a look at the dataset, we  can do so by using the codeword dataset."
      ]
    },
    {
      "cell_type": "code",
      "metadata": {
        "colab": {
          "base_uri": "https://localhost:8080/",
          "height": 265
        },
        "id": "wvzBTUPSThkk",
        "outputId": "75c0702f-c787-4edf-ae96-a275d84953d5"
      },
      "source": [
        "dataset"
      ],
      "execution_count": 7,
      "outputs": [
        {
          "output_type": "execute_result",
          "data": {
            "text/html": [
              "<div>\n",
              "<style scoped>\n",
              "    .dataframe tbody tr th:only-of-type {\n",
              "        vertical-align: middle;\n",
              "    }\n",
              "\n",
              "    .dataframe tbody tr th {\n",
              "        vertical-align: top;\n",
              "    }\n",
              "\n",
              "    .dataframe thead th {\n",
              "        text-align: right;\n",
              "    }\n",
              "</style>\n",
              "<table border=\"1\" class=\"dataframe\">\n",
              "  <thead>\n",
              "    <tr style=\"text-align: right;\">\n",
              "      <th></th>\n",
              "      <th>Sex</th>\n",
              "      <th>State</th>\n",
              "      <th>Name</th>\n",
              "    </tr>\n",
              "    <tr>\n",
              "      <th>DOB</th>\n",
              "      <th></th>\n",
              "      <th></th>\n",
              "      <th></th>\n",
              "    </tr>\n",
              "  </thead>\n",
              "  <tbody>\n",
              "    <tr>\n",
              "      <th>1976-06-01</th>\n",
              "      <td>F</td>\n",
              "      <td>CA</td>\n",
              "      <td>Jane</td>\n",
              "    </tr>\n",
              "    <tr>\n",
              "      <th>1980-09-23</th>\n",
              "      <td>M</td>\n",
              "      <td>NY</td>\n",
              "      <td>John</td>\n",
              "    </tr>\n",
              "    <tr>\n",
              "      <th>1984-03-30</th>\n",
              "      <td>F</td>\n",
              "      <td>OH</td>\n",
              "      <td>Cathy</td>\n",
              "    </tr>\n",
              "    <tr>\n",
              "      <th>1991-12-31</th>\n",
              "      <td>M</td>\n",
              "      <td>OR</td>\n",
              "      <td>Jo</td>\n",
              "    </tr>\n",
              "    <tr>\n",
              "      <th>1994-10-02</th>\n",
              "      <td>M</td>\n",
              "      <td>TX</td>\n",
              "      <td>Sam</td>\n",
              "    </tr>\n",
              "    <tr>\n",
              "      <th>1973-11-11</th>\n",
              "      <td>F</td>\n",
              "      <td>CA</td>\n",
              "      <td>Tai</td>\n",
              "    </tr>\n",
              "  </tbody>\n",
              "</table>\n",
              "</div>"
            ],
            "text/plain": [
              "           Sex State   Name\n",
              "DOB                        \n",
              "1976-06-01   F    CA   Jane\n",
              "1980-09-23   M    NY   John\n",
              "1984-03-30   F    OH  Cathy\n",
              "1991-12-31   M    OR     Jo\n",
              "1994-10-02   M    TX    Sam\n",
              "1973-11-11   F    CA    Tai"
            ]
          },
          "metadata": {
            "tags": []
          },
          "execution_count": 7
        }
      ]
    },
    {
      "cell_type": "markdown",
      "metadata": {
        "id": "HnhhqUG_TlQb"
      },
      "source": [
        "Before we start with filtering we need to understand that there are 4 possible ways to filter the data present in the DOB column.\n",
        "\n",
        "\n",
        "\n",
        "*   Records for a single year: To display the records for a single year.\n",
        "\n",
        "\n",
        "*   Record for and after a particular year: To display all of the records for and after a  particular year.\n",
        "\n",
        "*   Records up until a particular year: To display all records up to and including a particular year.\n",
        "*   Records that exist in a range of years: To display the records for a given range of years.\n",
        "\n",
        "\n",
        "\n",
        "\n",
        "\n",
        "\n"
      ]
    },
    {
      "cell_type": "code",
      "metadata": {
        "colab": {
          "base_uri": "https://localhost:8080/",
          "height": 110
        },
        "id": "n_nCTOVOUOid",
        "outputId": "dbfe049a-7450-4922-edf3-83e4a9c4ad6c"
      },
      "source": [
        "# Records for a single year:\n",
        "dataset['1980']"
      ],
      "execution_count": 8,
      "outputs": [
        {
          "output_type": "execute_result",
          "data": {
            "text/html": [
              "<div>\n",
              "<style scoped>\n",
              "    .dataframe tbody tr th:only-of-type {\n",
              "        vertical-align: middle;\n",
              "    }\n",
              "\n",
              "    .dataframe tbody tr th {\n",
              "        vertical-align: top;\n",
              "    }\n",
              "\n",
              "    .dataframe thead th {\n",
              "        text-align: right;\n",
              "    }\n",
              "</style>\n",
              "<table border=\"1\" class=\"dataframe\">\n",
              "  <thead>\n",
              "    <tr style=\"text-align: right;\">\n",
              "      <th></th>\n",
              "      <th>Sex</th>\n",
              "      <th>State</th>\n",
              "      <th>Name</th>\n",
              "    </tr>\n",
              "    <tr>\n",
              "      <th>DOB</th>\n",
              "      <th></th>\n",
              "      <th></th>\n",
              "      <th></th>\n",
              "    </tr>\n",
              "  </thead>\n",
              "  <tbody>\n",
              "    <tr>\n",
              "      <th>1980-09-23</th>\n",
              "      <td>M</td>\n",
              "      <td>NY</td>\n",
              "      <td>John</td>\n",
              "    </tr>\n",
              "  </tbody>\n",
              "</table>\n",
              "</div>"
            ],
            "text/plain": [
              "           Sex State  Name\n",
              "DOB                       \n",
              "1980-09-23   M    NY  John"
            ]
          },
          "metadata": {
            "tags": []
          },
          "execution_count": 8
        }
      ]
    },
    {
      "cell_type": "code",
      "metadata": {
        "colab": {
          "base_uri": "https://localhost:8080/",
          "height": 203
        },
        "id": "Y1NxOHqwUXtg",
        "outputId": "57723129-7d1b-44a9-ece5-cf5d1f679ead"
      },
      "source": [
        "# Record for and after a particular year: \n",
        "dataset['1980':]"
      ],
      "execution_count": 14,
      "outputs": [
        {
          "output_type": "execute_result",
          "data": {
            "text/html": [
              "<div>\n",
              "<style scoped>\n",
              "    .dataframe tbody tr th:only-of-type {\n",
              "        vertical-align: middle;\n",
              "    }\n",
              "\n",
              "    .dataframe tbody tr th {\n",
              "        vertical-align: top;\n",
              "    }\n",
              "\n",
              "    .dataframe thead th {\n",
              "        text-align: right;\n",
              "    }\n",
              "</style>\n",
              "<table border=\"1\" class=\"dataframe\">\n",
              "  <thead>\n",
              "    <tr style=\"text-align: right;\">\n",
              "      <th></th>\n",
              "      <th>Sex</th>\n",
              "      <th>State</th>\n",
              "      <th>Name</th>\n",
              "    </tr>\n",
              "    <tr>\n",
              "      <th>DOB</th>\n",
              "      <th></th>\n",
              "      <th></th>\n",
              "      <th></th>\n",
              "    </tr>\n",
              "  </thead>\n",
              "  <tbody>\n",
              "    <tr>\n",
              "      <th>1980-09-23</th>\n",
              "      <td>M</td>\n",
              "      <td>NY</td>\n",
              "      <td>John</td>\n",
              "    </tr>\n",
              "    <tr>\n",
              "      <th>1984-03-30</th>\n",
              "      <td>F</td>\n",
              "      <td>OH</td>\n",
              "      <td>Cathy</td>\n",
              "    </tr>\n",
              "    <tr>\n",
              "      <th>1991-12-31</th>\n",
              "      <td>M</td>\n",
              "      <td>OR</td>\n",
              "      <td>Jo</td>\n",
              "    </tr>\n",
              "    <tr>\n",
              "      <th>1994-10-02</th>\n",
              "      <td>M</td>\n",
              "      <td>TX</td>\n",
              "      <td>Sam</td>\n",
              "    </tr>\n",
              "  </tbody>\n",
              "</table>\n",
              "</div>"
            ],
            "text/plain": [
              "           Sex State   Name\n",
              "DOB                        \n",
              "1980-09-23   M    NY   John\n",
              "1984-03-30   F    OH  Cathy\n",
              "1991-12-31   M    OR     Jo\n",
              "1994-10-02   M    TX    Sam"
            ]
          },
          "metadata": {
            "tags": []
          },
          "execution_count": 14
        }
      ]
    },
    {
      "cell_type": "code",
      "metadata": {
        "colab": {
          "base_uri": "https://localhost:8080/",
          "height": 142
        },
        "id": "DpCmPsfNV-ZC",
        "outputId": "a739459d-17c6-42f1-bb93-b0d40624b6c3"
      },
      "source": [
        "# Records that exist in a range of years:\n",
        "dataset['1980':'1984']"
      ],
      "execution_count": 20,
      "outputs": [
        {
          "output_type": "execute_result",
          "data": {
            "text/html": [
              "<div>\n",
              "<style scoped>\n",
              "    .dataframe tbody tr th:only-of-type {\n",
              "        vertical-align: middle;\n",
              "    }\n",
              "\n",
              "    .dataframe tbody tr th {\n",
              "        vertical-align: top;\n",
              "    }\n",
              "\n",
              "    .dataframe thead th {\n",
              "        text-align: right;\n",
              "    }\n",
              "</style>\n",
              "<table border=\"1\" class=\"dataframe\">\n",
              "  <thead>\n",
              "    <tr style=\"text-align: right;\">\n",
              "      <th></th>\n",
              "      <th>Sex</th>\n",
              "      <th>State</th>\n",
              "      <th>Name</th>\n",
              "    </tr>\n",
              "    <tr>\n",
              "      <th>DOB</th>\n",
              "      <th></th>\n",
              "      <th></th>\n",
              "      <th></th>\n",
              "    </tr>\n",
              "  </thead>\n",
              "  <tbody>\n",
              "    <tr>\n",
              "      <th>1980-09-23</th>\n",
              "      <td>M</td>\n",
              "      <td>NY</td>\n",
              "      <td>John</td>\n",
              "    </tr>\n",
              "    <tr>\n",
              "      <th>1984-03-30</th>\n",
              "      <td>F</td>\n",
              "      <td>OH</td>\n",
              "      <td>Cathy</td>\n",
              "    </tr>\n",
              "  </tbody>\n",
              "</table>\n",
              "</div>"
            ],
            "text/plain": [
              "           Sex State   Name\n",
              "DOB                        \n",
              "1980-09-23   M    NY   John\n",
              "1984-03-30   F    OH  Cathy"
            ]
          },
          "metadata": {
            "tags": []
          },
          "execution_count": 20
        }
      ]
    },
    {
      "cell_type": "markdown",
      "metadata": {
        "id": "zhDwvlLTWFwy"
      },
      "source": [
        "We can also use the time series properties to make the most efficient use of the datatime series data. The drawback in using this functionality is that the datetime filed needs to be a column, not a row.\n",
        "\n",
        "\n",
        "This can be done by resetting the DOB to an index."
      ]
    },
    {
      "cell_type": "code",
      "metadata": {
        "id": "MQdM-zpbWVae"
      },
      "source": [
        "dataset.reset_index(inplace=True)"
      ],
      "execution_count": 21,
      "outputs": []
    },
    {
      "cell_type": "markdown",
      "metadata": {
        "id": "_xK1-PDXWcsB"
      },
      "source": [
        "We would also need to get the corresponding day of the year for each value in the datetime column. This can be done by calling the dayofyear property."
      ]
    },
    {
      "cell_type": "code",
      "metadata": {
        "colab": {
          "base_uri": "https://localhost:8080/"
        },
        "id": "Iw2PiHiEWbR0",
        "outputId": "e2cab383-983a-4631-86a8-af8f19b51c3c"
      },
      "source": [
        "dataset.DOB.dt.dayofyear"
      ],
      "execution_count": 22,
      "outputs": [
        {
          "output_type": "execute_result",
          "data": {
            "text/plain": [
              "0    153\n",
              "1    267\n",
              "2     90\n",
              "3    365\n",
              "4    275\n",
              "5    315\n",
              "Name: DOB, dtype: int64"
            ]
          },
          "metadata": {
            "tags": []
          },
          "execution_count": 22
        }
      ]
    },
    {
      "cell_type": "markdown",
      "metadata": {
        "id": "lxzxg7XcWxBa"
      },
      "source": [
        "We can also display the day of the week by calling the weekday property."
      ]
    },
    {
      "cell_type": "code",
      "metadata": {
        "colab": {
          "base_uri": "https://localhost:8080/"
        },
        "id": "ZgmkbVPdW3Bh",
        "outputId": "d54cd887-b930-4b83-8ad9-eb3b38d15631"
      },
      "source": [
        "dataset.DOB.dt.weekday"
      ],
      "execution_count": 24,
      "outputs": [
        {
          "output_type": "execute_result",
          "data": {
            "text/plain": [
              "0    1\n",
              "1    1\n",
              "2    4\n",
              "3    1\n",
              "4    6\n",
              "5    6\n",
              "Name: DOB, dtype: int64"
            ]
          },
          "metadata": {
            "tags": []
          },
          "execution_count": 24
        }
      ]
    }
  ]
}