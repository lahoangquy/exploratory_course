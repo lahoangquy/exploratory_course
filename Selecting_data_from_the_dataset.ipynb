{
  "nbformat": 4,
  "nbformat_minor": 0,
  "metadata": {
    "colab": {
      "name": "Selecting data from the dataset.ipynb",
      "provenance": []
    },
    "kernelspec": {
      "name": "python3",
      "display_name": "Python 3"
    },
    "language_info": {
      "name": "python"
    }
  },
  "cells": [
    {
      "cell_type": "markdown",
      "metadata": {
        "id": "Hugy7AglHHtm"
      },
      "source": [
        "In this new section - Data selection, we will learn about advanced techniques of data selection with pandas, how to select a subset of data, how to select multiple rows and columns from a dataset, how to do sorting on a pandas DataFrame or a series, how to filter roles of a pandas DataFrame and also learn how to apply multiple filters to a pandas DataFrame. We will also loook at how to use the axis parameter in pandas and the uses of string methods in pandas. Finally we will learn how to change the datatype of a pandas series."
      ]
    },
    {
      "cell_type": "markdown",
      "metadata": {
        "id": "3JrCo8f4Hx4G"
      },
      "source": [
        "We will be suing a real dataset from zillow.com, an online real estate marketplace that releases house price datasets as part of their research effort."
      ]
    },
    {
      "cell_type": "code",
      "metadata": {
        "colab": {
          "base_uri": "https://localhost:8080/"
        },
        "id": "VOvd2BYXGLye",
        "outputId": "43331980-47c0-4d7b-cbd2-a05f9d3a362a"
      },
      "source": [
        "from google.colab import drive\n",
        "drive.mount('/content/drive')"
      ],
      "execution_count": 1,
      "outputs": [
        {
          "output_type": "stream",
          "text": [
            "Mounted at /content/drive\n"
          ],
          "name": "stdout"
        }
      ]
    },
    {
      "cell_type": "code",
      "metadata": {
        "colab": {
          "base_uri": "https://localhost:8080/"
        },
        "id": "jtA_a5ILGSCV",
        "outputId": "0f61a604-894e-4446-8c1e-2cb0010295be"
      },
      "source": [
        "%cd /content/drive/My Drive/Colab Notebooks"
      ],
      "execution_count": 2,
      "outputs": [
        {
          "output_type": "stream",
          "text": [
            "/content/drive/My Drive/Colab Notebooks\n"
          ],
          "name": "stdout"
        }
      ]
    },
    {
      "cell_type": "code",
      "metadata": {
        "id": "x4unyqB9ICml"
      },
      "source": [
        "# We will import the pandas modules\n",
        "import pandas as pd"
      ],
      "execution_count": 3,
      "outputs": []
    },
    {
      "cell_type": "markdown",
      "metadata": {
        "id": "aI5YxffjIICy"
      },
      "source": [
        "We will then read in our dataset. Since it is a CSV file, we will be using a pandas'read_csv method for this. We will pass the file name with a comma as a separator to the read_csv method and we will create a DataFrame out of this data which we name data"
      ]
    },
    {
      "cell_type": "code",
      "metadata": {
        "colab": {
          "base_uri": "https://localhost:8080/",
          "height": 203
        },
        "id": "k-NivjVTIbdp",
        "outputId": "331b3a8f-510a-411c-fa75-76395143d22c"
      },
      "source": [
        "data= pd.read_csv('data-zillow.csv', sep=',')\n",
        "data.head()"
      ],
      "execution_count": 4,
      "outputs": [
        {
          "output_type": "execute_result",
          "data": {
            "text/html": [
              "<div>\n",
              "<style scoped>\n",
              "    .dataframe tbody tr th:only-of-type {\n",
              "        vertical-align: middle;\n",
              "    }\n",
              "\n",
              "    .dataframe tbody tr th {\n",
              "        vertical-align: top;\n",
              "    }\n",
              "\n",
              "    .dataframe thead th {\n",
              "        text-align: right;\n",
              "    }\n",
              "</style>\n",
              "<table border=\"1\" class=\"dataframe\">\n",
              "  <thead>\n",
              "    <tr style=\"text-align: right;\">\n",
              "      <th></th>\n",
              "      <th>Date</th>\n",
              "      <th>RegionID</th>\n",
              "      <th>RegionName</th>\n",
              "      <th>State</th>\n",
              "      <th>Metro</th>\n",
              "      <th>County</th>\n",
              "      <th>SizeRank</th>\n",
              "      <th>Zhvi</th>\n",
              "    </tr>\n",
              "  </thead>\n",
              "  <tbody>\n",
              "    <tr>\n",
              "      <th>0</th>\n",
              "      <td>2017-05-31</td>\n",
              "      <td>6181</td>\n",
              "      <td>New York</td>\n",
              "      <td>NY</td>\n",
              "      <td>New York</td>\n",
              "      <td>Queens</td>\n",
              "      <td>0</td>\n",
              "      <td>672400</td>\n",
              "    </tr>\n",
              "    <tr>\n",
              "      <th>1</th>\n",
              "      <td>2017-05-31</td>\n",
              "      <td>12447</td>\n",
              "      <td>Los Angeles</td>\n",
              "      <td>CA</td>\n",
              "      <td>Los Angeles-Long Beach-Anaheim</td>\n",
              "      <td>Los Angeles</td>\n",
              "      <td>1</td>\n",
              "      <td>629900</td>\n",
              "    </tr>\n",
              "    <tr>\n",
              "      <th>2</th>\n",
              "      <td>2017-05-31</td>\n",
              "      <td>17426</td>\n",
              "      <td>Chicago</td>\n",
              "      <td>IL</td>\n",
              "      <td>Chicago</td>\n",
              "      <td>Cook</td>\n",
              "      <td>2</td>\n",
              "      <td>222700</td>\n",
              "    </tr>\n",
              "    <tr>\n",
              "      <th>3</th>\n",
              "      <td>2017-05-31</td>\n",
              "      <td>13271</td>\n",
              "      <td>Philadelphia</td>\n",
              "      <td>PA</td>\n",
              "      <td>Philadelphia</td>\n",
              "      <td>Philadelphia</td>\n",
              "      <td>3</td>\n",
              "      <td>137300</td>\n",
              "    </tr>\n",
              "    <tr>\n",
              "      <th>4</th>\n",
              "      <td>2017-05-31</td>\n",
              "      <td>40326</td>\n",
              "      <td>Phoenix</td>\n",
              "      <td>AZ</td>\n",
              "      <td>Phoenix</td>\n",
              "      <td>Maricopa</td>\n",
              "      <td>4</td>\n",
              "      <td>211300</td>\n",
              "    </tr>\n",
              "  </tbody>\n",
              "</table>\n",
              "</div>"
            ],
            "text/plain": [
              "         Date  RegionID    RegionName  ...        County SizeRank    Zhvi\n",
              "0  2017-05-31      6181      New York  ...        Queens        0  672400\n",
              "1  2017-05-31     12447   Los Angeles  ...   Los Angeles        1  629900\n",
              "2  2017-05-31     17426       Chicago  ...          Cook        2  222700\n",
              "3  2017-05-31     13271  Philadelphia  ...  Philadelphia        3  137300\n",
              "4  2017-05-31     40326       Phoenix  ...      Maricopa        4  211300\n",
              "\n",
              "[5 rows x 8 columns]"
            ]
          },
          "metadata": {
            "tags": []
          },
          "execution_count": 4
        }
      ]
    },
    {
      "cell_type": "markdown",
      "metadata": {
        "id": "Z6qcCLDXIwsH"
      },
      "source": [
        "The DataFrame is created and we did read a few records from the dataset by performing the data.head() method on the DataFrame. This will give the output with columns, such as Date, and some location fields, such as RegionName, State, Metro and Country. The last column title Zhvi is a Zillow term and is the mean house price of that particular region."
      ]
    }
  ]
}