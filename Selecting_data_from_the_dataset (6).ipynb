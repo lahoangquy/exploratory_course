{
  "nbformat": 4,
  "nbformat_minor": 0,
  "metadata": {
    "colab": {
      "name": "Selecting data from the dataset.ipynb",
      "provenance": []
    },
    "kernelspec": {
      "name": "python3",
      "display_name": "Python 3"
    },
    "language_info": {
      "name": "python"
    }
  },
  "cells": [
    {
      "cell_type": "markdown",
      "metadata": {
        "id": "Hugy7AglHHtm"
      },
      "source": [
        "In this new section - Data selection, we will learn about advanced techniques of data selection with pandas, how to select a subset of data, how to select multiple rows and columns from a dataset, how to do sorting on a pandas DataFrame or a series, how to filter roles of a pandas DataFrame and also learn how to apply multiple filters to a pandas DataFrame. We will also loook at how to use the axis parameter in pandas and the uses of string methods in pandas. Finally we will learn how to change the datatype of a pandas series."
      ]
    },
    {
      "cell_type": "markdown",
      "metadata": {
        "id": "3JrCo8f4Hx4G"
      },
      "source": [
        "We will be suing a real dataset from zillow.com, an online real estate marketplace that releases house price datasets as part of their research effort."
      ]
    },
    {
      "cell_type": "code",
      "metadata": {
        "colab": {
          "base_uri": "https://localhost:8080/"
        },
        "id": "VOvd2BYXGLye",
        "outputId": "43331980-47c0-4d7b-cbd2-a05f9d3a362a"
      },
      "source": [
        "from google.colab import drive\n",
        "drive.mount('/content/drive')"
      ],
      "execution_count": 1,
      "outputs": [
        {
          "output_type": "stream",
          "text": [
            "Mounted at /content/drive\n"
          ],
          "name": "stdout"
        }
      ]
    },
    {
      "cell_type": "code",
      "metadata": {
        "colab": {
          "base_uri": "https://localhost:8080/"
        },
        "id": "jtA_a5ILGSCV",
        "outputId": "0f61a604-894e-4446-8c1e-2cb0010295be"
      },
      "source": [
        "%cd /content/drive/My Drive/Colab Notebooks"
      ],
      "execution_count": 2,
      "outputs": [
        {
          "output_type": "stream",
          "text": [
            "/content/drive/My Drive/Colab Notebooks\n"
          ],
          "name": "stdout"
        }
      ]
    },
    {
      "cell_type": "code",
      "metadata": {
        "id": "x4unyqB9ICml"
      },
      "source": [
        "# We will import the pandas modules\n",
        "import pandas as pd"
      ],
      "execution_count": 3,
      "outputs": []
    },
    {
      "cell_type": "markdown",
      "metadata": {
        "id": "aI5YxffjIICy"
      },
      "source": [
        "We will then read in our dataset. Since it is a CSV file, we will be using a pandas'read_csv method for this. We will pass the file name with a comma as a separator to the read_csv method and we will create a DataFrame out of this data which we name data"
      ]
    },
    {
      "cell_type": "code",
      "metadata": {
        "colab": {
          "base_uri": "https://localhost:8080/",
          "height": 203
        },
        "id": "k-NivjVTIbdp",
        "outputId": "331b3a8f-510a-411c-fa75-76395143d22c"
      },
      "source": [
        "data= pd.read_csv('data-zillow.csv', sep=',')\n",
        "data.head()"
      ],
      "execution_count": 4,
      "outputs": [
        {
          "output_type": "execute_result",
          "data": {
            "text/html": [
              "<div>\n",
              "<style scoped>\n",
              "    .dataframe tbody tr th:only-of-type {\n",
              "        vertical-align: middle;\n",
              "    }\n",
              "\n",
              "    .dataframe tbody tr th {\n",
              "        vertical-align: top;\n",
              "    }\n",
              "\n",
              "    .dataframe thead th {\n",
              "        text-align: right;\n",
              "    }\n",
              "</style>\n",
              "<table border=\"1\" class=\"dataframe\">\n",
              "  <thead>\n",
              "    <tr style=\"text-align: right;\">\n",
              "      <th></th>\n",
              "      <th>Date</th>\n",
              "      <th>RegionID</th>\n",
              "      <th>RegionName</th>\n",
              "      <th>State</th>\n",
              "      <th>Metro</th>\n",
              "      <th>County</th>\n",
              "      <th>SizeRank</th>\n",
              "      <th>Zhvi</th>\n",
              "    </tr>\n",
              "  </thead>\n",
              "  <tbody>\n",
              "    <tr>\n",
              "      <th>0</th>\n",
              "      <td>2017-05-31</td>\n",
              "      <td>6181</td>\n",
              "      <td>New York</td>\n",
              "      <td>NY</td>\n",
              "      <td>New York</td>\n",
              "      <td>Queens</td>\n",
              "      <td>0</td>\n",
              "      <td>672400</td>\n",
              "    </tr>\n",
              "    <tr>\n",
              "      <th>1</th>\n",
              "      <td>2017-05-31</td>\n",
              "      <td>12447</td>\n",
              "      <td>Los Angeles</td>\n",
              "      <td>CA</td>\n",
              "      <td>Los Angeles-Long Beach-Anaheim</td>\n",
              "      <td>Los Angeles</td>\n",
              "      <td>1</td>\n",
              "      <td>629900</td>\n",
              "    </tr>\n",
              "    <tr>\n",
              "      <th>2</th>\n",
              "      <td>2017-05-31</td>\n",
              "      <td>17426</td>\n",
              "      <td>Chicago</td>\n",
              "      <td>IL</td>\n",
              "      <td>Chicago</td>\n",
              "      <td>Cook</td>\n",
              "      <td>2</td>\n",
              "      <td>222700</td>\n",
              "    </tr>\n",
              "    <tr>\n",
              "      <th>3</th>\n",
              "      <td>2017-05-31</td>\n",
              "      <td>13271</td>\n",
              "      <td>Philadelphia</td>\n",
              "      <td>PA</td>\n",
              "      <td>Philadelphia</td>\n",
              "      <td>Philadelphia</td>\n",
              "      <td>3</td>\n",
              "      <td>137300</td>\n",
              "    </tr>\n",
              "    <tr>\n",
              "      <th>4</th>\n",
              "      <td>2017-05-31</td>\n",
              "      <td>40326</td>\n",
              "      <td>Phoenix</td>\n",
              "      <td>AZ</td>\n",
              "      <td>Phoenix</td>\n",
              "      <td>Maricopa</td>\n",
              "      <td>4</td>\n",
              "      <td>211300</td>\n",
              "    </tr>\n",
              "  </tbody>\n",
              "</table>\n",
              "</div>"
            ],
            "text/plain": [
              "         Date  RegionID    RegionName  ...        County SizeRank    Zhvi\n",
              "0  2017-05-31      6181      New York  ...        Queens        0  672400\n",
              "1  2017-05-31     12447   Los Angeles  ...   Los Angeles        1  629900\n",
              "2  2017-05-31     17426       Chicago  ...          Cook        2  222700\n",
              "3  2017-05-31     13271  Philadelphia  ...  Philadelphia        3  137300\n",
              "4  2017-05-31     40326       Phoenix  ...      Maricopa        4  211300\n",
              "\n",
              "[5 rows x 8 columns]"
            ]
          },
          "metadata": {
            "tags": []
          },
          "execution_count": 4
        }
      ]
    },
    {
      "cell_type": "markdown",
      "metadata": {
        "id": "Z6qcCLDXIwsH"
      },
      "source": [
        "The DataFrame is created and we did read a few records from the dataset by performing the data.head() method on the DataFrame. This will give the output with columns, such as Date, and some location fields, such as RegionName, State, Metro and Country. The last column title Zhvi is a Zillow term and is the mean house price of that particular region."
      ]
    },
    {
      "cell_type": "markdown",
      "metadata": {
        "id": "m4uS4wjZJcrM"
      },
      "source": [
        "**Sorting a pandas DataFrame**\n",
        "\n",
        "In this video we will learn about the pandas sort_values method. We will also use various methods to sort a pandas DataFrame and learn how to sort a pandas series object.\n",
        "\n",
        "Now let's start with the simple type of sorting. We will use pandas's sort_values method for this. For example, imagine that we want to sort the data by the Metro column. We need to pass Metro as a parameter to the sort_values emthod and call the method on the DataFrame."
      ]
    },
    {
      "cell_type": "code",
      "metadata": {
        "colab": {
          "base_uri": "https://localhost:8080/",
          "height": 417
        },
        "id": "_1fUvSssKC3W",
        "outputId": "8b4e3022-ffdb-4ce2-b20d-ca2d3432c886"
      },
      "source": [
        "data.sort_values('Metro')"
      ],
      "execution_count": 5,
      "outputs": [
        {
          "output_type": "execute_result",
          "data": {
            "text/html": [
              "<div>\n",
              "<style scoped>\n",
              "    .dataframe tbody tr th:only-of-type {\n",
              "        vertical-align: middle;\n",
              "    }\n",
              "\n",
              "    .dataframe tbody tr th {\n",
              "        vertical-align: top;\n",
              "    }\n",
              "\n",
              "    .dataframe thead th {\n",
              "        text-align: right;\n",
              "    }\n",
              "</style>\n",
              "<table border=\"1\" class=\"dataframe\">\n",
              "  <thead>\n",
              "    <tr style=\"text-align: right;\">\n",
              "      <th></th>\n",
              "      <th>Date</th>\n",
              "      <th>RegionID</th>\n",
              "      <th>RegionName</th>\n",
              "      <th>State</th>\n",
              "      <th>Metro</th>\n",
              "      <th>County</th>\n",
              "      <th>SizeRank</th>\n",
              "      <th>Zhvi</th>\n",
              "    </tr>\n",
              "  </thead>\n",
              "  <tbody>\n",
              "    <tr>\n",
              "      <th>9851</th>\n",
              "      <td>2017-05-31</td>\n",
              "      <td>48458</td>\n",
              "      <td>Westport</td>\n",
              "      <td>WA</td>\n",
              "      <td>Aberdeen</td>\n",
              "      <td>Grays Harbor</td>\n",
              "      <td>9851</td>\n",
              "      <td>144600</td>\n",
              "    </tr>\n",
              "    <tr>\n",
              "      <th>4996</th>\n",
              "      <td>2017-05-31</td>\n",
              "      <td>36873</td>\n",
              "      <td>Elma</td>\n",
              "      <td>WA</td>\n",
              "      <td>Aberdeen</td>\n",
              "      <td>Grays Harbor</td>\n",
              "      <td>4996</td>\n",
              "      <td>175200</td>\n",
              "    </tr>\n",
              "    <tr>\n",
              "      <th>5090</th>\n",
              "      <td>2017-05-31</td>\n",
              "      <td>35514</td>\n",
              "      <td>Hoquiam</td>\n",
              "      <td>WA</td>\n",
              "      <td>Aberdeen</td>\n",
              "      <td>Grays Harbor</td>\n",
              "      <td>5090</td>\n",
              "      <td>95700</td>\n",
              "    </tr>\n",
              "    <tr>\n",
              "      <th>9401</th>\n",
              "      <td>2017-05-31</td>\n",
              "      <td>33215</td>\n",
              "      <td>Ocean Shores</td>\n",
              "      <td>WA</td>\n",
              "      <td>Aberdeen</td>\n",
              "      <td>Grays Harbor</td>\n",
              "      <td>9401</td>\n",
              "      <td>152400</td>\n",
              "    </tr>\n",
              "    <tr>\n",
              "      <th>9149</th>\n",
              "      <td>2017-05-31</td>\n",
              "      <td>18370</td>\n",
              "      <td>Grayland</td>\n",
              "      <td>WA</td>\n",
              "      <td>Aberdeen</td>\n",
              "      <td>Grays Harbor</td>\n",
              "      <td>9149</td>\n",
              "      <td>143900</td>\n",
              "    </tr>\n",
              "    <tr>\n",
              "      <th>...</th>\n",
              "      <td>...</td>\n",
              "      <td>...</td>\n",
              "      <td>...</td>\n",
              "      <td>...</td>\n",
              "      <td>...</td>\n",
              "      <td>...</td>\n",
              "      <td>...</td>\n",
              "      <td>...</td>\n",
              "    </tr>\n",
              "    <tr>\n",
              "      <th>10764</th>\n",
              "      <td>2017-05-31</td>\n",
              "      <td>35349</td>\n",
              "      <td>Fraser</td>\n",
              "      <td>CO</td>\n",
              "      <td>NaN</td>\n",
              "      <td>Grand</td>\n",
              "      <td>10764</td>\n",
              "      <td>274500</td>\n",
              "    </tr>\n",
              "    <tr>\n",
              "      <th>10768</th>\n",
              "      <td>2017-05-31</td>\n",
              "      <td>17816</td>\n",
              "      <td>Dresser</td>\n",
              "      <td>WI</td>\n",
              "      <td>NaN</td>\n",
              "      <td>Polk</td>\n",
              "      <td>10768</td>\n",
              "      <td>189900</td>\n",
              "    </tr>\n",
              "    <tr>\n",
              "      <th>10774</th>\n",
              "      <td>2017-05-31</td>\n",
              "      <td>34232</td>\n",
              "      <td>Tamworth</td>\n",
              "      <td>NH</td>\n",
              "      <td>NaN</td>\n",
              "      <td>Carroll</td>\n",
              "      <td>10774</td>\n",
              "      <td>164100</td>\n",
              "    </tr>\n",
              "    <tr>\n",
              "      <th>10822</th>\n",
              "      <td>2017-05-31</td>\n",
              "      <td>18317</td>\n",
              "      <td>Goldsboro</td>\n",
              "      <td>MD</td>\n",
              "      <td>NaN</td>\n",
              "      <td>Caroline</td>\n",
              "      <td>10822</td>\n",
              "      <td>175700</td>\n",
              "    </tr>\n",
              "    <tr>\n",
              "      <th>10825</th>\n",
              "      <td>2017-05-31</td>\n",
              "      <td>26077</td>\n",
              "      <td>Nehalem</td>\n",
              "      <td>OR</td>\n",
              "      <td>NaN</td>\n",
              "      <td>Tillamook</td>\n",
              "      <td>10825</td>\n",
              "      <td>392200</td>\n",
              "    </tr>\n",
              "  </tbody>\n",
              "</table>\n",
              "<p>10830 rows × 8 columns</p>\n",
              "</div>"
            ],
            "text/plain": [
              "             Date  RegionID    RegionName  ...        County SizeRank    Zhvi\n",
              "9851   2017-05-31     48458      Westport  ...  Grays Harbor     9851  144600\n",
              "4996   2017-05-31     36873          Elma  ...  Grays Harbor     4996  175200\n",
              "5090   2017-05-31     35514       Hoquiam  ...  Grays Harbor     5090   95700\n",
              "9401   2017-05-31     33215  Ocean Shores  ...  Grays Harbor     9401  152400\n",
              "9149   2017-05-31     18370      Grayland  ...  Grays Harbor     9149  143900\n",
              "...           ...       ...           ...  ...           ...      ...     ...\n",
              "10764  2017-05-31     35349        Fraser  ...         Grand    10764  274500\n",
              "10768  2017-05-31     17816       Dresser  ...          Polk    10768  189900\n",
              "10774  2017-05-31     34232      Tamworth  ...       Carroll    10774  164100\n",
              "10822  2017-05-31     18317     Goldsboro  ...      Caroline    10822  175700\n",
              "10825  2017-05-31     26077       Nehalem  ...     Tillamook    10825  392200\n",
              "\n",
              "[10830 rows x 8 columns]"
            ]
          },
          "metadata": {
            "tags": []
          },
          "execution_count": 5
        }
      ]
    },
    {
      "cell_type": "markdown",
      "metadata": {
        "id": "IGuCXY5AKOq8"
      },
      "source": [
        "If you notice , by default the Date column is sorted in ascending order. We can chnage the sorting order, giving the ascending parameter the value of False."
      ]
    },
    {
      "cell_type": "code",
      "metadata": {
        "id": "ET0FqfLxKd2o"
      },
      "source": [
        "sorted = data.sort_values('Metro', ascending=False)"
      ],
      "execution_count": 6,
      "outputs": []
    },
    {
      "cell_type": "markdown",
      "metadata": {
        "id": "xJaNFBfbKlKK"
      },
      "source": [
        "The ascending parameter is optional, and when not passed, it is set to True by default. Now we will look into how to sort data by more than 1 column. To do this we need to pass the list of columns, by which we want our data to be sorted, to the parameter column of the sort_values method."
      ]
    },
    {
      "cell_type": "code",
      "metadata": {
        "colab": {
          "base_uri": "https://localhost:8080/",
          "height": 203
        },
        "id": "XTQfEE7EK3X2",
        "outputId": "0a148188-9cf0-4574-be97-60c52d712431"
      },
      "source": [
        "sorted = data.sort_values(by=['Metro', 'County'])\n",
        "sorted.head()"
      ],
      "execution_count": 9,
      "outputs": [
        {
          "output_type": "execute_result",
          "data": {
            "text/html": [
              "<div>\n",
              "<style scoped>\n",
              "    .dataframe tbody tr th:only-of-type {\n",
              "        vertical-align: middle;\n",
              "    }\n",
              "\n",
              "    .dataframe tbody tr th {\n",
              "        vertical-align: top;\n",
              "    }\n",
              "\n",
              "    .dataframe thead th {\n",
              "        text-align: right;\n",
              "    }\n",
              "</style>\n",
              "<table border=\"1\" class=\"dataframe\">\n",
              "  <thead>\n",
              "    <tr style=\"text-align: right;\">\n",
              "      <th></th>\n",
              "      <th>Date</th>\n",
              "      <th>RegionID</th>\n",
              "      <th>RegionName</th>\n",
              "      <th>State</th>\n",
              "      <th>Metro</th>\n",
              "      <th>County</th>\n",
              "      <th>SizeRank</th>\n",
              "      <th>Zhvi</th>\n",
              "    </tr>\n",
              "  </thead>\n",
              "  <tbody>\n",
              "    <tr>\n",
              "      <th>2073</th>\n",
              "      <td>2017-05-31</td>\n",
              "      <td>30116</td>\n",
              "      <td>Aberdeen</td>\n",
              "      <td>WA</td>\n",
              "      <td>Aberdeen</td>\n",
              "      <td>Grays Harbor</td>\n",
              "      <td>2073</td>\n",
              "      <td>127800</td>\n",
              "    </tr>\n",
              "    <tr>\n",
              "      <th>4568</th>\n",
              "      <td>2017-05-31</td>\n",
              "      <td>56078</td>\n",
              "      <td>Montesano</td>\n",
              "      <td>WA</td>\n",
              "      <td>Aberdeen</td>\n",
              "      <td>Grays Harbor</td>\n",
              "      <td>4568</td>\n",
              "      <td>182000</td>\n",
              "    </tr>\n",
              "    <tr>\n",
              "      <th>4996</th>\n",
              "      <td>2017-05-31</td>\n",
              "      <td>36873</td>\n",
              "      <td>Elma</td>\n",
              "      <td>WA</td>\n",
              "      <td>Aberdeen</td>\n",
              "      <td>Grays Harbor</td>\n",
              "      <td>4996</td>\n",
              "      <td>175200</td>\n",
              "    </tr>\n",
              "    <tr>\n",
              "      <th>5090</th>\n",
              "      <td>2017-05-31</td>\n",
              "      <td>35514</td>\n",
              "      <td>Hoquiam</td>\n",
              "      <td>WA</td>\n",
              "      <td>Aberdeen</td>\n",
              "      <td>Grays Harbor</td>\n",
              "      <td>5090</td>\n",
              "      <td>95700</td>\n",
              "    </tr>\n",
              "    <tr>\n",
              "      <th>7108</th>\n",
              "      <td>2017-05-31</td>\n",
              "      <td>6275</td>\n",
              "      <td>Oakville</td>\n",
              "      <td>WA</td>\n",
              "      <td>Aberdeen</td>\n",
              "      <td>Grays Harbor</td>\n",
              "      <td>7108</td>\n",
              "      <td>186900</td>\n",
              "    </tr>\n",
              "  </tbody>\n",
              "</table>\n",
              "</div>"
            ],
            "text/plain": [
              "            Date  RegionID RegionName  ...        County SizeRank    Zhvi\n",
              "2073  2017-05-31     30116   Aberdeen  ...  Grays Harbor     2073  127800\n",
              "4568  2017-05-31     56078  Montesano  ...  Grays Harbor     4568  182000\n",
              "4996  2017-05-31     36873       Elma  ...  Grays Harbor     4996  175200\n",
              "5090  2017-05-31     35514    Hoquiam  ...  Grays Harbor     5090   95700\n",
              "7108  2017-05-31      6275   Oakville  ...  Grays Harbor     7108  186900\n",
              "\n",
              "[5 rows x 8 columns]"
            ]
          },
          "metadata": {
            "tags": []
          },
          "execution_count": 9
        }
      ]
    },
    {
      "cell_type": "markdown",
      "metadata": {
        "id": "vGngC9BLLK27"
      },
      "source": [
        "The data has now been sorted by Metro first and then County column, that is in the same order that we passed them into the sort_values method. We can take the multiple column sort further, and introduce a mixed ascending order. For example, we can sort by 3 columns: Metro, County and the Price column."
      ]
    },
    {
      "cell_type": "code",
      "metadata": {
        "colab": {
          "base_uri": "https://localhost:8080/",
          "height": 203
        },
        "id": "3ZKfjS4FLiL6",
        "outputId": "51dbd2f6-f75a-43d8-f103-7cd5f2aefba0"
      },
      "source": [
        "sorted = data.sort_values(by=['Metro', 'County', 'Zhvi'], ascending=[True, True, False])\n",
        "sorted.head()"
      ],
      "execution_count": 10,
      "outputs": [
        {
          "output_type": "execute_result",
          "data": {
            "text/html": [
              "<div>\n",
              "<style scoped>\n",
              "    .dataframe tbody tr th:only-of-type {\n",
              "        vertical-align: middle;\n",
              "    }\n",
              "\n",
              "    .dataframe tbody tr th {\n",
              "        vertical-align: top;\n",
              "    }\n",
              "\n",
              "    .dataframe thead th {\n",
              "        text-align: right;\n",
              "    }\n",
              "</style>\n",
              "<table border=\"1\" class=\"dataframe\">\n",
              "  <thead>\n",
              "    <tr style=\"text-align: right;\">\n",
              "      <th></th>\n",
              "      <th>Date</th>\n",
              "      <th>RegionID</th>\n",
              "      <th>RegionName</th>\n",
              "      <th>State</th>\n",
              "      <th>Metro</th>\n",
              "      <th>County</th>\n",
              "      <th>SizeRank</th>\n",
              "      <th>Zhvi</th>\n",
              "    </tr>\n",
              "  </thead>\n",
              "  <tbody>\n",
              "    <tr>\n",
              "      <th>7108</th>\n",
              "      <td>2017-05-31</td>\n",
              "      <td>6275</td>\n",
              "      <td>Oakville</td>\n",
              "      <td>WA</td>\n",
              "      <td>Aberdeen</td>\n",
              "      <td>Grays Harbor</td>\n",
              "      <td>7108</td>\n",
              "      <td>186900</td>\n",
              "    </tr>\n",
              "    <tr>\n",
              "      <th>4568</th>\n",
              "      <td>2017-05-31</td>\n",
              "      <td>56078</td>\n",
              "      <td>Montesano</td>\n",
              "      <td>WA</td>\n",
              "      <td>Aberdeen</td>\n",
              "      <td>Grays Harbor</td>\n",
              "      <td>4568</td>\n",
              "      <td>182000</td>\n",
              "    </tr>\n",
              "    <tr>\n",
              "      <th>4996</th>\n",
              "      <td>2017-05-31</td>\n",
              "      <td>36873</td>\n",
              "      <td>Elma</td>\n",
              "      <td>WA</td>\n",
              "      <td>Aberdeen</td>\n",
              "      <td>Grays Harbor</td>\n",
              "      <td>4996</td>\n",
              "      <td>175200</td>\n",
              "    </tr>\n",
              "    <tr>\n",
              "      <th>8420</th>\n",
              "      <td>2017-05-31</td>\n",
              "      <td>19269</td>\n",
              "      <td>McCleary</td>\n",
              "      <td>WA</td>\n",
              "      <td>Aberdeen</td>\n",
              "      <td>Grays Harbor</td>\n",
              "      <td>8420</td>\n",
              "      <td>170700</td>\n",
              "    </tr>\n",
              "    <tr>\n",
              "      <th>9401</th>\n",
              "      <td>2017-05-31</td>\n",
              "      <td>33215</td>\n",
              "      <td>Ocean Shores</td>\n",
              "      <td>WA</td>\n",
              "      <td>Aberdeen</td>\n",
              "      <td>Grays Harbor</td>\n",
              "      <td>9401</td>\n",
              "      <td>152400</td>\n",
              "    </tr>\n",
              "  </tbody>\n",
              "</table>\n",
              "</div>"
            ],
            "text/plain": [
              "            Date  RegionID    RegionName  ...        County SizeRank    Zhvi\n",
              "7108  2017-05-31      6275      Oakville  ...  Grays Harbor     7108  186900\n",
              "4568  2017-05-31     56078     Montesano  ...  Grays Harbor     4568  182000\n",
              "4996  2017-05-31     36873          Elma  ...  Grays Harbor     4996  175200\n",
              "8420  2017-05-31     19269      McCleary  ...  Grays Harbor     8420  170700\n",
              "9401  2017-05-31     33215  Ocean Shores  ...  Grays Harbor     9401  152400\n",
              "\n",
              "[5 rows x 8 columns]"
            ]
          },
          "metadata": {
            "tags": []
          },
          "execution_count": 10
        }
      ]
    },
    {
      "cell_type": "markdown",
      "metadata": {
        "id": "ukqYlZX2Lujo"
      },
      "source": [
        "You must have noticed that we are passing a list of 3 Boolean values in ascending parameter. This sets the sort order to ascending for Metro, and County and descending fot the last column which is Zhvi."
      ]
    },
    {
      "cell_type": "markdown",
      "metadata": {
        "id": "6vtRC28BL-VC"
      },
      "source": [
        "Next we will see how to sort a series object. First, let's create a series. Let's select the RegionID column from our dataset and create a series."
      ]
    },
    {
      "cell_type": "code",
      "metadata": {
        "colab": {
          "base_uri": "https://localhost:8080/"
        },
        "id": "fcsgY6QrMJn-",
        "outputId": "30badbf5-5601-404d-8d45-a3abe9972963"
      },
      "source": [
        "regions= data.RegionID\n",
        "type(regions)"
      ],
      "execution_count": 11,
      "outputs": [
        {
          "output_type": "execute_result",
          "data": {
            "text/plain": [
              "pandas.core.series.Series"
            ]
          },
          "metadata": {
            "tags": []
          },
          "execution_count": 11
        }
      ]
    },
    {
      "cell_type": "code",
      "metadata": {
        "colab": {
          "base_uri": "https://localhost:8080/"
        },
        "id": "Ee7k9SvgMRJk",
        "outputId": "e203b33d-b044-4cb6-cf00-ed1cce0bb424"
      },
      "source": [
        "# Now let;s look that the original series by using regions.head()\n",
        "regions.head()"
      ],
      "execution_count": 12,
      "outputs": [
        {
          "output_type": "execute_result",
          "data": {
            "text/plain": [
              "0     6181\n",
              "1    12447\n",
              "2    17426\n",
              "3    13271\n",
              "4    40326\n",
              "Name: RegionID, dtype: int64"
            ]
          },
          "metadata": {
            "tags": []
          },
          "execution_count": 12
        }
      ]
    },
    {
      "cell_type": "markdown",
      "metadata": {
        "id": "Ip1gmAglMZO9"
      },
      "source": [
        "Now let's sort it by calling the sort_values method on it. Since the dataset contains only 1 column, we do not need to pass any column name. Hence, the code to sort the data would be regions.sort_values().head()."
      ]
    },
    {
      "cell_type": "code",
      "metadata": {
        "colab": {
          "base_uri": "https://localhost:8080/"
        },
        "id": "E8A32aUxMqOn",
        "outputId": "78d20b80-8ce5-4740-e4b4-a576ef4fa344"
      },
      "source": [
        "regions.sort_values().head()"
      ],
      "execution_count": 13,
      "outputs": [
        {
          "output_type": "execute_result",
          "data": {
            "text/plain": [
              "3043    3301\n",
              "4159    3304\n",
              "4986    3305\n",
              "1762    3310\n",
              "3116    3312\n",
              "Name: RegionID, dtype: int64"
            ]
          },
          "metadata": {
            "tags": []
          },
          "execution_count": 13
        }
      ]
    },
    {
      "cell_type": "markdown",
      "metadata": {
        "id": "pJ-52n3iM-2w"
      },
      "source": [
        "**Filtering rows of a pandas DataFrame**\n",
        "\n",
        "In this video, we will learn about methods for filtering rows and columns from a pandas DataFrame, we will introduce a couple of ways to accomplish this. We will also leran about pandas' filter method, and how to use it on our real dataset, as well as ways to protect data based on a Boolean series that we will create from our data. We will also learn how to pass the conditions directly to the DataFrame for filerting the data.\n",
        "\n",
        "\n",
        "First we will explore the pandas'filter method for filtering data. We can filter columns using filter method. To do this we need to pass columns as a list to the filter method's items parameter."
      ]
    },
    {
      "cell_type": "code",
      "metadata": {
        "colab": {
          "base_uri": "https://localhost:8080/",
          "height": 203
        },
        "id": "h3bsC8tWNtmR",
        "outputId": "2c0754a2-cd84-4ed0-8012-b2c9092c2bff"
      },
      "source": [
        "filtered_data = data.filter(items=['State', 'Metro'])\n",
        "filtered_data.head()"
      ],
      "execution_count": 14,
      "outputs": [
        {
          "output_type": "execute_result",
          "data": {
            "text/html": [
              "<div>\n",
              "<style scoped>\n",
              "    .dataframe tbody tr th:only-of-type {\n",
              "        vertical-align: middle;\n",
              "    }\n",
              "\n",
              "    .dataframe tbody tr th {\n",
              "        vertical-align: top;\n",
              "    }\n",
              "\n",
              "    .dataframe thead th {\n",
              "        text-align: right;\n",
              "    }\n",
              "</style>\n",
              "<table border=\"1\" class=\"dataframe\">\n",
              "  <thead>\n",
              "    <tr style=\"text-align: right;\">\n",
              "      <th></th>\n",
              "      <th>State</th>\n",
              "      <th>Metro</th>\n",
              "    </tr>\n",
              "  </thead>\n",
              "  <tbody>\n",
              "    <tr>\n",
              "      <th>0</th>\n",
              "      <td>NY</td>\n",
              "      <td>New York</td>\n",
              "    </tr>\n",
              "    <tr>\n",
              "      <th>1</th>\n",
              "      <td>CA</td>\n",
              "      <td>Los Angeles-Long Beach-Anaheim</td>\n",
              "    </tr>\n",
              "    <tr>\n",
              "      <th>2</th>\n",
              "      <td>IL</td>\n",
              "      <td>Chicago</td>\n",
              "    </tr>\n",
              "    <tr>\n",
              "      <th>3</th>\n",
              "      <td>PA</td>\n",
              "      <td>Philadelphia</td>\n",
              "    </tr>\n",
              "    <tr>\n",
              "      <th>4</th>\n",
              "      <td>AZ</td>\n",
              "      <td>Phoenix</td>\n",
              "    </tr>\n",
              "  </tbody>\n",
              "</table>\n",
              "</div>"
            ],
            "text/plain": [
              "  State                           Metro\n",
              "0    NY                        New York\n",
              "1    CA  Los Angeles-Long Beach-Anaheim\n",
              "2    IL                         Chicago\n",
              "3    PA                    Philadelphia\n",
              "4    AZ                         Phoenix"
            ]
          },
          "metadata": {
            "tags": []
          },
          "execution_count": 14
        }
      ]
    },
    {
      "cell_type": "markdown",
      "metadata": {
        "id": "V35oCvUlN6DO"
      },
      "source": [
        "As you can see from the above result, we did filter columns by State and Metro and created a new DataFrame with the values from the filter columns. We then display the filter data using the head method. Next we will use the filter method to filter columns names using regular expressions. This is done by passing our regular expression to the regex parameter."
      ]
    },
    {
      "cell_type": "code",
      "metadata": {
        "colab": {
          "base_uri": "https://localhost:8080/",
          "height": 203
        },
        "id": "dv4DDNETN5ns",
        "outputId": "c6876f31-2fa8-48f9-ba43-ec486d1526dc"
      },
      "source": [
        "filtered_data = data.filter(regex='Region', axis=1)\n",
        "filtered_data.head()"
      ],
      "execution_count": 15,
      "outputs": [
        {
          "output_type": "execute_result",
          "data": {
            "text/html": [
              "<div>\n",
              "<style scoped>\n",
              "    .dataframe tbody tr th:only-of-type {\n",
              "        vertical-align: middle;\n",
              "    }\n",
              "\n",
              "    .dataframe tbody tr th {\n",
              "        vertical-align: top;\n",
              "    }\n",
              "\n",
              "    .dataframe thead th {\n",
              "        text-align: right;\n",
              "    }\n",
              "</style>\n",
              "<table border=\"1\" class=\"dataframe\">\n",
              "  <thead>\n",
              "    <tr style=\"text-align: right;\">\n",
              "      <th></th>\n",
              "      <th>RegionID</th>\n",
              "      <th>RegionName</th>\n",
              "    </tr>\n",
              "  </thead>\n",
              "  <tbody>\n",
              "    <tr>\n",
              "      <th>0</th>\n",
              "      <td>6181</td>\n",
              "      <td>New York</td>\n",
              "    </tr>\n",
              "    <tr>\n",
              "      <th>1</th>\n",
              "      <td>12447</td>\n",
              "      <td>Los Angeles</td>\n",
              "    </tr>\n",
              "    <tr>\n",
              "      <th>2</th>\n",
              "      <td>17426</td>\n",
              "      <td>Chicago</td>\n",
              "    </tr>\n",
              "    <tr>\n",
              "      <th>3</th>\n",
              "      <td>13271</td>\n",
              "      <td>Philadelphia</td>\n",
              "    </tr>\n",
              "    <tr>\n",
              "      <th>4</th>\n",
              "      <td>40326</td>\n",
              "      <td>Phoenix</td>\n",
              "    </tr>\n",
              "  </tbody>\n",
              "</table>\n",
              "</div>"
            ],
            "text/plain": [
              "   RegionID    RegionName\n",
              "0      6181      New York\n",
              "1     12447   Los Angeles\n",
              "2     17426       Chicago\n",
              "3     13271  Philadelphia\n",
              "4     40326       Phoenix"
            ]
          },
          "metadata": {
            "tags": []
          },
          "execution_count": 15
        }
      ]
    },
    {
      "cell_type": "markdown",
      "metadata": {
        "id": "pJkcktIIOX7S"
      },
      "source": [
        "The filter method is not the only way to filter data. To filter rows, we can use some interesting techniques. First we will create a series of Boolean values. The Boolean value series is based on the price value column from our dataset. We are choosing to select rows that have lues of more than 500000"
      ]
    },
    {
      "cell_type": "code",
      "metadata": {
        "colab": {
          "base_uri": "https://localhost:8080/"
        },
        "id": "CqBgL6GAOswO",
        "outputId": "d2584b4f-3187-438f-f7f8-a29a63e7f66f"
      },
      "source": [
        "price_filter_series = data['Zhvi'] > 500000\n",
        "price_filter_series.head()"
      ],
      "execution_count": 16,
      "outputs": [
        {
          "output_type": "execute_result",
          "data": {
            "text/plain": [
              "0     True\n",
              "1     True\n",
              "2    False\n",
              "3    False\n",
              "4    False\n",
              "Name: Zhvi, dtype: bool"
            ]
          },
          "metadata": {
            "tags": []
          },
          "execution_count": 16
        }
      ]
    },
    {
      "cell_type": "markdown",
      "metadata": {
        "id": "vfjvvayRO3DE"
      },
      "source": [
        "The True values are those that match our condition, that is they stand for rows where the price is higher than 500000. Next we will use this Boolen series to filter the rows from our complete dataset, and get only those values that have a price higher than 500000. To do this we will pass the Boolena series to the dataset DataFrame in square brackets."
      ]
    },
    {
      "cell_type": "code",
      "metadata": {
        "colab": {
          "base_uri": "https://localhost:8080/",
          "height": 203
        },
        "id": "cKYDuE_2PPnn",
        "outputId": "3aaa379e-3c36-4e89-b63f-71633c13d1a6"
      },
      "source": [
        "data[price_filter_series].head()"
      ],
      "execution_count": 17,
      "outputs": [
        {
          "output_type": "execute_result",
          "data": {
            "text/html": [
              "<div>\n",
              "<style scoped>\n",
              "    .dataframe tbody tr th:only-of-type {\n",
              "        vertical-align: middle;\n",
              "    }\n",
              "\n",
              "    .dataframe tbody tr th {\n",
              "        vertical-align: top;\n",
              "    }\n",
              "\n",
              "    .dataframe thead th {\n",
              "        text-align: right;\n",
              "    }\n",
              "</style>\n",
              "<table border=\"1\" class=\"dataframe\">\n",
              "  <thead>\n",
              "    <tr style=\"text-align: right;\">\n",
              "      <th></th>\n",
              "      <th>Date</th>\n",
              "      <th>RegionID</th>\n",
              "      <th>RegionName</th>\n",
              "      <th>State</th>\n",
              "      <th>Metro</th>\n",
              "      <th>County</th>\n",
              "      <th>SizeRank</th>\n",
              "      <th>Zhvi</th>\n",
              "    </tr>\n",
              "  </thead>\n",
              "  <tbody>\n",
              "    <tr>\n",
              "      <th>0</th>\n",
              "      <td>2017-05-31</td>\n",
              "      <td>6181</td>\n",
              "      <td>New York</td>\n",
              "      <td>NY</td>\n",
              "      <td>New York</td>\n",
              "      <td>Queens</td>\n",
              "      <td>0</td>\n",
              "      <td>672400</td>\n",
              "    </tr>\n",
              "    <tr>\n",
              "      <th>1</th>\n",
              "      <td>2017-05-31</td>\n",
              "      <td>12447</td>\n",
              "      <td>Los Angeles</td>\n",
              "      <td>CA</td>\n",
              "      <td>Los Angeles-Long Beach-Anaheim</td>\n",
              "      <td>Los Angeles</td>\n",
              "      <td>1</td>\n",
              "      <td>629900</td>\n",
              "    </tr>\n",
              "    <tr>\n",
              "      <th>6</th>\n",
              "      <td>2017-05-31</td>\n",
              "      <td>54296</td>\n",
              "      <td>San Diego</td>\n",
              "      <td>CA</td>\n",
              "      <td>San Diego</td>\n",
              "      <td>San Diego</td>\n",
              "      <td>6</td>\n",
              "      <td>572100</td>\n",
              "    </tr>\n",
              "    <tr>\n",
              "      <th>8</th>\n",
              "      <td>2017-05-31</td>\n",
              "      <td>33839</td>\n",
              "      <td>San Jose</td>\n",
              "      <td>CA</td>\n",
              "      <td>San Jose</td>\n",
              "      <td>Santa Clara</td>\n",
              "      <td>8</td>\n",
              "      <td>877400</td>\n",
              "    </tr>\n",
              "    <tr>\n",
              "      <th>10</th>\n",
              "      <td>2017-05-31</td>\n",
              "      <td>20330</td>\n",
              "      <td>San Francisco</td>\n",
              "      <td>CA</td>\n",
              "      <td>San Francisco</td>\n",
              "      <td>San Francisco</td>\n",
              "      <td>10</td>\n",
              "      <td>1194300</td>\n",
              "    </tr>\n",
              "  </tbody>\n",
              "</table>\n",
              "</div>"
            ],
            "text/plain": [
              "          Date  RegionID     RegionName  ...         County SizeRank     Zhvi\n",
              "0   2017-05-31      6181       New York  ...         Queens        0   672400\n",
              "1   2017-05-31     12447    Los Angeles  ...    Los Angeles        1   629900\n",
              "6   2017-05-31     54296      San Diego  ...      San Diego        6   572100\n",
              "8   2017-05-31     33839       San Jose  ...    Santa Clara        8   877400\n",
              "10  2017-05-31     20330  San Francisco  ...  San Francisco       10  1194300\n",
              "\n",
              "[5 rows x 8 columns]"
            ]
          },
          "metadata": {
            "tags": []
          },
          "execution_count": 17
        }
      ]
    },
    {
      "cell_type": "markdown",
      "metadata": {
        "id": "tLRgVWv2PXN5"
      },
      "source": [
        "The other way to filter a dataset without explicitly creating a Boolena series is by passing the condition for the values we want to the DataFrame directly. For example, imagine that we want to filter and select only rows where the house price is higher than or equal to 100000."
      ]
    },
    {
      "cell_type": "code",
      "metadata": {
        "colab": {
          "base_uri": "https://localhost:8080/",
          "height": 203
        },
        "id": "knbUG06vPoLt",
        "outputId": "30014afe-5a17-4deb-ad12-a66e3aba53bd"
      },
      "source": [
        "data[data.Zhvi >= 100000].head()"
      ],
      "execution_count": 18,
      "outputs": [
        {
          "output_type": "execute_result",
          "data": {
            "text/html": [
              "<div>\n",
              "<style scoped>\n",
              "    .dataframe tbody tr th:only-of-type {\n",
              "        vertical-align: middle;\n",
              "    }\n",
              "\n",
              "    .dataframe tbody tr th {\n",
              "        vertical-align: top;\n",
              "    }\n",
              "\n",
              "    .dataframe thead th {\n",
              "        text-align: right;\n",
              "    }\n",
              "</style>\n",
              "<table border=\"1\" class=\"dataframe\">\n",
              "  <thead>\n",
              "    <tr style=\"text-align: right;\">\n",
              "      <th></th>\n",
              "      <th>Date</th>\n",
              "      <th>RegionID</th>\n",
              "      <th>RegionName</th>\n",
              "      <th>State</th>\n",
              "      <th>Metro</th>\n",
              "      <th>County</th>\n",
              "      <th>SizeRank</th>\n",
              "      <th>Zhvi</th>\n",
              "    </tr>\n",
              "  </thead>\n",
              "  <tbody>\n",
              "    <tr>\n",
              "      <th>0</th>\n",
              "      <td>2017-05-31</td>\n",
              "      <td>6181</td>\n",
              "      <td>New York</td>\n",
              "      <td>NY</td>\n",
              "      <td>New York</td>\n",
              "      <td>Queens</td>\n",
              "      <td>0</td>\n",
              "      <td>672400</td>\n",
              "    </tr>\n",
              "    <tr>\n",
              "      <th>1</th>\n",
              "      <td>2017-05-31</td>\n",
              "      <td>12447</td>\n",
              "      <td>Los Angeles</td>\n",
              "      <td>CA</td>\n",
              "      <td>Los Angeles-Long Beach-Anaheim</td>\n",
              "      <td>Los Angeles</td>\n",
              "      <td>1</td>\n",
              "      <td>629900</td>\n",
              "    </tr>\n",
              "    <tr>\n",
              "      <th>2</th>\n",
              "      <td>2017-05-31</td>\n",
              "      <td>17426</td>\n",
              "      <td>Chicago</td>\n",
              "      <td>IL</td>\n",
              "      <td>Chicago</td>\n",
              "      <td>Cook</td>\n",
              "      <td>2</td>\n",
              "      <td>222700</td>\n",
              "    </tr>\n",
              "    <tr>\n",
              "      <th>3</th>\n",
              "      <td>2017-05-31</td>\n",
              "      <td>13271</td>\n",
              "      <td>Philadelphia</td>\n",
              "      <td>PA</td>\n",
              "      <td>Philadelphia</td>\n",
              "      <td>Philadelphia</td>\n",
              "      <td>3</td>\n",
              "      <td>137300</td>\n",
              "    </tr>\n",
              "    <tr>\n",
              "      <th>4</th>\n",
              "      <td>2017-05-31</td>\n",
              "      <td>40326</td>\n",
              "      <td>Phoenix</td>\n",
              "      <td>AZ</td>\n",
              "      <td>Phoenix</td>\n",
              "      <td>Maricopa</td>\n",
              "      <td>4</td>\n",
              "      <td>211300</td>\n",
              "    </tr>\n",
              "  </tbody>\n",
              "</table>\n",
              "</div>"
            ],
            "text/plain": [
              "         Date  RegionID    RegionName  ...        County SizeRank    Zhvi\n",
              "0  2017-05-31      6181      New York  ...        Queens        0  672400\n",
              "1  2017-05-31     12447   Los Angeles  ...   Los Angeles        1  629900\n",
              "2  2017-05-31     17426       Chicago  ...          Cook        2  222700\n",
              "3  2017-05-31     13271  Philadelphia  ...  Philadelphia        3  137300\n",
              "4  2017-05-31     40326       Phoenix  ...      Maricopa        4  211300\n",
              "\n",
              "[5 rows x 8 columns]"
            ]
          },
          "metadata": {
            "tags": []
          },
          "execution_count": 18
        }
      ]
    },
    {
      "cell_type": "markdown",
      "metadata": {
        "id": "l0omxC1-Ul26"
      },
      "source": [
        "**Applying multiple filter criteria to a pandas DataFrame**\n",
        "\n",
        "In this video we will learn about methods for applying multiple filter criteria to a pandas DataFrame. We will use logical AND/OR conditional operators to select records from our real dataset. We will also see how to use the isin() method for filtering records. We will demonstrate the isin method on our real dataset for both single and multiple column filtering."
      ]
    },
    {
      "cell_type": "markdown",
      "metadata": {
        "id": "LeD3udQAVG28"
      },
      "source": [
        "**Filtering based on multiple conditions- AND**\n",
        "\n",
        "Now, let's look at some techniques to filter the data using multiple criteria or condition. First we will select those rows that have values for prices higher than 1000000 and for which the State parameter is New York (NY)"
      ]
    },
    {
      "cell_type": "code",
      "metadata": {
        "colab": {
          "base_uri": "https://localhost:8080/",
          "height": 203
        },
        "id": "AEEryGAJVcXF",
        "outputId": "db2a36b1-697b-4a66-c27f-f1e9492d526a"
      },
      "source": [
        "data= pd.read_csv('data-zillow.csv', sep=',')\n",
        "data.head()"
      ],
      "execution_count": 19,
      "outputs": [
        {
          "output_type": "execute_result",
          "data": {
            "text/html": [
              "<div>\n",
              "<style scoped>\n",
              "    .dataframe tbody tr th:only-of-type {\n",
              "        vertical-align: middle;\n",
              "    }\n",
              "\n",
              "    .dataframe tbody tr th {\n",
              "        vertical-align: top;\n",
              "    }\n",
              "\n",
              "    .dataframe thead th {\n",
              "        text-align: right;\n",
              "    }\n",
              "</style>\n",
              "<table border=\"1\" class=\"dataframe\">\n",
              "  <thead>\n",
              "    <tr style=\"text-align: right;\">\n",
              "      <th></th>\n",
              "      <th>Date</th>\n",
              "      <th>RegionID</th>\n",
              "      <th>RegionName</th>\n",
              "      <th>State</th>\n",
              "      <th>Metro</th>\n",
              "      <th>County</th>\n",
              "      <th>SizeRank</th>\n",
              "      <th>Zhvi</th>\n",
              "    </tr>\n",
              "  </thead>\n",
              "  <tbody>\n",
              "    <tr>\n",
              "      <th>0</th>\n",
              "      <td>2017-05-31</td>\n",
              "      <td>6181</td>\n",
              "      <td>New York</td>\n",
              "      <td>NY</td>\n",
              "      <td>New York</td>\n",
              "      <td>Queens</td>\n",
              "      <td>0</td>\n",
              "      <td>672400</td>\n",
              "    </tr>\n",
              "    <tr>\n",
              "      <th>1</th>\n",
              "      <td>2017-05-31</td>\n",
              "      <td>12447</td>\n",
              "      <td>Los Angeles</td>\n",
              "      <td>CA</td>\n",
              "      <td>Los Angeles-Long Beach-Anaheim</td>\n",
              "      <td>Los Angeles</td>\n",
              "      <td>1</td>\n",
              "      <td>629900</td>\n",
              "    </tr>\n",
              "    <tr>\n",
              "      <th>2</th>\n",
              "      <td>2017-05-31</td>\n",
              "      <td>17426</td>\n",
              "      <td>Chicago</td>\n",
              "      <td>IL</td>\n",
              "      <td>Chicago</td>\n",
              "      <td>Cook</td>\n",
              "      <td>2</td>\n",
              "      <td>222700</td>\n",
              "    </tr>\n",
              "    <tr>\n",
              "      <th>3</th>\n",
              "      <td>2017-05-31</td>\n",
              "      <td>13271</td>\n",
              "      <td>Philadelphia</td>\n",
              "      <td>PA</td>\n",
              "      <td>Philadelphia</td>\n",
              "      <td>Philadelphia</td>\n",
              "      <td>3</td>\n",
              "      <td>137300</td>\n",
              "    </tr>\n",
              "    <tr>\n",
              "      <th>4</th>\n",
              "      <td>2017-05-31</td>\n",
              "      <td>40326</td>\n",
              "      <td>Phoenix</td>\n",
              "      <td>AZ</td>\n",
              "      <td>Phoenix</td>\n",
              "      <td>Maricopa</td>\n",
              "      <td>4</td>\n",
              "      <td>211300</td>\n",
              "    </tr>\n",
              "  </tbody>\n",
              "</table>\n",
              "</div>"
            ],
            "text/plain": [
              "         Date  RegionID    RegionName  ...        County SizeRank    Zhvi\n",
              "0  2017-05-31      6181      New York  ...        Queens        0  672400\n",
              "1  2017-05-31     12447   Los Angeles  ...   Los Angeles        1  629900\n",
              "2  2017-05-31     17426       Chicago  ...          Cook        2  222700\n",
              "3  2017-05-31     13271  Philadelphia  ...  Philadelphia        3  137300\n",
              "4  2017-05-31     40326       Phoenix  ...      Maricopa        4  211300\n",
              "\n",
              "[5 rows x 8 columns]"
            ]
          },
          "metadata": {
            "tags": []
          },
          "execution_count": 19
        }
      ]
    },
    {
      "cell_type": "code",
      "metadata": {
        "colab": {
          "base_uri": "https://localhost:8080/",
          "height": 203
        },
        "id": "a2t9bbXAVhcF",
        "outputId": "7b308414-bb33-4348-e366-3f08e6c3b701"
      },
      "source": [
        "data[(data['Zhvi'] >  1000000) & (data['State'] ==  'NY')].head()"
      ],
      "execution_count": 20,
      "outputs": [
        {
          "output_type": "execute_result",
          "data": {
            "text/html": [
              "<div>\n",
              "<style scoped>\n",
              "    .dataframe tbody tr th:only-of-type {\n",
              "        vertical-align: middle;\n",
              "    }\n",
              "\n",
              "    .dataframe tbody tr th {\n",
              "        vertical-align: top;\n",
              "    }\n",
              "\n",
              "    .dataframe thead th {\n",
              "        text-align: right;\n",
              "    }\n",
              "</style>\n",
              "<table border=\"1\" class=\"dataframe\">\n",
              "  <thead>\n",
              "    <tr style=\"text-align: right;\">\n",
              "      <th></th>\n",
              "      <th>Date</th>\n",
              "      <th>RegionID</th>\n",
              "      <th>RegionName</th>\n",
              "      <th>State</th>\n",
              "      <th>Metro</th>\n",
              "      <th>County</th>\n",
              "      <th>SizeRank</th>\n",
              "      <th>Zhvi</th>\n",
              "    </tr>\n",
              "  </thead>\n",
              "  <tbody>\n",
              "    <tr>\n",
              "      <th>1132</th>\n",
              "      <td>2017-05-31</td>\n",
              "      <td>18375</td>\n",
              "      <td>Great Neck</td>\n",
              "      <td>NY</td>\n",
              "      <td>New York</td>\n",
              "      <td>Nassau</td>\n",
              "      <td>1132</td>\n",
              "      <td>1235800</td>\n",
              "    </tr>\n",
              "    <tr>\n",
              "      <th>2405</th>\n",
              "      <td>2017-05-31</td>\n",
              "      <td>54333</td>\n",
              "      <td>Scarsdale</td>\n",
              "      <td>NY</td>\n",
              "      <td>New York</td>\n",
              "      <td>Westchester</td>\n",
              "      <td>2405</td>\n",
              "      <td>1468100</td>\n",
              "    </tr>\n",
              "    <tr>\n",
              "      <th>2619</th>\n",
              "      <td>2017-05-31</td>\n",
              "      <td>47495</td>\n",
              "      <td>Rye</td>\n",
              "      <td>NY</td>\n",
              "      <td>New York</td>\n",
              "      <td>Westchester</td>\n",
              "      <td>2619</td>\n",
              "      <td>1736400</td>\n",
              "    </tr>\n",
              "    <tr>\n",
              "      <th>3032</th>\n",
              "      <td>2017-05-31</td>\n",
              "      <td>25725</td>\n",
              "      <td>Manhasset</td>\n",
              "      <td>NY</td>\n",
              "      <td>New York</td>\n",
              "      <td>Nassau</td>\n",
              "      <td>3032</td>\n",
              "      <td>1483400</td>\n",
              "    </tr>\n",
              "    <tr>\n",
              "      <th>3064</th>\n",
              "      <td>2017-05-31</td>\n",
              "      <td>18955</td>\n",
              "      <td>Larchmont</td>\n",
              "      <td>NY</td>\n",
              "      <td>New York</td>\n",
              "      <td>Westchester</td>\n",
              "      <td>3064</td>\n",
              "      <td>1052200</td>\n",
              "    </tr>\n",
              "  </tbody>\n",
              "</table>\n",
              "</div>"
            ],
            "text/plain": [
              "            Date  RegionID  RegionName  ...       County SizeRank     Zhvi\n",
              "1132  2017-05-31     18375  Great Neck  ...       Nassau     1132  1235800\n",
              "2405  2017-05-31     54333   Scarsdale  ...  Westchester     2405  1468100\n",
              "2619  2017-05-31     47495         Rye  ...  Westchester     2619  1736400\n",
              "3032  2017-05-31     25725   Manhasset  ...       Nassau     3032  1483400\n",
              "3064  2017-05-31     18955   Larchmont  ...  Westchester     3064  1052200\n",
              "\n",
              "[5 rows x 8 columns]"
            ]
          },
          "metadata": {
            "tags": []
          },
          "execution_count": 20
        }
      ]
    },
    {
      "cell_type": "markdown",
      "metadata": {
        "id": "R2FFzBzQV4xT"
      },
      "source": [
        "Pass the above multi-condition to the database'DataFrame. In the above result, this technique has selected only those rows where the price value is higher than 1000000 and State is New York"
      ]
    },
    {
      "cell_type": "markdown",
      "metadata": {
        "id": "ni740VL_WMI3"
      },
      "source": [
        "**Filtering based on multiple conditions- OR**\n",
        "\n",
        "We will use the same technique to filter data when we pass thses conditions with the logical operator - OR. Here, we select those records which are from either New York or California. To do this we join the conditions using the logical operator OR and pass this combined condition to the dataset."
      ]
    },
    {
      "cell_type": "code",
      "metadata": {
        "colab": {
          "base_uri": "https://localhost:8080/",
          "height": 203
        },
        "id": "nuOoGg6ZWj7G",
        "outputId": "d7649669-6410-4f3b-af10-4b30286c0ae7"
      },
      "source": [
        "data[((data['State'] ==  'CA') | (data['State'] ==  'NY'))].head()"
      ],
      "execution_count": 21,
      "outputs": [
        {
          "output_type": "execute_result",
          "data": {
            "text/html": [
              "<div>\n",
              "<style scoped>\n",
              "    .dataframe tbody tr th:only-of-type {\n",
              "        vertical-align: middle;\n",
              "    }\n",
              "\n",
              "    .dataframe tbody tr th {\n",
              "        vertical-align: top;\n",
              "    }\n",
              "\n",
              "    .dataframe thead th {\n",
              "        text-align: right;\n",
              "    }\n",
              "</style>\n",
              "<table border=\"1\" class=\"dataframe\">\n",
              "  <thead>\n",
              "    <tr style=\"text-align: right;\">\n",
              "      <th></th>\n",
              "      <th>Date</th>\n",
              "      <th>RegionID</th>\n",
              "      <th>RegionName</th>\n",
              "      <th>State</th>\n",
              "      <th>Metro</th>\n",
              "      <th>County</th>\n",
              "      <th>SizeRank</th>\n",
              "      <th>Zhvi</th>\n",
              "    </tr>\n",
              "  </thead>\n",
              "  <tbody>\n",
              "    <tr>\n",
              "      <th>0</th>\n",
              "      <td>2017-05-31</td>\n",
              "      <td>6181</td>\n",
              "      <td>New York</td>\n",
              "      <td>NY</td>\n",
              "      <td>New York</td>\n",
              "      <td>Queens</td>\n",
              "      <td>0</td>\n",
              "      <td>672400</td>\n",
              "    </tr>\n",
              "    <tr>\n",
              "      <th>1</th>\n",
              "      <td>2017-05-31</td>\n",
              "      <td>12447</td>\n",
              "      <td>Los Angeles</td>\n",
              "      <td>CA</td>\n",
              "      <td>Los Angeles-Long Beach-Anaheim</td>\n",
              "      <td>Los Angeles</td>\n",
              "      <td>1</td>\n",
              "      <td>629900</td>\n",
              "    </tr>\n",
              "    <tr>\n",
              "      <th>6</th>\n",
              "      <td>2017-05-31</td>\n",
              "      <td>54296</td>\n",
              "      <td>San Diego</td>\n",
              "      <td>CA</td>\n",
              "      <td>San Diego</td>\n",
              "      <td>San Diego</td>\n",
              "      <td>6</td>\n",
              "      <td>572100</td>\n",
              "    </tr>\n",
              "    <tr>\n",
              "      <th>8</th>\n",
              "      <td>2017-05-31</td>\n",
              "      <td>33839</td>\n",
              "      <td>San Jose</td>\n",
              "      <td>CA</td>\n",
              "      <td>San Jose</td>\n",
              "      <td>Santa Clara</td>\n",
              "      <td>8</td>\n",
              "      <td>877400</td>\n",
              "    </tr>\n",
              "    <tr>\n",
              "      <th>10</th>\n",
              "      <td>2017-05-31</td>\n",
              "      <td>20330</td>\n",
              "      <td>San Francisco</td>\n",
              "      <td>CA</td>\n",
              "      <td>San Francisco</td>\n",
              "      <td>San Francisco</td>\n",
              "      <td>10</td>\n",
              "      <td>1194300</td>\n",
              "    </tr>\n",
              "  </tbody>\n",
              "</table>\n",
              "</div>"
            ],
            "text/plain": [
              "          Date  RegionID     RegionName  ...         County SizeRank     Zhvi\n",
              "0   2017-05-31      6181       New York  ...         Queens        0   672400\n",
              "1   2017-05-31     12447    Los Angeles  ...    Los Angeles        1   629900\n",
              "6   2017-05-31     54296      San Diego  ...      San Diego        6   572100\n",
              "8   2017-05-31     33839       San Jose  ...    Santa Clara        8   877400\n",
              "10  2017-05-31     20330  San Francisco  ...  San Francisco       10  1194300\n",
              "\n",
              "[5 rows x 8 columns]"
            ]
          },
          "metadata": {
            "tags": []
          },
          "execution_count": 21
        }
      ]
    },
    {
      "cell_type": "markdown",
      "metadata": {
        "id": "YZKUOmxsWx62"
      },
      "source": [
        "**Filtering using the isin method**\n",
        "\n",
        "Another way to filter data is by using the isin method. We can use the isin method to filter our dataset by a list of values for a particular column or columns. We will select records from Metro column that have values of either New York ir San Francisco.\n",
        "\n",
        "\n",
        "We will call the isin method on the Metro column and pass it a list containing the cities we want to select. This will create a Boolean series. We then pass the Boolean series to our dataset DataFrame to make the necessary filtering and selection."
      ]
    },
    {
      "cell_type": "code",
      "metadata": {
        "colab": {
          "base_uri": "https://localhost:8080/",
          "height": 203
        },
        "id": "72HYoCJgXZQK",
        "outputId": "20ed0953-a647-4bac-aaca-27e2c15ffcd5"
      },
      "source": [
        "filter = data['Metro'].isin(['New York', 'San Francisco'])\n",
        "data[filter].head()"
      ],
      "execution_count": 22,
      "outputs": [
        {
          "output_type": "execute_result",
          "data": {
            "text/html": [
              "<div>\n",
              "<style scoped>\n",
              "    .dataframe tbody tr th:only-of-type {\n",
              "        vertical-align: middle;\n",
              "    }\n",
              "\n",
              "    .dataframe tbody tr th {\n",
              "        vertical-align: top;\n",
              "    }\n",
              "\n",
              "    .dataframe thead th {\n",
              "        text-align: right;\n",
              "    }\n",
              "</style>\n",
              "<table border=\"1\" class=\"dataframe\">\n",
              "  <thead>\n",
              "    <tr style=\"text-align: right;\">\n",
              "      <th></th>\n",
              "      <th>Date</th>\n",
              "      <th>RegionID</th>\n",
              "      <th>RegionName</th>\n",
              "      <th>State</th>\n",
              "      <th>Metro</th>\n",
              "      <th>County</th>\n",
              "      <th>SizeRank</th>\n",
              "      <th>Zhvi</th>\n",
              "    </tr>\n",
              "  </thead>\n",
              "  <tbody>\n",
              "    <tr>\n",
              "      <th>0</th>\n",
              "      <td>2017-05-31</td>\n",
              "      <td>6181</td>\n",
              "      <td>New York</td>\n",
              "      <td>NY</td>\n",
              "      <td>New York</td>\n",
              "      <td>Queens</td>\n",
              "      <td>0</td>\n",
              "      <td>672400</td>\n",
              "    </tr>\n",
              "    <tr>\n",
              "      <th>10</th>\n",
              "      <td>2017-05-31</td>\n",
              "      <td>20330</td>\n",
              "      <td>San Francisco</td>\n",
              "      <td>CA</td>\n",
              "      <td>San Francisco</td>\n",
              "      <td>San Francisco</td>\n",
              "      <td>10</td>\n",
              "      <td>1194300</td>\n",
              "    </tr>\n",
              "    <tr>\n",
              "      <th>38</th>\n",
              "      <td>2017-05-31</td>\n",
              "      <td>13072</td>\n",
              "      <td>Oakland</td>\n",
              "      <td>CA</td>\n",
              "      <td>San Francisco</td>\n",
              "      <td>Alameda</td>\n",
              "      <td>38</td>\n",
              "      <td>680100</td>\n",
              "    </tr>\n",
              "    <tr>\n",
              "      <th>63</th>\n",
              "      <td>2017-05-31</td>\n",
              "      <td>12970</td>\n",
              "      <td>Newark</td>\n",
              "      <td>NJ</td>\n",
              "      <td>New York</td>\n",
              "      <td>Essex</td>\n",
              "      <td>63</td>\n",
              "      <td>232800</td>\n",
              "    </tr>\n",
              "    <tr>\n",
              "      <th>72</th>\n",
              "      <td>2017-05-31</td>\n",
              "      <td>25320</td>\n",
              "      <td>Jersey City</td>\n",
              "      <td>NJ</td>\n",
              "      <td>New York</td>\n",
              "      <td>Hudson</td>\n",
              "      <td>72</td>\n",
              "      <td>380000</td>\n",
              "    </tr>\n",
              "  </tbody>\n",
              "</table>\n",
              "</div>"
            ],
            "text/plain": [
              "          Date  RegionID     RegionName  ...         County SizeRank     Zhvi\n",
              "0   2017-05-31      6181       New York  ...         Queens        0   672400\n",
              "10  2017-05-31     20330  San Francisco  ...  San Francisco       10  1194300\n",
              "38  2017-05-31     13072        Oakland  ...        Alameda       38   680100\n",
              "63  2017-05-31     12970         Newark  ...          Essex       63   232800\n",
              "72  2017-05-31     25320    Jersey City  ...         Hudson       72   380000\n",
              "\n",
              "[5 rows x 8 columns]"
            ]
          },
          "metadata": {
            "tags": []
          },
          "execution_count": 22
        }
      ]
    },
    {
      "cell_type": "markdown",
      "metadata": {
        "id": "pbziMMccXoab"
      },
      "source": [
        "**Using the isin method with multiple conditions**\n",
        "\n",
        "We can also use the isin method to filter rows based on values from multiple columns. In order to perfrom this, we pass a dictionary object where keys are column names and values are list of values for those columns from which we want to select records.\n",
        "\n",
        "Taking an example, let's select values where the State parameter is California and the Metro parameter is San Francisco. We create a dictionary object with these 2 columns containing the values we want to select and then we pass this dictionary item to the isin method and call the isin method on the dataset. We then pass the filter to the DataFrame and select our recods."
      ]
    },
    {
      "cell_type": "code",
      "metadata": {
        "colab": {
          "base_uri": "https://localhost:8080/",
          "height": 203
        },
        "id": "pj2bLHMZYXlr",
        "outputId": "11d6c7f1-9620-4cdc-85d4-f47663559d19"
      },
      "source": [
        "filter = data.isin({'State': ['CA'], 'Metro':['San Francisco']})\n",
        "data[filter].head()"
      ],
      "execution_count": 23,
      "outputs": [
        {
          "output_type": "execute_result",
          "data": {
            "text/html": [
              "<div>\n",
              "<style scoped>\n",
              "    .dataframe tbody tr th:only-of-type {\n",
              "        vertical-align: middle;\n",
              "    }\n",
              "\n",
              "    .dataframe tbody tr th {\n",
              "        vertical-align: top;\n",
              "    }\n",
              "\n",
              "    .dataframe thead th {\n",
              "        text-align: right;\n",
              "    }\n",
              "</style>\n",
              "<table border=\"1\" class=\"dataframe\">\n",
              "  <thead>\n",
              "    <tr style=\"text-align: right;\">\n",
              "      <th></th>\n",
              "      <th>Date</th>\n",
              "      <th>RegionID</th>\n",
              "      <th>RegionName</th>\n",
              "      <th>State</th>\n",
              "      <th>Metro</th>\n",
              "      <th>County</th>\n",
              "      <th>SizeRank</th>\n",
              "      <th>Zhvi</th>\n",
              "    </tr>\n",
              "  </thead>\n",
              "  <tbody>\n",
              "    <tr>\n",
              "      <th>0</th>\n",
              "      <td>NaN</td>\n",
              "      <td>NaN</td>\n",
              "      <td>NaN</td>\n",
              "      <td>NaN</td>\n",
              "      <td>NaN</td>\n",
              "      <td>NaN</td>\n",
              "      <td>NaN</td>\n",
              "      <td>NaN</td>\n",
              "    </tr>\n",
              "    <tr>\n",
              "      <th>1</th>\n",
              "      <td>NaN</td>\n",
              "      <td>NaN</td>\n",
              "      <td>NaN</td>\n",
              "      <td>CA</td>\n",
              "      <td>NaN</td>\n",
              "      <td>NaN</td>\n",
              "      <td>NaN</td>\n",
              "      <td>NaN</td>\n",
              "    </tr>\n",
              "    <tr>\n",
              "      <th>2</th>\n",
              "      <td>NaN</td>\n",
              "      <td>NaN</td>\n",
              "      <td>NaN</td>\n",
              "      <td>NaN</td>\n",
              "      <td>NaN</td>\n",
              "      <td>NaN</td>\n",
              "      <td>NaN</td>\n",
              "      <td>NaN</td>\n",
              "    </tr>\n",
              "    <tr>\n",
              "      <th>3</th>\n",
              "      <td>NaN</td>\n",
              "      <td>NaN</td>\n",
              "      <td>NaN</td>\n",
              "      <td>NaN</td>\n",
              "      <td>NaN</td>\n",
              "      <td>NaN</td>\n",
              "      <td>NaN</td>\n",
              "      <td>NaN</td>\n",
              "    </tr>\n",
              "    <tr>\n",
              "      <th>4</th>\n",
              "      <td>NaN</td>\n",
              "      <td>NaN</td>\n",
              "      <td>NaN</td>\n",
              "      <td>NaN</td>\n",
              "      <td>NaN</td>\n",
              "      <td>NaN</td>\n",
              "      <td>NaN</td>\n",
              "      <td>NaN</td>\n",
              "    </tr>\n",
              "  </tbody>\n",
              "</table>\n",
              "</div>"
            ],
            "text/plain": [
              "  Date  RegionID RegionName State Metro County  SizeRank  Zhvi\n",
              "0  NaN       NaN        NaN   NaN   NaN    NaN       NaN   NaN\n",
              "1  NaN       NaN        NaN    CA   NaN    NaN       NaN   NaN\n",
              "2  NaN       NaN        NaN   NaN   NaN    NaN       NaN   NaN\n",
              "3  NaN       NaN        NaN   NaN   NaN    NaN       NaN   NaN\n",
              "4  NaN       NaN        NaN   NaN   NaN    NaN       NaN   NaN"
            ]
          },
          "metadata": {
            "tags": []
          },
          "execution_count": 23
        }
      ]
    },
    {
      "cell_type": "markdown",
      "metadata": {
        "id": "f5s0Xsr4YnoU"
      },
      "source": [
        "This will show NaN or not available for those records that do not fulfill multiple criteria that we specified earlier."
      ]
    },
    {
      "cell_type": "markdown",
      "metadata": {
        "id": "5N09Jb5lZL-Z"
      },
      "source": [
        "**Using the axis parameter in pandas**\n",
        "\n",
        "In this video we will learn about when and where to use the axis paramter or keyword while doing data analysis in pandas. We will introduce the axis parameter and will walk through various values to which the axis keyword can be set to. We will demonstrate how setting axis to rows or columns changes a method's behavior."
      ]
    },
    {
      "cell_type": "markdown",
      "metadata": {
        "id": "lS4t5h92Zzkd"
      },
      "source": [
        "**Usage of the axis parameter**\n",
        "\n",
        "The axis parameter tells you a particular method along with which axis of the DataFrame the method should be executed.\n",
        "\n",
        "The axis can be specified vertically or horizontally, or in other words, along rows or columns  use axis0 for rows and axis1 for columns."
      ]
    },
    {
      "cell_type": "code",
      "metadata": {
        "colab": {
          "base_uri": "https://localhost:8080/",
          "height": 203
        },
        "id": "cjissJK3Xnhz",
        "outputId": "ca6677bd-da1e-40c6-ac54-9fc49d6ca292"
      },
      "source": [
        "data= pd.read_table('data-zillow.csv', sep=',')\n",
        "data.head()"
      ],
      "execution_count": 24,
      "outputs": [
        {
          "output_type": "execute_result",
          "data": {
            "text/html": [
              "<div>\n",
              "<style scoped>\n",
              "    .dataframe tbody tr th:only-of-type {\n",
              "        vertical-align: middle;\n",
              "    }\n",
              "\n",
              "    .dataframe tbody tr th {\n",
              "        vertical-align: top;\n",
              "    }\n",
              "\n",
              "    .dataframe thead th {\n",
              "        text-align: right;\n",
              "    }\n",
              "</style>\n",
              "<table border=\"1\" class=\"dataframe\">\n",
              "  <thead>\n",
              "    <tr style=\"text-align: right;\">\n",
              "      <th></th>\n",
              "      <th>Date</th>\n",
              "      <th>RegionID</th>\n",
              "      <th>RegionName</th>\n",
              "      <th>State</th>\n",
              "      <th>Metro</th>\n",
              "      <th>County</th>\n",
              "      <th>SizeRank</th>\n",
              "      <th>Zhvi</th>\n",
              "    </tr>\n",
              "  </thead>\n",
              "  <tbody>\n",
              "    <tr>\n",
              "      <th>0</th>\n",
              "      <td>2017-05-31</td>\n",
              "      <td>6181</td>\n",
              "      <td>New York</td>\n",
              "      <td>NY</td>\n",
              "      <td>New York</td>\n",
              "      <td>Queens</td>\n",
              "      <td>0</td>\n",
              "      <td>672400</td>\n",
              "    </tr>\n",
              "    <tr>\n",
              "      <th>1</th>\n",
              "      <td>2017-05-31</td>\n",
              "      <td>12447</td>\n",
              "      <td>Los Angeles</td>\n",
              "      <td>CA</td>\n",
              "      <td>Los Angeles-Long Beach-Anaheim</td>\n",
              "      <td>Los Angeles</td>\n",
              "      <td>1</td>\n",
              "      <td>629900</td>\n",
              "    </tr>\n",
              "    <tr>\n",
              "      <th>2</th>\n",
              "      <td>2017-05-31</td>\n",
              "      <td>17426</td>\n",
              "      <td>Chicago</td>\n",
              "      <td>IL</td>\n",
              "      <td>Chicago</td>\n",
              "      <td>Cook</td>\n",
              "      <td>2</td>\n",
              "      <td>222700</td>\n",
              "    </tr>\n",
              "    <tr>\n",
              "      <th>3</th>\n",
              "      <td>2017-05-31</td>\n",
              "      <td>13271</td>\n",
              "      <td>Philadelphia</td>\n",
              "      <td>PA</td>\n",
              "      <td>Philadelphia</td>\n",
              "      <td>Philadelphia</td>\n",
              "      <td>3</td>\n",
              "      <td>137300</td>\n",
              "    </tr>\n",
              "    <tr>\n",
              "      <th>4</th>\n",
              "      <td>2017-05-31</td>\n",
              "      <td>40326</td>\n",
              "      <td>Phoenix</td>\n",
              "      <td>AZ</td>\n",
              "      <td>Phoenix</td>\n",
              "      <td>Maricopa</td>\n",
              "      <td>4</td>\n",
              "      <td>211300</td>\n",
              "    </tr>\n",
              "  </tbody>\n",
              "</table>\n",
              "</div>"
            ],
            "text/plain": [
              "         Date  RegionID    RegionName  ...        County SizeRank    Zhvi\n",
              "0  2017-05-31      6181      New York  ...        Queens        0  672400\n",
              "1  2017-05-31     12447   Los Angeles  ...   Los Angeles        1  629900\n",
              "2  2017-05-31     17426       Chicago  ...          Cook        2  222700\n",
              "3  2017-05-31     13271  Philadelphia  ...  Philadelphia        3  137300\n",
              "4  2017-05-31     40326       Phoenix  ...      Maricopa        4  211300\n",
              "\n",
              "[5 rows x 8 columns]"
            ]
          },
          "metadata": {
            "tags": []
          },
          "execution_count": 24
        }
      ]
    },
    {
      "cell_type": "code",
      "metadata": {
        "colab": {
          "base_uri": "https://localhost:8080/"
        },
        "id": "N7DVYqosacf2",
        "outputId": "06d64635-621d-4977-d30a-4c8bb30c152b"
      },
      "source": [
        "data.axes"
      ],
      "execution_count": 25,
      "outputs": [
        {
          "output_type": "execute_result",
          "data": {
            "text/plain": [
              "[RangeIndex(start=0, stop=10830, step=1),\n",
              " Index(['Date', 'RegionID', 'RegionName', 'State', 'Metro', 'County',\n",
              "        'SizeRank', 'Zhvi'],\n",
              "       dtype='object')]"
            ]
          },
          "metadata": {
            "tags": []
          },
          "execution_count": 25
        }
      ]
    },
    {
      "cell_type": "markdown",
      "metadata": {
        "id": "sxaQP1X3ag9d"
      },
      "source": [
        "**Axis usage examples**\n",
        "\n",
        "In the axis usage examples we will calculate the mean for the values in the dataset. We have passed axis as 0. This means that the mean will be calculated along the row axis."
      ]
    },
    {
      "cell_type": "code",
      "metadata": {
        "colab": {
          "base_uri": "https://localhost:8080/"
        },
        "id": "LsDDuVW-av4x",
        "outputId": "1a3f32ad-d420-45ab-ed2f-7c2c5e84adc0"
      },
      "source": [
        "data.mean(axis=0)"
      ],
      "execution_count": 26,
      "outputs": [
        {
          "output_type": "execute_result",
          "data": {
            "text/plain": [
              "RegionID     84344.818837\n",
              "SizeRank      5414.500000\n",
              "Zhvi        250307.590028\n",
              "dtype: float64"
            ]
          },
          "metadata": {
            "tags": []
          },
          "execution_count": 26
        }
      ]
    },
    {
      "cell_type": "markdown",
      "metadata": {
        "id": "rZHBwYK4a1hk"
      },
      "source": [
        "Next we set axis to 1. We will use the exact method on the same dataset. However we will change axis from 0 to 1, the mean will be calculated along columns."
      ]
    },
    {
      "cell_type": "code",
      "metadata": {
        "colab": {
          "base_uri": "https://localhost:8080/"
        },
        "id": "NTI9iymPbEac",
        "outputId": "7b40c1c0-be7e-4e69-bfee-5e5075c6a05d"
      },
      "source": [
        "data.mean(axis=1).head()"
      ],
      "execution_count": 27,
      "outputs": [
        {
          "output_type": "execute_result",
          "data": {
            "text/plain": [
              "0    226193.666667\n",
              "1    214116.000000\n",
              "2     80042.666667\n",
              "3     50191.333333\n",
              "4     83876.666667\n",
              "dtype: float64"
            ]
          },
          "metadata": {
            "tags": []
          },
          "execution_count": 27
        }
      ]
    },
    {
      "cell_type": "markdown",
      "metadata": {
        "id": "hOBU5cR7bIUY"
      },
      "source": [
        "Sometimes, it is difficult to remember whether 0 or 1 is for rows or columns instead we can set axis to rows."
      ]
    },
    {
      "cell_type": "code",
      "metadata": {
        "colab": {
          "base_uri": "https://localhost:8080/"
        },
        "id": "5o22RVllbTnX",
        "outputId": "831837a6-5a4c-4f61-b1d6-b487ef85545a"
      },
      "source": [
        "data.mean(axis='rows')"
      ],
      "execution_count": 28,
      "outputs": [
        {
          "output_type": "execute_result",
          "data": {
            "text/plain": [
              "RegionID     84344.818837\n",
              "SizeRank      5414.500000\n",
              "Zhvi        250307.590028\n",
              "dtype: float64"
            ]
          },
          "metadata": {
            "tags": []
          },
          "execution_count": 28
        }
      ]
    },
    {
      "cell_type": "code",
      "metadata": {
        "colab": {
          "base_uri": "https://localhost:8080/"
        },
        "id": "feDBQGoubaUV",
        "outputId": "5c5832b4-3f26-43d1-db68-778e239626d0"
      },
      "source": [
        "data.mean(axis='columns')"
      ],
      "execution_count": 29,
      "outputs": [
        {
          "output_type": "execute_result",
          "data": {
            "text/plain": [
              "0        226193.666667\n",
              "1        214116.000000\n",
              "2         80042.666667\n",
              "3         50191.333333\n",
              "4         83876.666667\n",
              "             ...      \n",
              "10825    143034.000000\n",
              "10826     75610.333333\n",
              "10827    326571.666667\n",
              "10828    141217.000000\n",
              "10829    119674.000000\n",
              "Length: 10830, dtype: float64"
            ]
          },
          "metadata": {
            "tags": []
          },
          "execution_count": 29
        }
      ]
    },
    {
      "cell_type": "markdown",
      "metadata": {
        "id": "h_4kbIS4bjGF"
      },
      "source": [
        "**More exaples of the axis keyword**\n",
        "\n",
        "Here we will use the drop method to drop a row or record. We will tell the drop method to drop the record at the index of 0 by passing the keyword axis as 0."
      ]
    },
    {
      "cell_type": "code",
      "metadata": {
        "colab": {
          "base_uri": "https://localhost:8080/",
          "height": 203
        },
        "id": "dGWFS1-jb0pM",
        "outputId": "a9b83dbc-be1e-41b9-beaf-ffa838b4f65c"
      },
      "source": [
        "data.drop(0, axis=0).head()"
      ],
      "execution_count": 30,
      "outputs": [
        {
          "output_type": "execute_result",
          "data": {
            "text/html": [
              "<div>\n",
              "<style scoped>\n",
              "    .dataframe tbody tr th:only-of-type {\n",
              "        vertical-align: middle;\n",
              "    }\n",
              "\n",
              "    .dataframe tbody tr th {\n",
              "        vertical-align: top;\n",
              "    }\n",
              "\n",
              "    .dataframe thead th {\n",
              "        text-align: right;\n",
              "    }\n",
              "</style>\n",
              "<table border=\"1\" class=\"dataframe\">\n",
              "  <thead>\n",
              "    <tr style=\"text-align: right;\">\n",
              "      <th></th>\n",
              "      <th>Date</th>\n",
              "      <th>RegionID</th>\n",
              "      <th>RegionName</th>\n",
              "      <th>State</th>\n",
              "      <th>Metro</th>\n",
              "      <th>County</th>\n",
              "      <th>SizeRank</th>\n",
              "      <th>Zhvi</th>\n",
              "    </tr>\n",
              "  </thead>\n",
              "  <tbody>\n",
              "    <tr>\n",
              "      <th>1</th>\n",
              "      <td>2017-05-31</td>\n",
              "      <td>12447</td>\n",
              "      <td>Los Angeles</td>\n",
              "      <td>CA</td>\n",
              "      <td>Los Angeles-Long Beach-Anaheim</td>\n",
              "      <td>Los Angeles</td>\n",
              "      <td>1</td>\n",
              "      <td>629900</td>\n",
              "    </tr>\n",
              "    <tr>\n",
              "      <th>2</th>\n",
              "      <td>2017-05-31</td>\n",
              "      <td>17426</td>\n",
              "      <td>Chicago</td>\n",
              "      <td>IL</td>\n",
              "      <td>Chicago</td>\n",
              "      <td>Cook</td>\n",
              "      <td>2</td>\n",
              "      <td>222700</td>\n",
              "    </tr>\n",
              "    <tr>\n",
              "      <th>3</th>\n",
              "      <td>2017-05-31</td>\n",
              "      <td>13271</td>\n",
              "      <td>Philadelphia</td>\n",
              "      <td>PA</td>\n",
              "      <td>Philadelphia</td>\n",
              "      <td>Philadelphia</td>\n",
              "      <td>3</td>\n",
              "      <td>137300</td>\n",
              "    </tr>\n",
              "    <tr>\n",
              "      <th>4</th>\n",
              "      <td>2017-05-31</td>\n",
              "      <td>40326</td>\n",
              "      <td>Phoenix</td>\n",
              "      <td>AZ</td>\n",
              "      <td>Phoenix</td>\n",
              "      <td>Maricopa</td>\n",
              "      <td>4</td>\n",
              "      <td>211300</td>\n",
              "    </tr>\n",
              "    <tr>\n",
              "      <th>5</th>\n",
              "      <td>2017-05-31</td>\n",
              "      <td>18959</td>\n",
              "      <td>Las Vegas</td>\n",
              "      <td>NV</td>\n",
              "      <td>Las Vegas</td>\n",
              "      <td>Clark</td>\n",
              "      <td>5</td>\n",
              "      <td>216500</td>\n",
              "    </tr>\n",
              "  </tbody>\n",
              "</table>\n",
              "</div>"
            ],
            "text/plain": [
              "         Date  RegionID    RegionName  ...        County SizeRank    Zhvi\n",
              "1  2017-05-31     12447   Los Angeles  ...   Los Angeles        1  629900\n",
              "2  2017-05-31     17426       Chicago  ...          Cook        2  222700\n",
              "3  2017-05-31     13271  Philadelphia  ...  Philadelphia        3  137300\n",
              "4  2017-05-31     40326       Phoenix  ...      Maricopa        4  211300\n",
              "5  2017-05-31     18959     Las Vegas  ...         Clark        5  216500\n",
              "\n",
              "[5 rows x 8 columns]"
            ]
          },
          "metadata": {
            "tags": []
          },
          "execution_count": 30
        }
      ]
    },
    {
      "cell_type": "markdown",
      "metadata": {
        "id": "b0g9KAiKb_hg"
      },
      "source": [
        "We will set axis to 1 which tells the drop method to drop the column with the Date label."
      ]
    },
    {
      "cell_type": "code",
      "metadata": {
        "colab": {
          "base_uri": "https://localhost:8080/",
          "height": 203
        },
        "id": "nPch_Gmib-mz",
        "outputId": "e9aef1ee-4f6c-4757-96c1-a90a3698ba61"
      },
      "source": [
        "data.drop('Date', axis=1).head()"
      ],
      "execution_count": 31,
      "outputs": [
        {
          "output_type": "execute_result",
          "data": {
            "text/html": [
              "<div>\n",
              "<style scoped>\n",
              "    .dataframe tbody tr th:only-of-type {\n",
              "        vertical-align: middle;\n",
              "    }\n",
              "\n",
              "    .dataframe tbody tr th {\n",
              "        vertical-align: top;\n",
              "    }\n",
              "\n",
              "    .dataframe thead th {\n",
              "        text-align: right;\n",
              "    }\n",
              "</style>\n",
              "<table border=\"1\" class=\"dataframe\">\n",
              "  <thead>\n",
              "    <tr style=\"text-align: right;\">\n",
              "      <th></th>\n",
              "      <th>RegionID</th>\n",
              "      <th>RegionName</th>\n",
              "      <th>State</th>\n",
              "      <th>Metro</th>\n",
              "      <th>County</th>\n",
              "      <th>SizeRank</th>\n",
              "      <th>Zhvi</th>\n",
              "    </tr>\n",
              "  </thead>\n",
              "  <tbody>\n",
              "    <tr>\n",
              "      <th>0</th>\n",
              "      <td>6181</td>\n",
              "      <td>New York</td>\n",
              "      <td>NY</td>\n",
              "      <td>New York</td>\n",
              "      <td>Queens</td>\n",
              "      <td>0</td>\n",
              "      <td>672400</td>\n",
              "    </tr>\n",
              "    <tr>\n",
              "      <th>1</th>\n",
              "      <td>12447</td>\n",
              "      <td>Los Angeles</td>\n",
              "      <td>CA</td>\n",
              "      <td>Los Angeles-Long Beach-Anaheim</td>\n",
              "      <td>Los Angeles</td>\n",
              "      <td>1</td>\n",
              "      <td>629900</td>\n",
              "    </tr>\n",
              "    <tr>\n",
              "      <th>2</th>\n",
              "      <td>17426</td>\n",
              "      <td>Chicago</td>\n",
              "      <td>IL</td>\n",
              "      <td>Chicago</td>\n",
              "      <td>Cook</td>\n",
              "      <td>2</td>\n",
              "      <td>222700</td>\n",
              "    </tr>\n",
              "    <tr>\n",
              "      <th>3</th>\n",
              "      <td>13271</td>\n",
              "      <td>Philadelphia</td>\n",
              "      <td>PA</td>\n",
              "      <td>Philadelphia</td>\n",
              "      <td>Philadelphia</td>\n",
              "      <td>3</td>\n",
              "      <td>137300</td>\n",
              "    </tr>\n",
              "    <tr>\n",
              "      <th>4</th>\n",
              "      <td>40326</td>\n",
              "      <td>Phoenix</td>\n",
              "      <td>AZ</td>\n",
              "      <td>Phoenix</td>\n",
              "      <td>Maricopa</td>\n",
              "      <td>4</td>\n",
              "      <td>211300</td>\n",
              "    </tr>\n",
              "  </tbody>\n",
              "</table>\n",
              "</div>"
            ],
            "text/plain": [
              "   RegionID    RegionName State  ...        County SizeRank    Zhvi\n",
              "0      6181      New York    NY  ...        Queens        0  672400\n",
              "1     12447   Los Angeles    CA  ...   Los Angeles        1  629900\n",
              "2     17426       Chicago    IL  ...          Cook        2  222700\n",
              "3     13271  Philadelphia    PA  ...  Philadelphia        3  137300\n",
              "4     40326       Phoenix    AZ  ...      Maricopa        4  211300\n",
              "\n",
              "[5 rows x 7 columns]"
            ]
          },
          "metadata": {
            "tags": []
          },
          "execution_count": 31
        }
      ]
    },
    {
      "cell_type": "markdown",
      "metadata": {
        "id": "FiQTWesTcO_M"
      },
      "source": [
        "We can also use the axis keyword in filtering method. Here we will filter by regex Region with axis set to column"
      ]
    },
    {
      "cell_type": "code",
      "metadata": {
        "colab": {
          "base_uri": "https://localhost:8080/",
          "height": 203
        },
        "id": "DuV1wn06cNpI",
        "outputId": "1eca12d9-d2db-4c65-8b6c-c5ca44b126d9"
      },
      "source": [
        "data.filter(regex='Region', axis=1).head()"
      ],
      "execution_count": 32,
      "outputs": [
        {
          "output_type": "execute_result",
          "data": {
            "text/html": [
              "<div>\n",
              "<style scoped>\n",
              "    .dataframe tbody tr th:only-of-type {\n",
              "        vertical-align: middle;\n",
              "    }\n",
              "\n",
              "    .dataframe tbody tr th {\n",
              "        vertical-align: top;\n",
              "    }\n",
              "\n",
              "    .dataframe thead th {\n",
              "        text-align: right;\n",
              "    }\n",
              "</style>\n",
              "<table border=\"1\" class=\"dataframe\">\n",
              "  <thead>\n",
              "    <tr style=\"text-align: right;\">\n",
              "      <th></th>\n",
              "      <th>RegionID</th>\n",
              "      <th>RegionName</th>\n",
              "    </tr>\n",
              "  </thead>\n",
              "  <tbody>\n",
              "    <tr>\n",
              "      <th>0</th>\n",
              "      <td>6181</td>\n",
              "      <td>New York</td>\n",
              "    </tr>\n",
              "    <tr>\n",
              "      <th>1</th>\n",
              "      <td>12447</td>\n",
              "      <td>Los Angeles</td>\n",
              "    </tr>\n",
              "    <tr>\n",
              "      <th>2</th>\n",
              "      <td>17426</td>\n",
              "      <td>Chicago</td>\n",
              "    </tr>\n",
              "    <tr>\n",
              "      <th>3</th>\n",
              "      <td>13271</td>\n",
              "      <td>Philadelphia</td>\n",
              "    </tr>\n",
              "    <tr>\n",
              "      <th>4</th>\n",
              "      <td>40326</td>\n",
              "      <td>Phoenix</td>\n",
              "    </tr>\n",
              "  </tbody>\n",
              "</table>\n",
              "</div>"
            ],
            "text/plain": [
              "   RegionID    RegionName\n",
              "0      6181      New York\n",
              "1     12447   Los Angeles\n",
              "2     17426       Chicago\n",
              "3     13271  Philadelphia\n",
              "4     40326       Phoenix"
            ]
          },
          "metadata": {
            "tags": []
          },
          "execution_count": 32
        }
      ]
    },
    {
      "cell_type": "markdown",
      "metadata": {
        "id": "WdH6TI_-dPFg"
      },
      "source": [
        "**Using string methods in pandas**\n",
        "\n",
        "In this video, we will learn about using various string methods on a pandas series. We will explore some of string methods and we will use these string methods to select and change values from our dataset."
      ]
    },
    {
      "cell_type": "code",
      "metadata": {
        "colab": {
          "base_uri": "https://localhost:8080/",
          "height": 203
        },
        "id": "TeN3SRLGdfot",
        "outputId": "88a44773-835b-44e9-afe2-304b7fe1fbaf"
      },
      "source": [
        "data= pd.read_table('data-zillow.csv', sep=',')\n",
        "data.head()"
      ],
      "execution_count": 33,
      "outputs": [
        {
          "output_type": "execute_result",
          "data": {
            "text/html": [
              "<div>\n",
              "<style scoped>\n",
              "    .dataframe tbody tr th:only-of-type {\n",
              "        vertical-align: middle;\n",
              "    }\n",
              "\n",
              "    .dataframe tbody tr th {\n",
              "        vertical-align: top;\n",
              "    }\n",
              "\n",
              "    .dataframe thead th {\n",
              "        text-align: right;\n",
              "    }\n",
              "</style>\n",
              "<table border=\"1\" class=\"dataframe\">\n",
              "  <thead>\n",
              "    <tr style=\"text-align: right;\">\n",
              "      <th></th>\n",
              "      <th>Date</th>\n",
              "      <th>RegionID</th>\n",
              "      <th>RegionName</th>\n",
              "      <th>State</th>\n",
              "      <th>Metro</th>\n",
              "      <th>County</th>\n",
              "      <th>SizeRank</th>\n",
              "      <th>Zhvi</th>\n",
              "    </tr>\n",
              "  </thead>\n",
              "  <tbody>\n",
              "    <tr>\n",
              "      <th>0</th>\n",
              "      <td>2017-05-31</td>\n",
              "      <td>6181</td>\n",
              "      <td>New York</td>\n",
              "      <td>NY</td>\n",
              "      <td>New York</td>\n",
              "      <td>Queens</td>\n",
              "      <td>0</td>\n",
              "      <td>672400</td>\n",
              "    </tr>\n",
              "    <tr>\n",
              "      <th>1</th>\n",
              "      <td>2017-05-31</td>\n",
              "      <td>12447</td>\n",
              "      <td>Los Angeles</td>\n",
              "      <td>CA</td>\n",
              "      <td>Los Angeles-Long Beach-Anaheim</td>\n",
              "      <td>Los Angeles</td>\n",
              "      <td>1</td>\n",
              "      <td>629900</td>\n",
              "    </tr>\n",
              "    <tr>\n",
              "      <th>2</th>\n",
              "      <td>2017-05-31</td>\n",
              "      <td>17426</td>\n",
              "      <td>Chicago</td>\n",
              "      <td>IL</td>\n",
              "      <td>Chicago</td>\n",
              "      <td>Cook</td>\n",
              "      <td>2</td>\n",
              "      <td>222700</td>\n",
              "    </tr>\n",
              "    <tr>\n",
              "      <th>3</th>\n",
              "      <td>2017-05-31</td>\n",
              "      <td>13271</td>\n",
              "      <td>Philadelphia</td>\n",
              "      <td>PA</td>\n",
              "      <td>Philadelphia</td>\n",
              "      <td>Philadelphia</td>\n",
              "      <td>3</td>\n",
              "      <td>137300</td>\n",
              "    </tr>\n",
              "    <tr>\n",
              "      <th>4</th>\n",
              "      <td>2017-05-31</td>\n",
              "      <td>40326</td>\n",
              "      <td>Phoenix</td>\n",
              "      <td>AZ</td>\n",
              "      <td>Phoenix</td>\n",
              "      <td>Maricopa</td>\n",
              "      <td>4</td>\n",
              "      <td>211300</td>\n",
              "    </tr>\n",
              "  </tbody>\n",
              "</table>\n",
              "</div>"
            ],
            "text/plain": [
              "         Date  RegionID    RegionName  ...        County SizeRank    Zhvi\n",
              "0  2017-05-31      6181      New York  ...        Queens        0  672400\n",
              "1  2017-05-31     12447   Los Angeles  ...   Los Angeles        1  629900\n",
              "2  2017-05-31     17426       Chicago  ...          Cook        2  222700\n",
              "3  2017-05-31     13271  Philadelphia  ...  Philadelphia        3  137300\n",
              "4  2017-05-31     40326       Phoenix  ...      Maricopa        4  211300\n",
              "\n",
              "[5 rows x 8 columns]"
            ]
          },
          "metadata": {
            "tags": []
          },
          "execution_count": 33
        }
      ]
    },
    {
      "cell_type": "markdown",
      "metadata": {
        "id": "l1lvPgwzdjZe"
      },
      "source": [
        "**Checking for a substring**\n",
        "\n",
        "In order to lean how to use string method to check for a substring from pandas series. We use the contains method from the str package.\n",
        "\n",
        "\n",
        "Here we call the str.contains method on the RegionNmae series from our dataset. We are looking for records that have the New subtrstring in them. It will print out a Boolean series, print True when substring is found and False when substring is not found."
      ]
    },
    {
      "cell_type": "code",
      "metadata": {
        "colab": {
          "base_uri": "https://localhost:8080/"
        },
        "id": "gppJgcyKeFNt",
        "outputId": "572a9a1f-d705-4d5c-8bfa-e354b289105f"
      },
      "source": [
        "data.RegionName.str.contains('New').head()"
      ],
      "execution_count": 34,
      "outputs": [
        {
          "output_type": "execute_result",
          "data": {
            "text/plain": [
              "0     True\n",
              "1    False\n",
              "2    False\n",
              "3    False\n",
              "4    False\n",
              "Name: RegionName, dtype: bool"
            ]
          },
          "metadata": {
            "tags": []
          },
          "execution_count": 34
        }
      ]
    },
    {
      "cell_type": "markdown",
      "metadata": {
        "id": "ImtimZJheQC3"
      },
      "source": [
        "**Changing the values of a series or column into uppercase**\n",
        "\n",
        "\n",
        "There is a very common string method for converting Python strings to uppercase. We can use it to convert all the values from a column into uppercase. We do this by calling str.upper on the series. Here, we call it on the RegionName column."
      ]
    },
    {
      "cell_type": "code",
      "metadata": {
        "colab": {
          "base_uri": "https://localhost:8080/"
        },
        "id": "Z0ejuI2QekUx",
        "outputId": "7fda177d-0a96-4c8d-9899-8e201d631692"
      },
      "source": [
        "data.RegionName.str.upper().head()"
      ],
      "execution_count": 35,
      "outputs": [
        {
          "output_type": "execute_result",
          "data": {
            "text/plain": [
              "0        NEW YORK\n",
              "1     LOS ANGELES\n",
              "2         CHICAGO\n",
              "3    PHILADELPHIA\n",
              "4         PHOENIX\n",
              "Name: RegionName, dtype: object"
            ]
          },
          "metadata": {
            "tags": []
          },
          "execution_count": 35
        }
      ]
    },
    {
      "cell_type": "code",
      "metadata": {
        "colab": {
          "base_uri": "https://localhost:8080/"
        },
        "id": "sayleeNAepBQ",
        "outputId": "2dee6624-684e-4c30-ed28-a3e4af698312"
      },
      "source": [
        "data.RegionName.str.lower().head()"
      ],
      "execution_count": 36,
      "outputs": [
        {
          "output_type": "execute_result",
          "data": {
            "text/plain": [
              "0        new york\n",
              "1     los angeles\n",
              "2         chicago\n",
              "3    philadelphia\n",
              "4         phoenix\n",
              "Name: RegionName, dtype: object"
            ]
          },
          "metadata": {
            "tags": []
          },
          "execution_count": 36
        }
      ]
    },
    {
      "cell_type": "code",
      "metadata": {
        "colab": {
          "base_uri": "https://localhost:8080/"
        },
        "id": "wAK0JR8ceurF",
        "outputId": "5844fa74-4d36-42bf-c222-c54cca9601e9"
      },
      "source": [
        "# Find the length of every value of a column\n",
        "data.County.str.len().head()"
      ],
      "execution_count": 37,
      "outputs": [
        {
          "output_type": "execute_result",
          "data": {
            "text/plain": [
              "0     6\n",
              "1    11\n",
              "2     4\n",
              "3    12\n",
              "4     8\n",
              "Name: County, dtype: int64"
            ]
          },
          "metadata": {
            "tags": []
          },
          "execution_count": 37
        }
      ]
    },
    {
      "cell_type": "code",
      "metadata": {
        "colab": {
          "base_uri": "https://localhost:8080/"
        },
        "id": "H_ITnNKke30j",
        "outputId": "74b34569-e8fc-498d-f0df-285f04c18fe3"
      },
      "source": [
        "# Remove white space using the lstrip() method\n",
        "\n",
        "data.RegionName.str.lstrip().head()"
      ],
      "execution_count": 38,
      "outputs": [
        {
          "output_type": "execute_result",
          "data": {
            "text/plain": [
              "0        New York\n",
              "1     Los Angeles\n",
              "2         Chicago\n",
              "3    Philadelphia\n",
              "4         Phoenix\n",
              "Name: RegionName, dtype: object"
            ]
          },
          "metadata": {
            "tags": []
          },
          "execution_count": 38
        }
      ]
    },
    {
      "cell_type": "code",
      "metadata": {
        "colab": {
          "base_uri": "https://localhost:8080/"
        },
        "id": "PMREvhmIfGSi",
        "outputId": "bbd19309-fde4-4cb5-f40a-05718c0ef5b1"
      },
      "source": [
        "# Replacing parts of a column's values by using replace\n",
        "data.RegionName.str.replace(' ', '').head() # It will replace the spaces in the RegionName column from our dataset with no space"
      ],
      "execution_count": 39,
      "outputs": [
        {
          "output_type": "execute_result",
          "data": {
            "text/plain": [
              "0         NewYork\n",
              "1      LosAngeles\n",
              "2         Chicago\n",
              "3    Philadelphia\n",
              "4         Phoenix\n",
              "Name: RegionName, dtype: object"
            ]
          },
          "metadata": {
            "tags": []
          },
          "execution_count": 39
        }
      ]
    },
    {
      "cell_type": "markdown",
      "metadata": {
        "id": "yVU-_eyOf9hG"
      },
      "source": [
        "**Changing the datatype of a pandas series**\n",
        "\n",
        "In this video we will learn about changing the datatype of a pandas series. We will see how to change datatypes after reading the data within. We will also learn how to change datatypes while reading data in pandas. We will walk through an example of chaning an int column to float. We will see how to convert a string values column to the datatime datatype."
      ]
    },
    {
      "cell_type": "code",
      "metadata": {
        "colab": {
          "base_uri": "https://localhost:8080/",
          "height": 203
        },
        "id": "Rx1bMGIVgbjv",
        "outputId": "f85881c3-574d-4196-c5f3-a78fd5d4f2ac"
      },
      "source": [
        "data= pd.read_table('data-zillow.csv', sep=',')\n",
        "data.head()"
      ],
      "execution_count": 40,
      "outputs": [
        {
          "output_type": "execute_result",
          "data": {
            "text/html": [
              "<div>\n",
              "<style scoped>\n",
              "    .dataframe tbody tr th:only-of-type {\n",
              "        vertical-align: middle;\n",
              "    }\n",
              "\n",
              "    .dataframe tbody tr th {\n",
              "        vertical-align: top;\n",
              "    }\n",
              "\n",
              "    .dataframe thead th {\n",
              "        text-align: right;\n",
              "    }\n",
              "</style>\n",
              "<table border=\"1\" class=\"dataframe\">\n",
              "  <thead>\n",
              "    <tr style=\"text-align: right;\">\n",
              "      <th></th>\n",
              "      <th>Date</th>\n",
              "      <th>RegionID</th>\n",
              "      <th>RegionName</th>\n",
              "      <th>State</th>\n",
              "      <th>Metro</th>\n",
              "      <th>County</th>\n",
              "      <th>SizeRank</th>\n",
              "      <th>Zhvi</th>\n",
              "    </tr>\n",
              "  </thead>\n",
              "  <tbody>\n",
              "    <tr>\n",
              "      <th>0</th>\n",
              "      <td>2017-05-31</td>\n",
              "      <td>6181</td>\n",
              "      <td>New York</td>\n",
              "      <td>NY</td>\n",
              "      <td>New York</td>\n",
              "      <td>Queens</td>\n",
              "      <td>0</td>\n",
              "      <td>672400</td>\n",
              "    </tr>\n",
              "    <tr>\n",
              "      <th>1</th>\n",
              "      <td>2017-05-31</td>\n",
              "      <td>12447</td>\n",
              "      <td>Los Angeles</td>\n",
              "      <td>CA</td>\n",
              "      <td>Los Angeles-Long Beach-Anaheim</td>\n",
              "      <td>Los Angeles</td>\n",
              "      <td>1</td>\n",
              "      <td>629900</td>\n",
              "    </tr>\n",
              "    <tr>\n",
              "      <th>2</th>\n",
              "      <td>2017-05-31</td>\n",
              "      <td>17426</td>\n",
              "      <td>Chicago</td>\n",
              "      <td>IL</td>\n",
              "      <td>Chicago</td>\n",
              "      <td>Cook</td>\n",
              "      <td>2</td>\n",
              "      <td>222700</td>\n",
              "    </tr>\n",
              "    <tr>\n",
              "      <th>3</th>\n",
              "      <td>2017-05-31</td>\n",
              "      <td>13271</td>\n",
              "      <td>Philadelphia</td>\n",
              "      <td>PA</td>\n",
              "      <td>Philadelphia</td>\n",
              "      <td>Philadelphia</td>\n",
              "      <td>3</td>\n",
              "      <td>137300</td>\n",
              "    </tr>\n",
              "    <tr>\n",
              "      <th>4</th>\n",
              "      <td>2017-05-31</td>\n",
              "      <td>40326</td>\n",
              "      <td>Phoenix</td>\n",
              "      <td>AZ</td>\n",
              "      <td>Phoenix</td>\n",
              "      <td>Maricopa</td>\n",
              "      <td>4</td>\n",
              "      <td>211300</td>\n",
              "    </tr>\n",
              "  </tbody>\n",
              "</table>\n",
              "</div>"
            ],
            "text/plain": [
              "         Date  RegionID    RegionName  ...        County SizeRank    Zhvi\n",
              "0  2017-05-31      6181      New York  ...        Queens        0  672400\n",
              "1  2017-05-31     12447   Los Angeles  ...   Los Angeles        1  629900\n",
              "2  2017-05-31     17426       Chicago  ...          Cook        2  222700\n",
              "3  2017-05-31     13271  Philadelphia  ...  Philadelphia        3  137300\n",
              "4  2017-05-31     40326       Phoenix  ...      Maricopa        4  211300\n",
              "\n",
              "[5 rows x 8 columns]"
            ]
          },
          "metadata": {
            "tags": []
          },
          "execution_count": 40
        }
      ]
    },
    {
      "cell_type": "markdown",
      "metadata": {
        "id": "08gDSq4lgnlX"
      },
      "source": [
        "**Changing an int datatype column to a float.**"
      ]
    },
    {
      "cell_type": "code",
      "metadata": {
        "colab": {
          "base_uri": "https://localhost:8080/"
        },
        "id": "0vo6l-vPgd2p",
        "outputId": "71241119-556d-4bbf-f790-beb11239ab18"
      },
      "source": [
        "# Checking the datatypes of columns from our real dataset.\n",
        "data.dtypes"
      ],
      "execution_count": 41,
      "outputs": [
        {
          "output_type": "execute_result",
          "data": {
            "text/plain": [
              "Date          object\n",
              "RegionID       int64\n",
              "RegionName    object\n",
              "State         object\n",
              "Metro         object\n",
              "County        object\n",
              "SizeRank       int64\n",
              "Zhvi           int64\n",
              "dtype: object"
            ]
          },
          "metadata": {
            "tags": []
          },
          "execution_count": 41
        }
      ]
    },
    {
      "cell_type": "markdown",
      "metadata": {
        "id": "wFcDW4R4gx9K"
      },
      "source": [
        "We then use astype method to change the datatype.  We will pass float to the astype method and call this method ont eh column , the datatype of which we want to change."
      ]
    },
    {
      "cell_type": "code",
      "metadata": {
        "colab": {
          "base_uri": "https://localhost:8080/"
        },
        "id": "KNQqLmI_g_f5",
        "outputId": "5e8730fb-82e0-43dc-ec49-d964ec5bfbd9"
      },
      "source": [
        "data['Zhvi'] = data.Zhvi.astype(float)\n",
        "data.dtypes"
      ],
      "execution_count": 42,
      "outputs": [
        {
          "output_type": "execute_result",
          "data": {
            "text/plain": [
              "Date           object\n",
              "RegionID        int64\n",
              "RegionName     object\n",
              "State          object\n",
              "Metro          object\n",
              "County         object\n",
              "SizeRank        int64\n",
              "Zhvi          float64\n",
              "dtype: object"
            ]
          },
          "metadata": {
            "tags": []
          },
          "execution_count": 42
        }
      ]
    },
    {
      "cell_type": "markdown",
      "metadata": {
        "id": "jj0b0N_ehK6t"
      },
      "source": [
        "**Chaging the datatype while reading data**\n",
        "\n",
        "\n",
        "We just changed the datatype of the column after the data has been read into pandas. Alternatively, we cna change the datatype while reading in the data. For this we will pass the column name and the datatype into the column we want to chage to read data method. The column we wanted in float has been imprted as float64."
      ]
    },
    {
      "cell_type": "code",
      "metadata": {
        "colab": {
          "base_uri": "https://localhost:8080/"
        },
        "id": "nFmNW0OYho98",
        "outputId": "6fcf780f-e2dc-45b9-bb21-7c7740baa843"
      },
      "source": [
        "data2= pd.read_csv('data-zillow.csv', sep=',', dtype={'Zhvi':float})\n",
        "data2.dtypes"
      ],
      "execution_count": 44,
      "outputs": [
        {
          "output_type": "execute_result",
          "data": {
            "text/plain": [
              "Date           object\n",
              "RegionID        int64\n",
              "RegionName     object\n",
              "State          object\n",
              "Metro          object\n",
              "County         object\n",
              "SizeRank        int64\n",
              "Zhvi          float64\n",
              "dtype: object"
            ]
          },
          "metadata": {
            "tags": []
          },
          "execution_count": 44
        }
      ]
    },
    {
      "cell_type": "markdown",
      "metadata": {
        "id": "i9OUu3tkh-Mc"
      },
      "source": [
        "**Converting string to datetime**\n",
        "\n",
        "\n",
        "The main thing here is that our dataset has a date column but it shows up as an object or a string datatype. We will convert this into a proper datatime column.\n",
        "\n",
        "We will use pandas'to_datetime method for this, which can parse a few different datetime formats."
      ]
    },
    {
      "cell_type": "code",
      "metadata": {
        "colab": {
          "base_uri": "https://localhost:8080/"
        },
        "id": "J2JdA_3XiSr8",
        "outputId": "d26303ca-4a55-4f51-e21b-e20749831946"
      },
      "source": [
        "pd.to_datetime(data2.Date, infer_datetime_format=True).head()"
      ],
      "execution_count": 45,
      "outputs": [
        {
          "output_type": "execute_result",
          "data": {
            "text/plain": [
              "0   2017-05-31\n",
              "1   2017-05-31\n",
              "2   2017-05-31\n",
              "3   2017-05-31\n",
              "4   2017-05-31\n",
              "Name: Date, dtype: datetime64[ns]"
            ]
          },
          "metadata": {
            "tags": []
          },
          "execution_count": 45
        }
      ]
    },
    {
      "cell_type": "markdown",
      "metadata": {
        "id": "cgo5KyCdiZeB"
      },
      "source": [
        "As we can see that our Date field has been changed from an object to datetime64."
      ]
    }
  ]
}