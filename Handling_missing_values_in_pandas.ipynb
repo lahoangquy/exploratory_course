{
  "nbformat": 4,
  "nbformat_minor": 0,
  "metadata": {
    "colab": {
      "name": "Handling missing values in pandas.ipynb",
      "provenance": [],
      "collapsed_sections": []
    },
    "kernelspec": {
      "name": "python3",
      "display_name": "Python 3"
    },
    "language_info": {
      "name": "python"
    }
  },
  "cells": [
    {
      "cell_type": "markdown",
      "metadata": {
        "id": "4-lXwCBygZoG"
      },
      "source": [
        "In this video we will explore how we can use various pandas techniques to handle the missing data in our datasets. We will learn how to find out how much data is missing and from which columns. We will see how to drop rows or columns where all or a lot of records are missing data. We will also learn how, instead of dropping data, we can also fill in the missing records with zeros or the mean of the remianing values"
      ]
    },
    {
      "cell_type": "code",
      "metadata": {
        "id": "ytpzmQwpHV8i",
        "colab": {
          "base_uri": "https://localhost:8080/"
        },
        "outputId": "190a56a9-8fa9-428b-ac89-38e217df0ec5"
      },
      "source": [
        "from google.colab import drive\n",
        "drive.mount('/content/drive')"
      ],
      "execution_count": 1,
      "outputs": [
        {
          "output_type": "stream",
          "text": [
            "Mounted at /content/drive\n"
          ],
          "name": "stdout"
        }
      ]
    },
    {
      "cell_type": "code",
      "metadata": {
        "id": "m28dFXaeHeZ3",
        "colab": {
          "base_uri": "https://localhost:8080/"
        },
        "outputId": "aacfd918-8c13-41fe-ae2e-e24a5fad36dd"
      },
      "source": [
        "%cd /content/drive/My Drive/Colab Notebooks"
      ],
      "execution_count": 2,
      "outputs": [
        {
          "output_type": "stream",
          "text": [
            "/content/drive/My Drive/Colab Notebooks\n"
          ],
          "name": "stdout"
        }
      ]
    },
    {
      "cell_type": "code",
      "metadata": {
        "colab": {
          "base_uri": "https://localhost:8080/",
          "height": 203
        },
        "id": "PrdyOyo6g4SW",
        "outputId": "484fa6cc-3b3b-409b-e18f-8fff0b6ddc55"
      },
      "source": [
        "import pandas as pd\n",
        "data = pd.read_csv('data-titanic.csv')\n",
        "data.head()"
      ],
      "execution_count": 3,
      "outputs": [
        {
          "output_type": "execute_result",
          "data": {
            "text/html": [
              "<div>\n",
              "<style scoped>\n",
              "    .dataframe tbody tr th:only-of-type {\n",
              "        vertical-align: middle;\n",
              "    }\n",
              "\n",
              "    .dataframe tbody tr th {\n",
              "        vertical-align: top;\n",
              "    }\n",
              "\n",
              "    .dataframe thead th {\n",
              "        text-align: right;\n",
              "    }\n",
              "</style>\n",
              "<table border=\"1\" class=\"dataframe\">\n",
              "  <thead>\n",
              "    <tr style=\"text-align: right;\">\n",
              "      <th></th>\n",
              "      <th>PassengerId</th>\n",
              "      <th>Survived</th>\n",
              "      <th>Pclass</th>\n",
              "      <th>Name</th>\n",
              "      <th>Sex</th>\n",
              "      <th>Age</th>\n",
              "      <th>SibSp</th>\n",
              "      <th>Parch</th>\n",
              "      <th>Ticket</th>\n",
              "      <th>Fare</th>\n",
              "      <th>Cabin</th>\n",
              "      <th>Embarked</th>\n",
              "    </tr>\n",
              "  </thead>\n",
              "  <tbody>\n",
              "    <tr>\n",
              "      <th>0</th>\n",
              "      <td>1</td>\n",
              "      <td>0</td>\n",
              "      <td>3</td>\n",
              "      <td>Braund, Mr. Owen Harris</td>\n",
              "      <td>male</td>\n",
              "      <td>22.0</td>\n",
              "      <td>1</td>\n",
              "      <td>0</td>\n",
              "      <td>A/5 21171</td>\n",
              "      <td>7.2500</td>\n",
              "      <td>NaN</td>\n",
              "      <td>S</td>\n",
              "    </tr>\n",
              "    <tr>\n",
              "      <th>1</th>\n",
              "      <td>2</td>\n",
              "      <td>1</td>\n",
              "      <td>1</td>\n",
              "      <td>Cumings, Mrs. John Bradley (Florence Briggs Th...</td>\n",
              "      <td>female</td>\n",
              "      <td>38.0</td>\n",
              "      <td>1</td>\n",
              "      <td>0</td>\n",
              "      <td>PC 17599</td>\n",
              "      <td>71.2833</td>\n",
              "      <td>C85</td>\n",
              "      <td>C</td>\n",
              "    </tr>\n",
              "    <tr>\n",
              "      <th>2</th>\n",
              "      <td>3</td>\n",
              "      <td>1</td>\n",
              "      <td>3</td>\n",
              "      <td>Heikkinen, Miss. Laina</td>\n",
              "      <td>female</td>\n",
              "      <td>26.0</td>\n",
              "      <td>0</td>\n",
              "      <td>0</td>\n",
              "      <td>STON/O2. 3101282</td>\n",
              "      <td>7.9250</td>\n",
              "      <td>NaN</td>\n",
              "      <td>S</td>\n",
              "    </tr>\n",
              "    <tr>\n",
              "      <th>3</th>\n",
              "      <td>4</td>\n",
              "      <td>1</td>\n",
              "      <td>1</td>\n",
              "      <td>Futrelle, Mrs. Jacques Heath (Lily May Peel)</td>\n",
              "      <td>female</td>\n",
              "      <td>35.0</td>\n",
              "      <td>1</td>\n",
              "      <td>0</td>\n",
              "      <td>113803</td>\n",
              "      <td>53.1000</td>\n",
              "      <td>C123</td>\n",
              "      <td>S</td>\n",
              "    </tr>\n",
              "    <tr>\n",
              "      <th>4</th>\n",
              "      <td>5</td>\n",
              "      <td>0</td>\n",
              "      <td>3</td>\n",
              "      <td>Allen, Mr. William Henry</td>\n",
              "      <td>male</td>\n",
              "      <td>35.0</td>\n",
              "      <td>0</td>\n",
              "      <td>0</td>\n",
              "      <td>373450</td>\n",
              "      <td>8.0500</td>\n",
              "      <td>NaN</td>\n",
              "      <td>S</td>\n",
              "    </tr>\n",
              "  </tbody>\n",
              "</table>\n",
              "</div>"
            ],
            "text/plain": [
              "   PassengerId  Survived  Pclass  ...     Fare Cabin  Embarked\n",
              "0            1         0       3  ...   7.2500   NaN         S\n",
              "1            2         1       1  ...  71.2833   C85         C\n",
              "2            3         1       3  ...   7.9250   NaN         S\n",
              "3            4         1       1  ...  53.1000  C123         S\n",
              "4            5         0       3  ...   8.0500   NaN         S\n",
              "\n",
              "[5 rows x 12 columns]"
            ]
          },
          "metadata": {
            "tags": []
          },
          "execution_count": 3
        }
      ]
    },
    {
      "cell_type": "markdown",
      "metadata": {
        "id": "_r8Ge5W-hBXO"
      },
      "source": [
        "It is a time to look at how many records are missing first. To do this we will first need to find out the total number of records in the dataset. We can do this by calling the shape property on the DataFrame."
      ]
    },
    {
      "cell_type": "code",
      "metadata": {
        "colab": {
          "base_uri": "https://localhost:8080/"
        },
        "id": "rjMVtSx4hR25",
        "outputId": "41925513-b26b-43cb-c3d8-5c0ad9628df6"
      },
      "source": [
        "data.shape"
      ],
      "execution_count": 4,
      "outputs": [
        {
          "output_type": "execute_result",
          "data": {
            "text/plain": [
              "(891, 12)"
            ]
          },
          "metadata": {
            "tags": []
          },
          "execution_count": 4
        }
      ]
    },
    {
      "cell_type": "markdown",
      "metadata": {
        "id": "PlSvqaJ_hU9e"
      },
      "source": [
        "We can see that the total number of records is 891 and that the total number of coluumns is 12.\n",
        "\n",
        "\n",
        "We then find out the number of records in each column. We can do this by calling the count method on the DataFrame"
      ]
    },
    {
      "cell_type": "code",
      "metadata": {
        "colab": {
          "base_uri": "https://localhost:8080/"
        },
        "id": "rN6kqueOhhEn",
        "outputId": "0afa9d9d-1422-4fb1-c291-eef33073071d"
      },
      "source": [
        "data.count()"
      ],
      "execution_count": 5,
      "outputs": [
        {
          "output_type": "execute_result",
          "data": {
            "text/plain": [
              "PassengerId    891\n",
              "Survived       891\n",
              "Pclass         891\n",
              "Name           891\n",
              "Sex            891\n",
              "Age            714\n",
              "SibSp          891\n",
              "Parch          891\n",
              "Ticket         891\n",
              "Fare           891\n",
              "Cabin          204\n",
              "Embarked       889\n",
              "dtype: int64"
            ]
          },
          "metadata": {
            "tags": []
          },
          "execution_count": 5
        }
      ]
    },
    {
      "cell_type": "markdown",
      "metadata": {
        "id": "Z5lghG-ehkkF"
      },
      "source": [
        "The difference between the total records and the count per column represents the numnber of records missing from that column. Out of the 12 columns we have 3 columns where values are missing. For example. Age only has 714 values out of a total of 891 rows. Cabin only has 204 records and Embraked  has values for 889 records. There are different ways we could handle these missing values. One of the ways is to drop any row here a value is missing even from a single column."
      ]
    },
    {
      "cell_type": "code",
      "metadata": {
        "colab": {
          "base_uri": "https://localhost:8080/"
        },
        "id": "iKk8MTT4iIiN",
        "outputId": "dc2a5a92-19cf-4f44-df34-081a53fb24b1"
      },
      "source": [
        "data_missing_dropped = data.dropna()\n",
        "data_missing_dropped.shape"
      ],
      "execution_count": 6,
      "outputs": [
        {
          "output_type": "execute_result",
          "data": {
            "text/plain": [
              "(183, 12)"
            ]
          },
          "metadata": {
            "tags": []
          },
          "execution_count": 6
        }
      ]
    },
    {
      "cell_type": "markdown",
      "metadata": {
        "id": "H8csLP_riPiK"
      },
      "source": [
        "When we run this drop rows method, we assign the results back into a new DataFrame. This leaves us with just 183 records out of a total of 891. However, this may lead to losing a lot of the data and may not be acceptable.\n",
        "\n",
        "Another method is to drop only those rows where all values are missing."
      ]
    },
    {
      "cell_type": "code",
      "metadata": {
        "colab": {
          "base_uri": "https://localhost:8080/"
        },
        "id": "Mkbp-cY5ijBT",
        "outputId": "bc688469-e818-436a-ce0f-2cbcac9a2ca2"
      },
      "source": [
        "data_all_missing_dropped = data.dropna(how=\"all\")\n",
        "data_all_missing_dropped.shape"
      ],
      "execution_count": 7,
      "outputs": [
        {
          "output_type": "execute_result",
          "data": {
            "text/plain": [
              "(891, 12)"
            ]
          },
          "metadata": {
            "tags": []
          },
          "execution_count": 7
        }
      ]
    },
    {
      "cell_type": "markdown",
      "metadata": {
        "id": "iaEm8MJcis3-"
      },
      "source": [
        "We do this by setting the how parameter for the dropna method to all. \n",
        "\n",
        "Instead of dropping rows, another method is to fill in the missing values with some data. We can fill in the missing values with 0."
      ]
    },
    {
      "cell_type": "code",
      "metadata": {
        "colab": {
          "base_uri": "https://localhost:8080/"
        },
        "id": "qxQhq5Xbi4o9",
        "outputId": "d5423bc8-6b65-46de-dd22-2b4bcc13450e"
      },
      "source": [
        "data_filled_zeros = data.fillna(0)\n",
        "data_filled_zeros.count()"
      ],
      "execution_count": 8,
      "outputs": [
        {
          "output_type": "execute_result",
          "data": {
            "text/plain": [
              "PassengerId    891\n",
              "Survived       891\n",
              "Pclass         891\n",
              "Name           891\n",
              "Sex            891\n",
              "Age            891\n",
              "SibSp          891\n",
              "Parch          891\n",
              "Ticket         891\n",
              "Fare           891\n",
              "Cabin          891\n",
              "Embarked       891\n",
              "dtype: int64"
            ]
          },
          "metadata": {
            "tags": []
          },
          "execution_count": 8
        }
      ]
    },
    {
      "cell_type": "markdown",
      "metadata": {
        "id": "vmwhfMLqi_xH"
      },
      "source": [
        "Here we use pandas' fillna method, and we pass the numeric value of 0 to the column where the data should be filled in. You can see that we have now filled all teh missing values with 0 and hence the count for all the column has gone up to the total number of count of records in the dataset. \n",
        "\n",
        "\n",
        "Also , instead of filling in missing values with 0, we could fill them with the mean of the remaining exisiting values. To do this we call the fillna method on the column where we are filling the values in, and we pass the mean of the column as the parameter."
      ]
    },
    {
      "cell_type": "code",
      "metadata": {
        "colab": {
          "base_uri": "https://localhost:8080/"
        },
        "id": "SR00vu6ajin1",
        "outputId": "32a30e0b-e9a8-45bb-d383-dbd554e22211"
      },
      "source": [
        "data_filled_in_mean = data.copy()\n",
        "data_filled_in_mean.Age.fillna(data.Age.mean(), inplace=True)\n",
        "data_filled_in_mean.count()"
      ],
      "execution_count": 9,
      "outputs": [
        {
          "output_type": "execute_result",
          "data": {
            "text/plain": [
              "PassengerId    891\n",
              "Survived       891\n",
              "Pclass         891\n",
              "Name           891\n",
              "Sex            891\n",
              "Age            891\n",
              "SibSp          891\n",
              "Parch          891\n",
              "Ticket         891\n",
              "Fare           891\n",
              "Cabin          204\n",
              "Embarked       889\n",
              "dtype: int64"
            ]
          },
          "metadata": {
            "tags": []
          },
          "execution_count": 9
        }
      ]
    },
    {
      "cell_type": "markdown",
      "metadata": {
        "id": "GoOZ_e1Aj0np"
      },
      "source": [
        "For example here we did fill in the missing value of Agfe with the mean of the existing values."
      ]
    },
    {
      "cell_type": "markdown",
      "metadata": {
        "id": "w7mRqw-Zj8EN"
      },
      "source": [
        "**Extra work**\n",
        "\n",
        "Try to apply all the above methods to fill in all the values to get 891 so we can elimiate all the missing values."
      ]
    }
  ]
}