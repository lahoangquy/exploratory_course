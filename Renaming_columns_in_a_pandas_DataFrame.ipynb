{
  "nbformat": 4,
  "nbformat_minor": 0,
  "metadata": {
    "colab": {
      "name": "Renaming columns in a pandas DataFrame.ipynb",
      "provenance": [],
      "collapsed_sections": []
    },
    "kernelspec": {
      "name": "python3",
      "display_name": "Python 3"
    },
    "language_info": {
      "name": "python"
    }
  },
  "cells": [
    {
      "cell_type": "markdown",
      "metadata": {
        "id": "4-lXwCBygZoG"
      },
      "source": [
        "In this video we will learn about various methods for renaming column labels in pandas. We will learn how to rename columns both after reading in data and while reading in data, and we will see how to rename either all or specific columns."
      ]
    },
    {
      "cell_type": "code",
      "metadata": {
        "id": "ytpzmQwpHV8i",
        "colab": {
          "base_uri": "https://localhost:8080/"
        },
        "outputId": "9177297f-e30f-4d06-8aba-21893d0e13e1"
      },
      "source": [
        "from google.colab import drive\n",
        "drive.mount('/content/drive')"
      ],
      "execution_count": 1,
      "outputs": [
        {
          "output_type": "stream",
          "text": [
            "Mounted at /content/drive\n"
          ],
          "name": "stdout"
        }
      ]
    },
    {
      "cell_type": "code",
      "metadata": {
        "id": "m28dFXaeHeZ3",
        "colab": {
          "base_uri": "https://localhost:8080/"
        },
        "outputId": "37e9a1d6-489e-408d-b64f-cc724bafb31e"
      },
      "source": [
        "%cd /content/drive/My Drive/Colab Notebooks"
      ],
      "execution_count": 2,
      "outputs": [
        {
          "output_type": "stream",
          "text": [
            "/content/drive/My Drive/Colab Notebooks\n"
          ],
          "name": "stdout"
        }
      ]
    },
    {
      "cell_type": "code",
      "metadata": {
        "id": "R-_HHmK5pHgt"
      },
      "source": [
        "import pandas as pd\n"
      ],
      "execution_count": 3,
      "outputs": []
    },
    {
      "cell_type": "markdown",
      "metadata": {
        "id": "FGLZenF-pKro"
      },
      "source": [
        "There are a few ways by which we can rename the clumns in a pandas DataFrame. One of the ways is to rename the columns while reading in the data from the dataset. To do this we need to pass the column names as a list to the names parameter of the read_csv method.\n"
      ]
    },
    {
      "cell_type": "code",
      "metadata": {
        "colab": {
          "base_uri": "https://localhost:8080/",
          "height": 203
        },
        "id": "YCH7PPfDpahg",
        "outputId": "d1d2203f-1be6-4493-ead4-a903738814ba"
      },
      "source": [
        "list_columns= ['Date', 'Region ID', 'Region Name', 'State', 'City', 'County', 'Size Rank', 'Price']\n",
        "data = pd.read_csv('data-zillow.csv', names = list_columns)\n",
        "data.head()"
      ],
      "execution_count": 4,
      "outputs": [
        {
          "output_type": "execute_result",
          "data": {
            "text/html": [
              "<div>\n",
              "<style scoped>\n",
              "    .dataframe tbody tr th:only-of-type {\n",
              "        vertical-align: middle;\n",
              "    }\n",
              "\n",
              "    .dataframe tbody tr th {\n",
              "        vertical-align: top;\n",
              "    }\n",
              "\n",
              "    .dataframe thead th {\n",
              "        text-align: right;\n",
              "    }\n",
              "</style>\n",
              "<table border=\"1\" class=\"dataframe\">\n",
              "  <thead>\n",
              "    <tr style=\"text-align: right;\">\n",
              "      <th></th>\n",
              "      <th>Date</th>\n",
              "      <th>Region ID</th>\n",
              "      <th>Region Name</th>\n",
              "      <th>State</th>\n",
              "      <th>City</th>\n",
              "      <th>County</th>\n",
              "      <th>Size Rank</th>\n",
              "      <th>Price</th>\n",
              "    </tr>\n",
              "  </thead>\n",
              "  <tbody>\n",
              "    <tr>\n",
              "      <th>0</th>\n",
              "      <td>Date</td>\n",
              "      <td>RegionID</td>\n",
              "      <td>RegionName</td>\n",
              "      <td>State</td>\n",
              "      <td>Metro</td>\n",
              "      <td>County</td>\n",
              "      <td>SizeRank</td>\n",
              "      <td>Zhvi</td>\n",
              "    </tr>\n",
              "    <tr>\n",
              "      <th>1</th>\n",
              "      <td>2017-05-31</td>\n",
              "      <td>6181</td>\n",
              "      <td>New York</td>\n",
              "      <td>NY</td>\n",
              "      <td>New York</td>\n",
              "      <td>Queens</td>\n",
              "      <td>0</td>\n",
              "      <td>672400</td>\n",
              "    </tr>\n",
              "    <tr>\n",
              "      <th>2</th>\n",
              "      <td>2017-05-31</td>\n",
              "      <td>12447</td>\n",
              "      <td>Los Angeles</td>\n",
              "      <td>CA</td>\n",
              "      <td>Los Angeles-Long Beach-Anaheim</td>\n",
              "      <td>Los Angeles</td>\n",
              "      <td>1</td>\n",
              "      <td>629900</td>\n",
              "    </tr>\n",
              "    <tr>\n",
              "      <th>3</th>\n",
              "      <td>2017-05-31</td>\n",
              "      <td>17426</td>\n",
              "      <td>Chicago</td>\n",
              "      <td>IL</td>\n",
              "      <td>Chicago</td>\n",
              "      <td>Cook</td>\n",
              "      <td>2</td>\n",
              "      <td>222700</td>\n",
              "    </tr>\n",
              "    <tr>\n",
              "      <th>4</th>\n",
              "      <td>2017-05-31</td>\n",
              "      <td>13271</td>\n",
              "      <td>Philadelphia</td>\n",
              "      <td>PA</td>\n",
              "      <td>Philadelphia</td>\n",
              "      <td>Philadelphia</td>\n",
              "      <td>3</td>\n",
              "      <td>137300</td>\n",
              "    </tr>\n",
              "  </tbody>\n",
              "</table>\n",
              "</div>"
            ],
            "text/plain": [
              "         Date Region ID   Region Name  ...        County Size Rank   Price\n",
              "0        Date  RegionID    RegionName  ...        County  SizeRank    Zhvi\n",
              "1  2017-05-31      6181      New York  ...        Queens         0  672400\n",
              "2  2017-05-31     12447   Los Angeles  ...   Los Angeles         1  629900\n",
              "3  2017-05-31     17426       Chicago  ...          Cook         2  222700\n",
              "4  2017-05-31     13271  Philadelphia  ...  Philadelphia         3  137300\n",
              "\n",
              "[5 rows x 8 columns]"
            ]
          },
          "metadata": {
            "tags": []
          },
          "execution_count": 4
        }
      ]
    },
    {
      "cell_type": "markdown",
      "metadata": {
        "id": "C1npCujJp5eH"
      },
      "source": [
        "In the above example, we first created a list of column names we wanted , this should be the sanme number as the number of columns in the actual dataset. We then pass the list to the names parameter in the read_csv method. We then wee that we have the column anmes we wanted and se the read_csv method has changed the column names from what was there by default in the text file to the names we supplied.\n",
        "\n",
        "We can also rename column names afer the data has been read. Let's read the dataset in again from the csv file, but this time without supplying any column anmes. We can rename columns by using the rename method."
      ]
    },
    {
      "cell_type": "code",
      "metadata": {
        "colab": {
          "base_uri": "https://localhost:8080/"
        },
        "id": "0Cj7cEyIqhWN",
        "outputId": "38250b1b-a1cb-4414-f3c2-6a5f871f16ea"
      },
      "source": [
        "data.columns"
      ],
      "execution_count": 5,
      "outputs": [
        {
          "output_type": "execute_result",
          "data": {
            "text/plain": [
              "Index(['Date', 'Region ID', 'Region Name', 'State', 'City', 'County',\n",
              "       'Size Rank', 'Price'],\n",
              "      dtype='object')"
            ]
          },
          "metadata": {
            "tags": []
          },
          "execution_count": 5
        }
      ]
    },
    {
      "cell_type": "markdown",
      "metadata": {
        "id": "2APBVjC8qjqw"
      },
      "source": [
        "Now we call the rename method on the DataFrame and pass the column names, old and new values to the columns parameter."
      ]
    },
    {
      "cell_type": "code",
      "metadata": {
        "id": "IJ4DK0t-qtJq"
      },
      "source": [
        "data.rename(columns={'Region Name': 'Region', 'Metro': 'City'}, inplace=True)"
      ],
      "execution_count": 8,
      "outputs": []
    },
    {
      "cell_type": "markdown",
      "metadata": {
        "id": "Je1XHcUCq5zh"
      },
      "source": [
        "In the above dode, we change only a few column names rather than all of the,. Let's call the columns property again to see if the column names have really been changed."
      ]
    },
    {
      "cell_type": "code",
      "metadata": {
        "colab": {
          "base_uri": "https://localhost:8080/"
        },
        "id": "-LIaDgnNrFoB",
        "outputId": "6300902e-ea08-4be1-8c8a-0650cf2b6784"
      },
      "source": [
        "data.columns"
      ],
      "execution_count": 9,
      "outputs": [
        {
          "output_type": "execute_result",
          "data": {
            "text/plain": [
              "Index(['Date', 'Region ID', 'Region', 'State', 'City', 'County', 'Size Rank',\n",
              "       'Price'],\n",
              "      dtype='object')"
            ]
          },
          "metadata": {
            "tags": []
          },
          "execution_count": 9
        }
      ]
    },
    {
      "cell_type": "code",
      "metadata": {
        "id": "-xRPA-8orMdZ"
      },
      "source": [
        "# We can also rename all the columns after the data has been read\n",
        "\n",
        "data.columns=['Time', 'Region ID', 'Region Name', 'State', 'City', 'County', 'Size Rank', 'Price']"
      ],
      "execution_count": 11,
      "outputs": []
    },
    {
      "cell_type": "markdown",
      "metadata": {
        "id": "64LEWbMgrcm3"
      },
      "source": [
        "We have set the clumns property to a list of names to which we want all the columns to be renamed"
      ]
    },
    {
      "cell_type": "code",
      "metadata": {
        "colab": {
          "base_uri": "https://localhost:8080/"
        },
        "id": "rjSfNL3grmbX",
        "outputId": "84a7e8b8-36f9-4f8c-f482-28533f63e129"
      },
      "source": [
        "data.columns"
      ],
      "execution_count": 12,
      "outputs": [
        {
          "output_type": "execute_result",
          "data": {
            "text/plain": [
              "Index(['Time', 'Region ID', 'Region Name', 'State', 'City', 'County',\n",
              "       'Size Rank', 'Price'],\n",
              "      dtype='object')"
            ]
          },
          "metadata": {
            "tags": []
          },
          "execution_count": 12
        }
      ]
    }
  ]
}