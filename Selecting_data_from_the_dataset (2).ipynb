{
  "nbformat": 4,
  "nbformat_minor": 0,
  "metadata": {
    "colab": {
      "name": "Selecting data from the dataset.ipynb",
      "provenance": []
    },
    "kernelspec": {
      "name": "python3",
      "display_name": "Python 3"
    },
    "language_info": {
      "name": "python"
    }
  },
  "cells": [
    {
      "cell_type": "markdown",
      "metadata": {
        "id": "Hugy7AglHHtm"
      },
      "source": [
        "In this new section - Data selection, we will learn about advanced techniques of data selection with pandas, how to select a subset of data, how to select multiple rows and columns from a dataset, how to do sorting on a pandas DataFrame or a series, how to filter roles of a pandas DataFrame and also learn how to apply multiple filters to a pandas DataFrame. We will also loook at how to use the axis parameter in pandas and the uses of string methods in pandas. Finally we will learn how to change the datatype of a pandas series."
      ]
    },
    {
      "cell_type": "markdown",
      "metadata": {
        "id": "3JrCo8f4Hx4G"
      },
      "source": [
        "We will be suing a real dataset from zillow.com, an online real estate marketplace that releases house price datasets as part of their research effort."
      ]
    },
    {
      "cell_type": "code",
      "metadata": {
        "colab": {
          "base_uri": "https://localhost:8080/"
        },
        "id": "VOvd2BYXGLye",
        "outputId": "43331980-47c0-4d7b-cbd2-a05f9d3a362a"
      },
      "source": [
        "from google.colab import drive\n",
        "drive.mount('/content/drive')"
      ],
      "execution_count": 1,
      "outputs": [
        {
          "output_type": "stream",
          "text": [
            "Mounted at /content/drive\n"
          ],
          "name": "stdout"
        }
      ]
    },
    {
      "cell_type": "code",
      "metadata": {
        "colab": {
          "base_uri": "https://localhost:8080/"
        },
        "id": "jtA_a5ILGSCV",
        "outputId": "0f61a604-894e-4446-8c1e-2cb0010295be"
      },
      "source": [
        "%cd /content/drive/My Drive/Colab Notebooks"
      ],
      "execution_count": 2,
      "outputs": [
        {
          "output_type": "stream",
          "text": [
            "/content/drive/My Drive/Colab Notebooks\n"
          ],
          "name": "stdout"
        }
      ]
    },
    {
      "cell_type": "code",
      "metadata": {
        "id": "x4unyqB9ICml"
      },
      "source": [
        "# We will import the pandas modules\n",
        "import pandas as pd"
      ],
      "execution_count": 3,
      "outputs": []
    },
    {
      "cell_type": "markdown",
      "metadata": {
        "id": "aI5YxffjIICy"
      },
      "source": [
        "We will then read in our dataset. Since it is a CSV file, we will be using a pandas'read_csv method for this. We will pass the file name with a comma as a separator to the read_csv method and we will create a DataFrame out of this data which we name data"
      ]
    },
    {
      "cell_type": "code",
      "metadata": {
        "colab": {
          "base_uri": "https://localhost:8080/",
          "height": 203
        },
        "id": "k-NivjVTIbdp",
        "outputId": "331b3a8f-510a-411c-fa75-76395143d22c"
      },
      "source": [
        "data= pd.read_csv('data-zillow.csv', sep=',')\n",
        "data.head()"
      ],
      "execution_count": 4,
      "outputs": [
        {
          "output_type": "execute_result",
          "data": {
            "text/html": [
              "<div>\n",
              "<style scoped>\n",
              "    .dataframe tbody tr th:only-of-type {\n",
              "        vertical-align: middle;\n",
              "    }\n",
              "\n",
              "    .dataframe tbody tr th {\n",
              "        vertical-align: top;\n",
              "    }\n",
              "\n",
              "    .dataframe thead th {\n",
              "        text-align: right;\n",
              "    }\n",
              "</style>\n",
              "<table border=\"1\" class=\"dataframe\">\n",
              "  <thead>\n",
              "    <tr style=\"text-align: right;\">\n",
              "      <th></th>\n",
              "      <th>Date</th>\n",
              "      <th>RegionID</th>\n",
              "      <th>RegionName</th>\n",
              "      <th>State</th>\n",
              "      <th>Metro</th>\n",
              "      <th>County</th>\n",
              "      <th>SizeRank</th>\n",
              "      <th>Zhvi</th>\n",
              "    </tr>\n",
              "  </thead>\n",
              "  <tbody>\n",
              "    <tr>\n",
              "      <th>0</th>\n",
              "      <td>2017-05-31</td>\n",
              "      <td>6181</td>\n",
              "      <td>New York</td>\n",
              "      <td>NY</td>\n",
              "      <td>New York</td>\n",
              "      <td>Queens</td>\n",
              "      <td>0</td>\n",
              "      <td>672400</td>\n",
              "    </tr>\n",
              "    <tr>\n",
              "      <th>1</th>\n",
              "      <td>2017-05-31</td>\n",
              "      <td>12447</td>\n",
              "      <td>Los Angeles</td>\n",
              "      <td>CA</td>\n",
              "      <td>Los Angeles-Long Beach-Anaheim</td>\n",
              "      <td>Los Angeles</td>\n",
              "      <td>1</td>\n",
              "      <td>629900</td>\n",
              "    </tr>\n",
              "    <tr>\n",
              "      <th>2</th>\n",
              "      <td>2017-05-31</td>\n",
              "      <td>17426</td>\n",
              "      <td>Chicago</td>\n",
              "      <td>IL</td>\n",
              "      <td>Chicago</td>\n",
              "      <td>Cook</td>\n",
              "      <td>2</td>\n",
              "      <td>222700</td>\n",
              "    </tr>\n",
              "    <tr>\n",
              "      <th>3</th>\n",
              "      <td>2017-05-31</td>\n",
              "      <td>13271</td>\n",
              "      <td>Philadelphia</td>\n",
              "      <td>PA</td>\n",
              "      <td>Philadelphia</td>\n",
              "      <td>Philadelphia</td>\n",
              "      <td>3</td>\n",
              "      <td>137300</td>\n",
              "    </tr>\n",
              "    <tr>\n",
              "      <th>4</th>\n",
              "      <td>2017-05-31</td>\n",
              "      <td>40326</td>\n",
              "      <td>Phoenix</td>\n",
              "      <td>AZ</td>\n",
              "      <td>Phoenix</td>\n",
              "      <td>Maricopa</td>\n",
              "      <td>4</td>\n",
              "      <td>211300</td>\n",
              "    </tr>\n",
              "  </tbody>\n",
              "</table>\n",
              "</div>"
            ],
            "text/plain": [
              "         Date  RegionID    RegionName  ...        County SizeRank    Zhvi\n",
              "0  2017-05-31      6181      New York  ...        Queens        0  672400\n",
              "1  2017-05-31     12447   Los Angeles  ...   Los Angeles        1  629900\n",
              "2  2017-05-31     17426       Chicago  ...          Cook        2  222700\n",
              "3  2017-05-31     13271  Philadelphia  ...  Philadelphia        3  137300\n",
              "4  2017-05-31     40326       Phoenix  ...      Maricopa        4  211300\n",
              "\n",
              "[5 rows x 8 columns]"
            ]
          },
          "metadata": {
            "tags": []
          },
          "execution_count": 4
        }
      ]
    },
    {
      "cell_type": "markdown",
      "metadata": {
        "id": "Z6qcCLDXIwsH"
      },
      "source": [
        "The DataFrame is created and we did read a few records from the dataset by performing the data.head() method on the DataFrame. This will give the output with columns, such as Date, and some location fields, such as RegionName, State, Metro and Country. The last column title Zhvi is a Zillow term and is the mean house price of that particular region."
      ]
    },
    {
      "cell_type": "markdown",
      "metadata": {
        "id": "m4uS4wjZJcrM"
      },
      "source": [
        "**Sorting a pandas DataFrame**\n",
        "\n",
        "In this video we will learn about the pandas sort_values method. We will also use various methods to sort a pandas DataFrame and learn how to sort a pandas series object.\n",
        "\n",
        "Now let's start with the simple type of sorting. We will use pandas's sort_values method for this. For example, imagine that we want to sort the data by the Metro column. We need to pass Metro as a parameter to the sort_values emthod and call the method on the DataFrame."
      ]
    },
    {
      "cell_type": "code",
      "metadata": {
        "colab": {
          "base_uri": "https://localhost:8080/",
          "height": 417
        },
        "id": "_1fUvSssKC3W",
        "outputId": "8b4e3022-ffdb-4ce2-b20d-ca2d3432c886"
      },
      "source": [
        "data.sort_values('Metro')"
      ],
      "execution_count": 5,
      "outputs": [
        {
          "output_type": "execute_result",
          "data": {
            "text/html": [
              "<div>\n",
              "<style scoped>\n",
              "    .dataframe tbody tr th:only-of-type {\n",
              "        vertical-align: middle;\n",
              "    }\n",
              "\n",
              "    .dataframe tbody tr th {\n",
              "        vertical-align: top;\n",
              "    }\n",
              "\n",
              "    .dataframe thead th {\n",
              "        text-align: right;\n",
              "    }\n",
              "</style>\n",
              "<table border=\"1\" class=\"dataframe\">\n",
              "  <thead>\n",
              "    <tr style=\"text-align: right;\">\n",
              "      <th></th>\n",
              "      <th>Date</th>\n",
              "      <th>RegionID</th>\n",
              "      <th>RegionName</th>\n",
              "      <th>State</th>\n",
              "      <th>Metro</th>\n",
              "      <th>County</th>\n",
              "      <th>SizeRank</th>\n",
              "      <th>Zhvi</th>\n",
              "    </tr>\n",
              "  </thead>\n",
              "  <tbody>\n",
              "    <tr>\n",
              "      <th>9851</th>\n",
              "      <td>2017-05-31</td>\n",
              "      <td>48458</td>\n",
              "      <td>Westport</td>\n",
              "      <td>WA</td>\n",
              "      <td>Aberdeen</td>\n",
              "      <td>Grays Harbor</td>\n",
              "      <td>9851</td>\n",
              "      <td>144600</td>\n",
              "    </tr>\n",
              "    <tr>\n",
              "      <th>4996</th>\n",
              "      <td>2017-05-31</td>\n",
              "      <td>36873</td>\n",
              "      <td>Elma</td>\n",
              "      <td>WA</td>\n",
              "      <td>Aberdeen</td>\n",
              "      <td>Grays Harbor</td>\n",
              "      <td>4996</td>\n",
              "      <td>175200</td>\n",
              "    </tr>\n",
              "    <tr>\n",
              "      <th>5090</th>\n",
              "      <td>2017-05-31</td>\n",
              "      <td>35514</td>\n",
              "      <td>Hoquiam</td>\n",
              "      <td>WA</td>\n",
              "      <td>Aberdeen</td>\n",
              "      <td>Grays Harbor</td>\n",
              "      <td>5090</td>\n",
              "      <td>95700</td>\n",
              "    </tr>\n",
              "    <tr>\n",
              "      <th>9401</th>\n",
              "      <td>2017-05-31</td>\n",
              "      <td>33215</td>\n",
              "      <td>Ocean Shores</td>\n",
              "      <td>WA</td>\n",
              "      <td>Aberdeen</td>\n",
              "      <td>Grays Harbor</td>\n",
              "      <td>9401</td>\n",
              "      <td>152400</td>\n",
              "    </tr>\n",
              "    <tr>\n",
              "      <th>9149</th>\n",
              "      <td>2017-05-31</td>\n",
              "      <td>18370</td>\n",
              "      <td>Grayland</td>\n",
              "      <td>WA</td>\n",
              "      <td>Aberdeen</td>\n",
              "      <td>Grays Harbor</td>\n",
              "      <td>9149</td>\n",
              "      <td>143900</td>\n",
              "    </tr>\n",
              "    <tr>\n",
              "      <th>...</th>\n",
              "      <td>...</td>\n",
              "      <td>...</td>\n",
              "      <td>...</td>\n",
              "      <td>...</td>\n",
              "      <td>...</td>\n",
              "      <td>...</td>\n",
              "      <td>...</td>\n",
              "      <td>...</td>\n",
              "    </tr>\n",
              "    <tr>\n",
              "      <th>10764</th>\n",
              "      <td>2017-05-31</td>\n",
              "      <td>35349</td>\n",
              "      <td>Fraser</td>\n",
              "      <td>CO</td>\n",
              "      <td>NaN</td>\n",
              "      <td>Grand</td>\n",
              "      <td>10764</td>\n",
              "      <td>274500</td>\n",
              "    </tr>\n",
              "    <tr>\n",
              "      <th>10768</th>\n",
              "      <td>2017-05-31</td>\n",
              "      <td>17816</td>\n",
              "      <td>Dresser</td>\n",
              "      <td>WI</td>\n",
              "      <td>NaN</td>\n",
              "      <td>Polk</td>\n",
              "      <td>10768</td>\n",
              "      <td>189900</td>\n",
              "    </tr>\n",
              "    <tr>\n",
              "      <th>10774</th>\n",
              "      <td>2017-05-31</td>\n",
              "      <td>34232</td>\n",
              "      <td>Tamworth</td>\n",
              "      <td>NH</td>\n",
              "      <td>NaN</td>\n",
              "      <td>Carroll</td>\n",
              "      <td>10774</td>\n",
              "      <td>164100</td>\n",
              "    </tr>\n",
              "    <tr>\n",
              "      <th>10822</th>\n",
              "      <td>2017-05-31</td>\n",
              "      <td>18317</td>\n",
              "      <td>Goldsboro</td>\n",
              "      <td>MD</td>\n",
              "      <td>NaN</td>\n",
              "      <td>Caroline</td>\n",
              "      <td>10822</td>\n",
              "      <td>175700</td>\n",
              "    </tr>\n",
              "    <tr>\n",
              "      <th>10825</th>\n",
              "      <td>2017-05-31</td>\n",
              "      <td>26077</td>\n",
              "      <td>Nehalem</td>\n",
              "      <td>OR</td>\n",
              "      <td>NaN</td>\n",
              "      <td>Tillamook</td>\n",
              "      <td>10825</td>\n",
              "      <td>392200</td>\n",
              "    </tr>\n",
              "  </tbody>\n",
              "</table>\n",
              "<p>10830 rows × 8 columns</p>\n",
              "</div>"
            ],
            "text/plain": [
              "             Date  RegionID    RegionName  ...        County SizeRank    Zhvi\n",
              "9851   2017-05-31     48458      Westport  ...  Grays Harbor     9851  144600\n",
              "4996   2017-05-31     36873          Elma  ...  Grays Harbor     4996  175200\n",
              "5090   2017-05-31     35514       Hoquiam  ...  Grays Harbor     5090   95700\n",
              "9401   2017-05-31     33215  Ocean Shores  ...  Grays Harbor     9401  152400\n",
              "9149   2017-05-31     18370      Grayland  ...  Grays Harbor     9149  143900\n",
              "...           ...       ...           ...  ...           ...      ...     ...\n",
              "10764  2017-05-31     35349        Fraser  ...         Grand    10764  274500\n",
              "10768  2017-05-31     17816       Dresser  ...          Polk    10768  189900\n",
              "10774  2017-05-31     34232      Tamworth  ...       Carroll    10774  164100\n",
              "10822  2017-05-31     18317     Goldsboro  ...      Caroline    10822  175700\n",
              "10825  2017-05-31     26077       Nehalem  ...     Tillamook    10825  392200\n",
              "\n",
              "[10830 rows x 8 columns]"
            ]
          },
          "metadata": {
            "tags": []
          },
          "execution_count": 5
        }
      ]
    },
    {
      "cell_type": "markdown",
      "metadata": {
        "id": "IGuCXY5AKOq8"
      },
      "source": [
        "If you notice , by default the Date column is sorted in ascending order. We can chnage the sorting order, giving the ascending parameter the value of False."
      ]
    },
    {
      "cell_type": "code",
      "metadata": {
        "id": "ET0FqfLxKd2o"
      },
      "source": [
        "sorted = data.sort_values('Metro', ascending=False)"
      ],
      "execution_count": 6,
      "outputs": []
    },
    {
      "cell_type": "markdown",
      "metadata": {
        "id": "xJaNFBfbKlKK"
      },
      "source": [
        "The ascending parameter is optional, and when not passed, it is set to True by default. Now we will look into how to sort data by more than 1 column. To do this we need to pass the list of columns, by which we want our data to be sorted, to the parameter column of the sort_values method."
      ]
    },
    {
      "cell_type": "code",
      "metadata": {
        "colab": {
          "base_uri": "https://localhost:8080/",
          "height": 203
        },
        "id": "XTQfEE7EK3X2",
        "outputId": "0a148188-9cf0-4574-be97-60c52d712431"
      },
      "source": [
        "sorted = data.sort_values(by=['Metro', 'County'])\n",
        "sorted.head()"
      ],
      "execution_count": 9,
      "outputs": [
        {
          "output_type": "execute_result",
          "data": {
            "text/html": [
              "<div>\n",
              "<style scoped>\n",
              "    .dataframe tbody tr th:only-of-type {\n",
              "        vertical-align: middle;\n",
              "    }\n",
              "\n",
              "    .dataframe tbody tr th {\n",
              "        vertical-align: top;\n",
              "    }\n",
              "\n",
              "    .dataframe thead th {\n",
              "        text-align: right;\n",
              "    }\n",
              "</style>\n",
              "<table border=\"1\" class=\"dataframe\">\n",
              "  <thead>\n",
              "    <tr style=\"text-align: right;\">\n",
              "      <th></th>\n",
              "      <th>Date</th>\n",
              "      <th>RegionID</th>\n",
              "      <th>RegionName</th>\n",
              "      <th>State</th>\n",
              "      <th>Metro</th>\n",
              "      <th>County</th>\n",
              "      <th>SizeRank</th>\n",
              "      <th>Zhvi</th>\n",
              "    </tr>\n",
              "  </thead>\n",
              "  <tbody>\n",
              "    <tr>\n",
              "      <th>2073</th>\n",
              "      <td>2017-05-31</td>\n",
              "      <td>30116</td>\n",
              "      <td>Aberdeen</td>\n",
              "      <td>WA</td>\n",
              "      <td>Aberdeen</td>\n",
              "      <td>Grays Harbor</td>\n",
              "      <td>2073</td>\n",
              "      <td>127800</td>\n",
              "    </tr>\n",
              "    <tr>\n",
              "      <th>4568</th>\n",
              "      <td>2017-05-31</td>\n",
              "      <td>56078</td>\n",
              "      <td>Montesano</td>\n",
              "      <td>WA</td>\n",
              "      <td>Aberdeen</td>\n",
              "      <td>Grays Harbor</td>\n",
              "      <td>4568</td>\n",
              "      <td>182000</td>\n",
              "    </tr>\n",
              "    <tr>\n",
              "      <th>4996</th>\n",
              "      <td>2017-05-31</td>\n",
              "      <td>36873</td>\n",
              "      <td>Elma</td>\n",
              "      <td>WA</td>\n",
              "      <td>Aberdeen</td>\n",
              "      <td>Grays Harbor</td>\n",
              "      <td>4996</td>\n",
              "      <td>175200</td>\n",
              "    </tr>\n",
              "    <tr>\n",
              "      <th>5090</th>\n",
              "      <td>2017-05-31</td>\n",
              "      <td>35514</td>\n",
              "      <td>Hoquiam</td>\n",
              "      <td>WA</td>\n",
              "      <td>Aberdeen</td>\n",
              "      <td>Grays Harbor</td>\n",
              "      <td>5090</td>\n",
              "      <td>95700</td>\n",
              "    </tr>\n",
              "    <tr>\n",
              "      <th>7108</th>\n",
              "      <td>2017-05-31</td>\n",
              "      <td>6275</td>\n",
              "      <td>Oakville</td>\n",
              "      <td>WA</td>\n",
              "      <td>Aberdeen</td>\n",
              "      <td>Grays Harbor</td>\n",
              "      <td>7108</td>\n",
              "      <td>186900</td>\n",
              "    </tr>\n",
              "  </tbody>\n",
              "</table>\n",
              "</div>"
            ],
            "text/plain": [
              "            Date  RegionID RegionName  ...        County SizeRank    Zhvi\n",
              "2073  2017-05-31     30116   Aberdeen  ...  Grays Harbor     2073  127800\n",
              "4568  2017-05-31     56078  Montesano  ...  Grays Harbor     4568  182000\n",
              "4996  2017-05-31     36873       Elma  ...  Grays Harbor     4996  175200\n",
              "5090  2017-05-31     35514    Hoquiam  ...  Grays Harbor     5090   95700\n",
              "7108  2017-05-31      6275   Oakville  ...  Grays Harbor     7108  186900\n",
              "\n",
              "[5 rows x 8 columns]"
            ]
          },
          "metadata": {
            "tags": []
          },
          "execution_count": 9
        }
      ]
    },
    {
      "cell_type": "markdown",
      "metadata": {
        "id": "vGngC9BLLK27"
      },
      "source": [
        "The data has now been sorted by Metro first and then County column, that is in the same order that we passed them into the sort_values method. We can take the multiple column sort further, and introduce a mixed ascending order. For example, we can sort by 3 columns: Metro, County and the Price column."
      ]
    },
    {
      "cell_type": "code",
      "metadata": {
        "colab": {
          "base_uri": "https://localhost:8080/",
          "height": 203
        },
        "id": "3ZKfjS4FLiL6",
        "outputId": "51dbd2f6-f75a-43d8-f103-7cd5f2aefba0"
      },
      "source": [
        "sorted = data.sort_values(by=['Metro', 'County', 'Zhvi'], ascending=[True, True, False])\n",
        "sorted.head()"
      ],
      "execution_count": 10,
      "outputs": [
        {
          "output_type": "execute_result",
          "data": {
            "text/html": [
              "<div>\n",
              "<style scoped>\n",
              "    .dataframe tbody tr th:only-of-type {\n",
              "        vertical-align: middle;\n",
              "    }\n",
              "\n",
              "    .dataframe tbody tr th {\n",
              "        vertical-align: top;\n",
              "    }\n",
              "\n",
              "    .dataframe thead th {\n",
              "        text-align: right;\n",
              "    }\n",
              "</style>\n",
              "<table border=\"1\" class=\"dataframe\">\n",
              "  <thead>\n",
              "    <tr style=\"text-align: right;\">\n",
              "      <th></th>\n",
              "      <th>Date</th>\n",
              "      <th>RegionID</th>\n",
              "      <th>RegionName</th>\n",
              "      <th>State</th>\n",
              "      <th>Metro</th>\n",
              "      <th>County</th>\n",
              "      <th>SizeRank</th>\n",
              "      <th>Zhvi</th>\n",
              "    </tr>\n",
              "  </thead>\n",
              "  <tbody>\n",
              "    <tr>\n",
              "      <th>7108</th>\n",
              "      <td>2017-05-31</td>\n",
              "      <td>6275</td>\n",
              "      <td>Oakville</td>\n",
              "      <td>WA</td>\n",
              "      <td>Aberdeen</td>\n",
              "      <td>Grays Harbor</td>\n",
              "      <td>7108</td>\n",
              "      <td>186900</td>\n",
              "    </tr>\n",
              "    <tr>\n",
              "      <th>4568</th>\n",
              "      <td>2017-05-31</td>\n",
              "      <td>56078</td>\n",
              "      <td>Montesano</td>\n",
              "      <td>WA</td>\n",
              "      <td>Aberdeen</td>\n",
              "      <td>Grays Harbor</td>\n",
              "      <td>4568</td>\n",
              "      <td>182000</td>\n",
              "    </tr>\n",
              "    <tr>\n",
              "      <th>4996</th>\n",
              "      <td>2017-05-31</td>\n",
              "      <td>36873</td>\n",
              "      <td>Elma</td>\n",
              "      <td>WA</td>\n",
              "      <td>Aberdeen</td>\n",
              "      <td>Grays Harbor</td>\n",
              "      <td>4996</td>\n",
              "      <td>175200</td>\n",
              "    </tr>\n",
              "    <tr>\n",
              "      <th>8420</th>\n",
              "      <td>2017-05-31</td>\n",
              "      <td>19269</td>\n",
              "      <td>McCleary</td>\n",
              "      <td>WA</td>\n",
              "      <td>Aberdeen</td>\n",
              "      <td>Grays Harbor</td>\n",
              "      <td>8420</td>\n",
              "      <td>170700</td>\n",
              "    </tr>\n",
              "    <tr>\n",
              "      <th>9401</th>\n",
              "      <td>2017-05-31</td>\n",
              "      <td>33215</td>\n",
              "      <td>Ocean Shores</td>\n",
              "      <td>WA</td>\n",
              "      <td>Aberdeen</td>\n",
              "      <td>Grays Harbor</td>\n",
              "      <td>9401</td>\n",
              "      <td>152400</td>\n",
              "    </tr>\n",
              "  </tbody>\n",
              "</table>\n",
              "</div>"
            ],
            "text/plain": [
              "            Date  RegionID    RegionName  ...        County SizeRank    Zhvi\n",
              "7108  2017-05-31      6275      Oakville  ...  Grays Harbor     7108  186900\n",
              "4568  2017-05-31     56078     Montesano  ...  Grays Harbor     4568  182000\n",
              "4996  2017-05-31     36873          Elma  ...  Grays Harbor     4996  175200\n",
              "8420  2017-05-31     19269      McCleary  ...  Grays Harbor     8420  170700\n",
              "9401  2017-05-31     33215  Ocean Shores  ...  Grays Harbor     9401  152400\n",
              "\n",
              "[5 rows x 8 columns]"
            ]
          },
          "metadata": {
            "tags": []
          },
          "execution_count": 10
        }
      ]
    },
    {
      "cell_type": "markdown",
      "metadata": {
        "id": "ukqYlZX2Lujo"
      },
      "source": [
        "You must have noticed that we are passing a list of 3 Boolean values in ascending parameter. This sets the sort order to ascending for Metro, and County and descending fot the last column which is Zhvi."
      ]
    },
    {
      "cell_type": "markdown",
      "metadata": {
        "id": "6vtRC28BL-VC"
      },
      "source": [
        "Next we will see how to sort a series object. First, let's create a series. Let's select the RegionID column from our dataset and create a series."
      ]
    },
    {
      "cell_type": "code",
      "metadata": {
        "colab": {
          "base_uri": "https://localhost:8080/"
        },
        "id": "fcsgY6QrMJn-",
        "outputId": "30badbf5-5601-404d-8d45-a3abe9972963"
      },
      "source": [
        "regions= data.RegionID\n",
        "type(regions)"
      ],
      "execution_count": 11,
      "outputs": [
        {
          "output_type": "execute_result",
          "data": {
            "text/plain": [
              "pandas.core.series.Series"
            ]
          },
          "metadata": {
            "tags": []
          },
          "execution_count": 11
        }
      ]
    },
    {
      "cell_type": "code",
      "metadata": {
        "colab": {
          "base_uri": "https://localhost:8080/"
        },
        "id": "Ee7k9SvgMRJk",
        "outputId": "e203b33d-b044-4cb6-cf00-ed1cce0bb424"
      },
      "source": [
        "# Now let;s look that the original series by using regions.head()\n",
        "regions.head()"
      ],
      "execution_count": 12,
      "outputs": [
        {
          "output_type": "execute_result",
          "data": {
            "text/plain": [
              "0     6181\n",
              "1    12447\n",
              "2    17426\n",
              "3    13271\n",
              "4    40326\n",
              "Name: RegionID, dtype: int64"
            ]
          },
          "metadata": {
            "tags": []
          },
          "execution_count": 12
        }
      ]
    },
    {
      "cell_type": "markdown",
      "metadata": {
        "id": "Ip1gmAglMZO9"
      },
      "source": [
        "Now let's sort it by calling the sort_values method on it. Since the dataset contains only 1 column, we do not need to pass any column name. Hence, the code to sort the data would be regions.sort_values().head()."
      ]
    },
    {
      "cell_type": "code",
      "metadata": {
        "colab": {
          "base_uri": "https://localhost:8080/"
        },
        "id": "E8A32aUxMqOn",
        "outputId": "78d20b80-8ce5-4740-e4b4-a576ef4fa344"
      },
      "source": [
        "regions.sort_values().head()"
      ],
      "execution_count": 13,
      "outputs": [
        {
          "output_type": "execute_result",
          "data": {
            "text/plain": [
              "3043    3301\n",
              "4159    3304\n",
              "4986    3305\n",
              "1762    3310\n",
              "3116    3312\n",
              "Name: RegionID, dtype: int64"
            ]
          },
          "metadata": {
            "tags": []
          },
          "execution_count": 13
        }
      ]
    },
    {
      "cell_type": "markdown",
      "metadata": {
        "id": "pJ-52n3iM-2w"
      },
      "source": [
        "**Filtering rows of a pandas DataFrame**\n",
        "\n",
        "In this video, we will learn about methods for filtering rows and columns from a pandas DataFrame, we will introduce a couple of ways to accomplish this. We will also leran about pandas' filter method, and how to use it on our real dataset, as well as ways to protect data based on a Boolean series that we will create from our data. We will also learn how to pass the conditions directly to the DataFrame for filerting the data.\n",
        "\n",
        "\n",
        "First we will explore the pandas'filter method for filtering data. We can filter columns using filter method. To do this we need to pass columns as a list to the filter method's items parameter."
      ]
    },
    {
      "cell_type": "code",
      "metadata": {
        "colab": {
          "base_uri": "https://localhost:8080/",
          "height": 203
        },
        "id": "h3bsC8tWNtmR",
        "outputId": "2c0754a2-cd84-4ed0-8012-b2c9092c2bff"
      },
      "source": [
        "filtered_data = data.filter(items=['State', 'Metro'])\n",
        "filtered_data.head()"
      ],
      "execution_count": 14,
      "outputs": [
        {
          "output_type": "execute_result",
          "data": {
            "text/html": [
              "<div>\n",
              "<style scoped>\n",
              "    .dataframe tbody tr th:only-of-type {\n",
              "        vertical-align: middle;\n",
              "    }\n",
              "\n",
              "    .dataframe tbody tr th {\n",
              "        vertical-align: top;\n",
              "    }\n",
              "\n",
              "    .dataframe thead th {\n",
              "        text-align: right;\n",
              "    }\n",
              "</style>\n",
              "<table border=\"1\" class=\"dataframe\">\n",
              "  <thead>\n",
              "    <tr style=\"text-align: right;\">\n",
              "      <th></th>\n",
              "      <th>State</th>\n",
              "      <th>Metro</th>\n",
              "    </tr>\n",
              "  </thead>\n",
              "  <tbody>\n",
              "    <tr>\n",
              "      <th>0</th>\n",
              "      <td>NY</td>\n",
              "      <td>New York</td>\n",
              "    </tr>\n",
              "    <tr>\n",
              "      <th>1</th>\n",
              "      <td>CA</td>\n",
              "      <td>Los Angeles-Long Beach-Anaheim</td>\n",
              "    </tr>\n",
              "    <tr>\n",
              "      <th>2</th>\n",
              "      <td>IL</td>\n",
              "      <td>Chicago</td>\n",
              "    </tr>\n",
              "    <tr>\n",
              "      <th>3</th>\n",
              "      <td>PA</td>\n",
              "      <td>Philadelphia</td>\n",
              "    </tr>\n",
              "    <tr>\n",
              "      <th>4</th>\n",
              "      <td>AZ</td>\n",
              "      <td>Phoenix</td>\n",
              "    </tr>\n",
              "  </tbody>\n",
              "</table>\n",
              "</div>"
            ],
            "text/plain": [
              "  State                           Metro\n",
              "0    NY                        New York\n",
              "1    CA  Los Angeles-Long Beach-Anaheim\n",
              "2    IL                         Chicago\n",
              "3    PA                    Philadelphia\n",
              "4    AZ                         Phoenix"
            ]
          },
          "metadata": {
            "tags": []
          },
          "execution_count": 14
        }
      ]
    },
    {
      "cell_type": "markdown",
      "metadata": {
        "id": "V35oCvUlN6DO"
      },
      "source": [
        "As you can see from the above result, we did filter columns by State and Metro and created a new DataFrame with the values from the filter columns. We then display the filter data using the head method. Next we will use the filter method to filter columns names using regular expressions. This is done by passing our regular expression to the regex parameter."
      ]
    },
    {
      "cell_type": "code",
      "metadata": {
        "colab": {
          "base_uri": "https://localhost:8080/",
          "height": 203
        },
        "id": "dv4DDNETN5ns",
        "outputId": "c6876f31-2fa8-48f9-ba43-ec486d1526dc"
      },
      "source": [
        "filtered_data = data.filter(regex='Region', axis=1)\n",
        "filtered_data.head()"
      ],
      "execution_count": 15,
      "outputs": [
        {
          "output_type": "execute_result",
          "data": {
            "text/html": [
              "<div>\n",
              "<style scoped>\n",
              "    .dataframe tbody tr th:only-of-type {\n",
              "        vertical-align: middle;\n",
              "    }\n",
              "\n",
              "    .dataframe tbody tr th {\n",
              "        vertical-align: top;\n",
              "    }\n",
              "\n",
              "    .dataframe thead th {\n",
              "        text-align: right;\n",
              "    }\n",
              "</style>\n",
              "<table border=\"1\" class=\"dataframe\">\n",
              "  <thead>\n",
              "    <tr style=\"text-align: right;\">\n",
              "      <th></th>\n",
              "      <th>RegionID</th>\n",
              "      <th>RegionName</th>\n",
              "    </tr>\n",
              "  </thead>\n",
              "  <tbody>\n",
              "    <tr>\n",
              "      <th>0</th>\n",
              "      <td>6181</td>\n",
              "      <td>New York</td>\n",
              "    </tr>\n",
              "    <tr>\n",
              "      <th>1</th>\n",
              "      <td>12447</td>\n",
              "      <td>Los Angeles</td>\n",
              "    </tr>\n",
              "    <tr>\n",
              "      <th>2</th>\n",
              "      <td>17426</td>\n",
              "      <td>Chicago</td>\n",
              "    </tr>\n",
              "    <tr>\n",
              "      <th>3</th>\n",
              "      <td>13271</td>\n",
              "      <td>Philadelphia</td>\n",
              "    </tr>\n",
              "    <tr>\n",
              "      <th>4</th>\n",
              "      <td>40326</td>\n",
              "      <td>Phoenix</td>\n",
              "    </tr>\n",
              "  </tbody>\n",
              "</table>\n",
              "</div>"
            ],
            "text/plain": [
              "   RegionID    RegionName\n",
              "0      6181      New York\n",
              "1     12447   Los Angeles\n",
              "2     17426       Chicago\n",
              "3     13271  Philadelphia\n",
              "4     40326       Phoenix"
            ]
          },
          "metadata": {
            "tags": []
          },
          "execution_count": 15
        }
      ]
    },
    {
      "cell_type": "markdown",
      "metadata": {
        "id": "pJkcktIIOX7S"
      },
      "source": [
        "The filter method is not the only way to filter data. To filter rows, we can use some interesting techniques. First we will create a series of Boolean values. The Boolean value series is based on the price value column from our dataset. We are choosing to select rows that have lues of more than 500000"
      ]
    },
    {
      "cell_type": "code",
      "metadata": {
        "colab": {
          "base_uri": "https://localhost:8080/"
        },
        "id": "CqBgL6GAOswO",
        "outputId": "d2584b4f-3187-438f-f7f8-a29a63e7f66f"
      },
      "source": [
        "price_filter_series = data['Zhvi'] > 500000\n",
        "price_filter_series.head()"
      ],
      "execution_count": 16,
      "outputs": [
        {
          "output_type": "execute_result",
          "data": {
            "text/plain": [
              "0     True\n",
              "1     True\n",
              "2    False\n",
              "3    False\n",
              "4    False\n",
              "Name: Zhvi, dtype: bool"
            ]
          },
          "metadata": {
            "tags": []
          },
          "execution_count": 16
        }
      ]
    },
    {
      "cell_type": "markdown",
      "metadata": {
        "id": "vfjvvayRO3DE"
      },
      "source": [
        "The True values are those that match our condition, that is they stand for rows where the price is higher than 500000. Next we will use this Boolen series to filter the rows from our complete dataset, and get only those values that have a price higher than 500000. To do this we will pass the Boolena series to the dataset DataFrame in square brackets."
      ]
    },
    {
      "cell_type": "code",
      "metadata": {
        "colab": {
          "base_uri": "https://localhost:8080/",
          "height": 203
        },
        "id": "cKYDuE_2PPnn",
        "outputId": "3aaa379e-3c36-4e89-b63f-71633c13d1a6"
      },
      "source": [
        "data[price_filter_series].head()"
      ],
      "execution_count": 17,
      "outputs": [
        {
          "output_type": "execute_result",
          "data": {
            "text/html": [
              "<div>\n",
              "<style scoped>\n",
              "    .dataframe tbody tr th:only-of-type {\n",
              "        vertical-align: middle;\n",
              "    }\n",
              "\n",
              "    .dataframe tbody tr th {\n",
              "        vertical-align: top;\n",
              "    }\n",
              "\n",
              "    .dataframe thead th {\n",
              "        text-align: right;\n",
              "    }\n",
              "</style>\n",
              "<table border=\"1\" class=\"dataframe\">\n",
              "  <thead>\n",
              "    <tr style=\"text-align: right;\">\n",
              "      <th></th>\n",
              "      <th>Date</th>\n",
              "      <th>RegionID</th>\n",
              "      <th>RegionName</th>\n",
              "      <th>State</th>\n",
              "      <th>Metro</th>\n",
              "      <th>County</th>\n",
              "      <th>SizeRank</th>\n",
              "      <th>Zhvi</th>\n",
              "    </tr>\n",
              "  </thead>\n",
              "  <tbody>\n",
              "    <tr>\n",
              "      <th>0</th>\n",
              "      <td>2017-05-31</td>\n",
              "      <td>6181</td>\n",
              "      <td>New York</td>\n",
              "      <td>NY</td>\n",
              "      <td>New York</td>\n",
              "      <td>Queens</td>\n",
              "      <td>0</td>\n",
              "      <td>672400</td>\n",
              "    </tr>\n",
              "    <tr>\n",
              "      <th>1</th>\n",
              "      <td>2017-05-31</td>\n",
              "      <td>12447</td>\n",
              "      <td>Los Angeles</td>\n",
              "      <td>CA</td>\n",
              "      <td>Los Angeles-Long Beach-Anaheim</td>\n",
              "      <td>Los Angeles</td>\n",
              "      <td>1</td>\n",
              "      <td>629900</td>\n",
              "    </tr>\n",
              "    <tr>\n",
              "      <th>6</th>\n",
              "      <td>2017-05-31</td>\n",
              "      <td>54296</td>\n",
              "      <td>San Diego</td>\n",
              "      <td>CA</td>\n",
              "      <td>San Diego</td>\n",
              "      <td>San Diego</td>\n",
              "      <td>6</td>\n",
              "      <td>572100</td>\n",
              "    </tr>\n",
              "    <tr>\n",
              "      <th>8</th>\n",
              "      <td>2017-05-31</td>\n",
              "      <td>33839</td>\n",
              "      <td>San Jose</td>\n",
              "      <td>CA</td>\n",
              "      <td>San Jose</td>\n",
              "      <td>Santa Clara</td>\n",
              "      <td>8</td>\n",
              "      <td>877400</td>\n",
              "    </tr>\n",
              "    <tr>\n",
              "      <th>10</th>\n",
              "      <td>2017-05-31</td>\n",
              "      <td>20330</td>\n",
              "      <td>San Francisco</td>\n",
              "      <td>CA</td>\n",
              "      <td>San Francisco</td>\n",
              "      <td>San Francisco</td>\n",
              "      <td>10</td>\n",
              "      <td>1194300</td>\n",
              "    </tr>\n",
              "  </tbody>\n",
              "</table>\n",
              "</div>"
            ],
            "text/plain": [
              "          Date  RegionID     RegionName  ...         County SizeRank     Zhvi\n",
              "0   2017-05-31      6181       New York  ...         Queens        0   672400\n",
              "1   2017-05-31     12447    Los Angeles  ...    Los Angeles        1   629900\n",
              "6   2017-05-31     54296      San Diego  ...      San Diego        6   572100\n",
              "8   2017-05-31     33839       San Jose  ...    Santa Clara        8   877400\n",
              "10  2017-05-31     20330  San Francisco  ...  San Francisco       10  1194300\n",
              "\n",
              "[5 rows x 8 columns]"
            ]
          },
          "metadata": {
            "tags": []
          },
          "execution_count": 17
        }
      ]
    },
    {
      "cell_type": "markdown",
      "metadata": {
        "id": "tLRgVWv2PXN5"
      },
      "source": [
        "The other way to filter a dataset without explicitly creating a Boolena series is by passing the condition for the values we want to the DataFrame directly. For example, imagine that we want to filter and select only rows where the house price is higher than or equal to 100000."
      ]
    },
    {
      "cell_type": "code",
      "metadata": {
        "colab": {
          "base_uri": "https://localhost:8080/",
          "height": 203
        },
        "id": "knbUG06vPoLt",
        "outputId": "30014afe-5a17-4deb-ad12-a66e3aba53bd"
      },
      "source": [
        "data[data.Zhvi >= 100000].head()"
      ],
      "execution_count": 18,
      "outputs": [
        {
          "output_type": "execute_result",
          "data": {
            "text/html": [
              "<div>\n",
              "<style scoped>\n",
              "    .dataframe tbody tr th:only-of-type {\n",
              "        vertical-align: middle;\n",
              "    }\n",
              "\n",
              "    .dataframe tbody tr th {\n",
              "        vertical-align: top;\n",
              "    }\n",
              "\n",
              "    .dataframe thead th {\n",
              "        text-align: right;\n",
              "    }\n",
              "</style>\n",
              "<table border=\"1\" class=\"dataframe\">\n",
              "  <thead>\n",
              "    <tr style=\"text-align: right;\">\n",
              "      <th></th>\n",
              "      <th>Date</th>\n",
              "      <th>RegionID</th>\n",
              "      <th>RegionName</th>\n",
              "      <th>State</th>\n",
              "      <th>Metro</th>\n",
              "      <th>County</th>\n",
              "      <th>SizeRank</th>\n",
              "      <th>Zhvi</th>\n",
              "    </tr>\n",
              "  </thead>\n",
              "  <tbody>\n",
              "    <tr>\n",
              "      <th>0</th>\n",
              "      <td>2017-05-31</td>\n",
              "      <td>6181</td>\n",
              "      <td>New York</td>\n",
              "      <td>NY</td>\n",
              "      <td>New York</td>\n",
              "      <td>Queens</td>\n",
              "      <td>0</td>\n",
              "      <td>672400</td>\n",
              "    </tr>\n",
              "    <tr>\n",
              "      <th>1</th>\n",
              "      <td>2017-05-31</td>\n",
              "      <td>12447</td>\n",
              "      <td>Los Angeles</td>\n",
              "      <td>CA</td>\n",
              "      <td>Los Angeles-Long Beach-Anaheim</td>\n",
              "      <td>Los Angeles</td>\n",
              "      <td>1</td>\n",
              "      <td>629900</td>\n",
              "    </tr>\n",
              "    <tr>\n",
              "      <th>2</th>\n",
              "      <td>2017-05-31</td>\n",
              "      <td>17426</td>\n",
              "      <td>Chicago</td>\n",
              "      <td>IL</td>\n",
              "      <td>Chicago</td>\n",
              "      <td>Cook</td>\n",
              "      <td>2</td>\n",
              "      <td>222700</td>\n",
              "    </tr>\n",
              "    <tr>\n",
              "      <th>3</th>\n",
              "      <td>2017-05-31</td>\n",
              "      <td>13271</td>\n",
              "      <td>Philadelphia</td>\n",
              "      <td>PA</td>\n",
              "      <td>Philadelphia</td>\n",
              "      <td>Philadelphia</td>\n",
              "      <td>3</td>\n",
              "      <td>137300</td>\n",
              "    </tr>\n",
              "    <tr>\n",
              "      <th>4</th>\n",
              "      <td>2017-05-31</td>\n",
              "      <td>40326</td>\n",
              "      <td>Phoenix</td>\n",
              "      <td>AZ</td>\n",
              "      <td>Phoenix</td>\n",
              "      <td>Maricopa</td>\n",
              "      <td>4</td>\n",
              "      <td>211300</td>\n",
              "    </tr>\n",
              "  </tbody>\n",
              "</table>\n",
              "</div>"
            ],
            "text/plain": [
              "         Date  RegionID    RegionName  ...        County SizeRank    Zhvi\n",
              "0  2017-05-31      6181      New York  ...        Queens        0  672400\n",
              "1  2017-05-31     12447   Los Angeles  ...   Los Angeles        1  629900\n",
              "2  2017-05-31     17426       Chicago  ...          Cook        2  222700\n",
              "3  2017-05-31     13271  Philadelphia  ...  Philadelphia        3  137300\n",
              "4  2017-05-31     40326       Phoenix  ...      Maricopa        4  211300\n",
              "\n",
              "[5 rows x 8 columns]"
            ]
          },
          "metadata": {
            "tags": []
          },
          "execution_count": 18
        }
      ]
    }
  ]
}